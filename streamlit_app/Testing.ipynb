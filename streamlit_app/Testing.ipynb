{
 "cells": [
  {
   "cell_type": "code",
   "execution_count": 1,
   "id": "a50cf956",
   "metadata": {},
   "outputs": [],
   "source": [
    "import networkx as nx\n",
    "import matplotlib.pyplot as plt \n",
    "import pandas as pd\n",
    "import seaborn as sns\n",
    "import logging\n",
    "import numpy as np\n",
    "import geopandas as gpd\n",
    "from geopy.geocoders import Nominatim\n",
    "from shapely.wkt import loads\n",
    "from scipy.spatial.distance import cdist\n",
    "\n",
    "import plotly.graph_objects as go\n",
    "\n",
    "# Let's brag about digital twins ;)\n",
    "\n",
    "import sgp_dt as dt\n"
   ]
  },
  {
   "cell_type": "code",
   "execution_count": 3,
   "id": "70c37739",
   "metadata": {},
   "outputs": [],
   "source": [
    "# to play with the lib in real time\n",
    "%load_ext autoreload \n",
    "%autoreload 2"
   ]
  },
  {
   "cell_type": "markdown",
   "id": "bf97bfc8",
   "metadata": {},
   "source": [
    "# Checking what we have in the network"
   ]
  },
  {
   "cell_type": "code",
   "execution_count": 6,
   "id": "ca7e7333",
   "metadata": {},
   "outputs": [
    {
     "data": {
      "text/html": [
       "<div>\n",
       "<style scoped>\n",
       "    .dataframe tbody tr th:only-of-type {\n",
       "        vertical-align: middle;\n",
       "    }\n",
       "\n",
       "    .dataframe tbody tr th {\n",
       "        vertical-align: top;\n",
       "    }\n",
       "\n",
       "    .dataframe thead th {\n",
       "        text-align: right;\n",
       "    }\n",
       "</style>\n",
       "<table border=\"1\" class=\"dataframe\">\n",
       "  <thead>\n",
       "    <tr style=\"text-align: right;\">\n",
       "      <th></th>\n",
       "      <th>osm_id</th>\n",
       "      <th>code</th>\n",
       "      <th>fclass</th>\n",
       "      <th>name</th>\n",
       "      <th>ref</th>\n",
       "      <th>oneway</th>\n",
       "      <th>maxspeed</th>\n",
       "      <th>layer</th>\n",
       "      <th>bridge</th>\n",
       "      <th>tunnel</th>\n",
       "      <th>Length</th>\n",
       "      <th>Lamps20m</th>\n",
       "      <th>CCTV20mRE</th>\n",
       "      <th>Trees20m</th>\n",
       "      <th>geometry</th>\n",
       "    </tr>\n",
       "  </thead>\n",
       "  <tbody>\n",
       "    <tr>\n",
       "      <th>0</th>\n",
       "      <td>1</td>\n",
       "      <td>5115</td>\n",
       "      <td>tertiary</td>\n",
       "      <td>Keng Lee Road</td>\n",
       "      <td>None</td>\n",
       "      <td>F</td>\n",
       "      <td>50</td>\n",
       "      <td>0</td>\n",
       "      <td>F</td>\n",
       "      <td>F</td>\n",
       "      <td>100.099656</td>\n",
       "      <td>4</td>\n",
       "      <td>0</td>\n",
       "      <td>74</td>\n",
       "      <td>LINESTRING (103.84379 1.31370, 103.84468 1.31383)</td>\n",
       "    </tr>\n",
       "    <tr>\n",
       "      <th>1</th>\n",
       "      <td>2</td>\n",
       "      <td>5115</td>\n",
       "      <td>tertiary</td>\n",
       "      <td>Keng Lee Road</td>\n",
       "      <td>None</td>\n",
       "      <td>F</td>\n",
       "      <td>50</td>\n",
       "      <td>0</td>\n",
       "      <td>F</td>\n",
       "      <td>F</td>\n",
       "      <td>38.075346</td>\n",
       "      <td>4</td>\n",
       "      <td>0</td>\n",
       "      <td>25</td>\n",
       "      <td>LINESTRING (103.84468 1.31383, 103.84495 1.313...</td>\n",
       "    </tr>\n",
       "    <tr>\n",
       "      <th>2</th>\n",
       "      <td>3</td>\n",
       "      <td>5153</td>\n",
       "      <td>footway</td>\n",
       "      <td>None</td>\n",
       "      <td>None</td>\n",
       "      <td>B</td>\n",
       "      <td>0</td>\n",
       "      <td>0</td>\n",
       "      <td>F</td>\n",
       "      <td>F</td>\n",
       "      <td>99.549892</td>\n",
       "      <td>1</td>\n",
       "      <td>0</td>\n",
       "      <td>8</td>\n",
       "      <td>LINESTRING (103.84083 1.31463, 103.84115 1.31379)</td>\n",
       "    </tr>\n",
       "    <tr>\n",
       "      <th>3</th>\n",
       "      <td>4</td>\n",
       "      <td>5153</td>\n",
       "      <td>footway</td>\n",
       "      <td>None</td>\n",
       "      <td>None</td>\n",
       "      <td>B</td>\n",
       "      <td>0</td>\n",
       "      <td>0</td>\n",
       "      <td>F</td>\n",
       "      <td>F</td>\n",
       "      <td>39.468936</td>\n",
       "      <td>2</td>\n",
       "      <td>0</td>\n",
       "      <td>12</td>\n",
       "      <td>LINESTRING (103.84115 1.31379, 103.84126 1.313...</td>\n",
       "    </tr>\n",
       "    <tr>\n",
       "      <th>4</th>\n",
       "      <td>5</td>\n",
       "      <td>5153</td>\n",
       "      <td>footway</td>\n",
       "      <td>None</td>\n",
       "      <td>None</td>\n",
       "      <td>B</td>\n",
       "      <td>0</td>\n",
       "      <td>0</td>\n",
       "      <td>F</td>\n",
       "      <td>F</td>\n",
       "      <td>8.235514</td>\n",
       "      <td>2</td>\n",
       "      <td>0</td>\n",
       "      <td>17</td>\n",
       "      <td>LINESTRING (103.84128 1.31346, 103.84132 1.31340)</td>\n",
       "    </tr>\n",
       "    <tr>\n",
       "      <th>...</th>\n",
       "      <td>...</td>\n",
       "      <td>...</td>\n",
       "      <td>...</td>\n",
       "      <td>...</td>\n",
       "      <td>...</td>\n",
       "      <td>...</td>\n",
       "      <td>...</td>\n",
       "      <td>...</td>\n",
       "      <td>...</td>\n",
       "      <td>...</td>\n",
       "      <td>...</td>\n",
       "      <td>...</td>\n",
       "      <td>...</td>\n",
       "      <td>...</td>\n",
       "      <td>...</td>\n",
       "    </tr>\n",
       "    <tr>\n",
       "      <th>51416</th>\n",
       "      <td>51417</td>\n",
       "      <td>5153</td>\n",
       "      <td>footway</td>\n",
       "      <td>None</td>\n",
       "      <td>None</td>\n",
       "      <td>B</td>\n",
       "      <td>0</td>\n",
       "      <td>0</td>\n",
       "      <td>F</td>\n",
       "      <td>F</td>\n",
       "      <td>35.922454</td>\n",
       "      <td>0</td>\n",
       "      <td>0</td>\n",
       "      <td>4</td>\n",
       "      <td>LINESTRING (103.84721 1.29759, 103.84738 1.297...</td>\n",
       "    </tr>\n",
       "    <tr>\n",
       "      <th>51417</th>\n",
       "      <td>51418</td>\n",
       "      <td>5153</td>\n",
       "      <td>footway</td>\n",
       "      <td>None</td>\n",
       "      <td>None</td>\n",
       "      <td>B</td>\n",
       "      <td>0</td>\n",
       "      <td>0</td>\n",
       "      <td>F</td>\n",
       "      <td>F</td>\n",
       "      <td>6.686514</td>\n",
       "      <td>0</td>\n",
       "      <td>0</td>\n",
       "      <td>2</td>\n",
       "      <td>LINESTRING (103.84721 1.29759, 103.84721 1.29753)</td>\n",
       "    </tr>\n",
       "    <tr>\n",
       "      <th>51418</th>\n",
       "      <td>51419</td>\n",
       "      <td>5153</td>\n",
       "      <td>footway</td>\n",
       "      <td>None</td>\n",
       "      <td>None</td>\n",
       "      <td>B</td>\n",
       "      <td>0</td>\n",
       "      <td>0</td>\n",
       "      <td>F</td>\n",
       "      <td>F</td>\n",
       "      <td>0.040900</td>\n",
       "      <td>0</td>\n",
       "      <td>0</td>\n",
       "      <td>2</td>\n",
       "      <td>LINESTRING (103.84721 1.29753, 103.84721 1.29753)</td>\n",
       "    </tr>\n",
       "    <tr>\n",
       "      <th>51419</th>\n",
       "      <td>51420</td>\n",
       "      <td>5153</td>\n",
       "      <td>footway</td>\n",
       "      <td>None</td>\n",
       "      <td>None</td>\n",
       "      <td>B</td>\n",
       "      <td>0</td>\n",
       "      <td>0</td>\n",
       "      <td>F</td>\n",
       "      <td>F</td>\n",
       "      <td>3.673968</td>\n",
       "      <td>0</td>\n",
       "      <td>0</td>\n",
       "      <td>3</td>\n",
       "      <td>LINESTRING (103.84721 1.29753, 103.84720 1.29750)</td>\n",
       "    </tr>\n",
       "    <tr>\n",
       "      <th>51420</th>\n",
       "      <td>51421</td>\n",
       "      <td>5155</td>\n",
       "      <td>steps</td>\n",
       "      <td>None</td>\n",
       "      <td>None</td>\n",
       "      <td>B</td>\n",
       "      <td>0</td>\n",
       "      <td>0</td>\n",
       "      <td>F</td>\n",
       "      <td>F</td>\n",
       "      <td>25.307608</td>\n",
       "      <td>2</td>\n",
       "      <td>0</td>\n",
       "      <td>12</td>\n",
       "      <td>LINESTRING (103.84689 1.29119, 103.84686 1.291...</td>\n",
       "    </tr>\n",
       "  </tbody>\n",
       "</table>\n",
       "<p>51421 rows × 15 columns</p>\n",
       "</div>"
      ],
      "text/plain": [
       "      osm_id  code    fclass           name   ref oneway  maxspeed  layer  \\\n",
       "0          1  5115  tertiary  Keng Lee Road  None      F        50      0   \n",
       "1          2  5115  tertiary  Keng Lee Road  None      F        50      0   \n",
       "2          3  5153   footway           None  None      B         0      0   \n",
       "3          4  5153   footway           None  None      B         0      0   \n",
       "4          5  5153   footway           None  None      B         0      0   \n",
       "...      ...   ...       ...            ...   ...    ...       ...    ...   \n",
       "51416  51417  5153   footway           None  None      B         0      0   \n",
       "51417  51418  5153   footway           None  None      B         0      0   \n",
       "51418  51419  5153   footway           None  None      B         0      0   \n",
       "51419  51420  5153   footway           None  None      B         0      0   \n",
       "51420  51421  5155     steps           None  None      B         0      0   \n",
       "\n",
       "      bridge tunnel      Length  Lamps20m  CCTV20mRE  Trees20m  \\\n",
       "0          F      F  100.099656         4          0        74   \n",
       "1          F      F   38.075346         4          0        25   \n",
       "2          F      F   99.549892         1          0         8   \n",
       "3          F      F   39.468936         2          0        12   \n",
       "4          F      F    8.235514         2          0        17   \n",
       "...      ...    ...         ...       ...        ...       ...   \n",
       "51416      F      F   35.922454         0          0         4   \n",
       "51417      F      F    6.686514         0          0         2   \n",
       "51418      F      F    0.040900         0          0         2   \n",
       "51419      F      F    3.673968         0          0         3   \n",
       "51420      F      F   25.307608         2          0        12   \n",
       "\n",
       "                                                geometry  \n",
       "0      LINESTRING (103.84379 1.31370, 103.84468 1.31383)  \n",
       "1      LINESTRING (103.84468 1.31383, 103.84495 1.313...  \n",
       "2      LINESTRING (103.84083 1.31463, 103.84115 1.31379)  \n",
       "3      LINESTRING (103.84115 1.31379, 103.84126 1.313...  \n",
       "4      LINESTRING (103.84128 1.31346, 103.84132 1.31340)  \n",
       "...                                                  ...  \n",
       "51416  LINESTRING (103.84721 1.29759, 103.84738 1.297...  \n",
       "51417  LINESTRING (103.84721 1.29759, 103.84721 1.29753)  \n",
       "51418  LINESTRING (103.84721 1.29753, 103.84721 1.29753)  \n",
       "51419  LINESTRING (103.84721 1.29753, 103.84720 1.29750)  \n",
       "51420  LINESTRING (103.84689 1.29119, 103.84686 1.291...  \n",
       "\n",
       "[51421 rows x 15 columns]"
      ]
     },
     "execution_count": 6,
     "metadata": {},
     "output_type": "execute_result"
    }
   ],
   "source": [
    "# For reference only, the geodataframe with all path\n",
    "fname = 'data/s4.zip'\n",
    "SLC = gpd.read_file(fname)\n",
    "SLC"
   ]
  },
  {
   "cell_type": "markdown",
   "id": "9d15ea00",
   "metadata": {},
   "source": [
    "#### With some stats"
   ]
  },
  {
   "cell_type": "code",
   "execution_count": 8,
   "id": "0d6eca06",
   "metadata": {},
   "outputs": [
    {
     "data": {
      "text/html": [
       "<div>\n",
       "<style scoped>\n",
       "    .dataframe tbody tr th:only-of-type {\n",
       "        vertical-align: middle;\n",
       "    }\n",
       "\n",
       "    .dataframe tbody tr th {\n",
       "        vertical-align: top;\n",
       "    }\n",
       "\n",
       "    .dataframe thead th {\n",
       "        text-align: right;\n",
       "    }\n",
       "</style>\n",
       "<table border=\"1\" class=\"dataframe\">\n",
       "  <thead>\n",
       "    <tr style=\"text-align: right;\">\n",
       "      <th></th>\n",
       "      <th>network</th>\n",
       "      <th>length (m)</th>\n",
       "      <th>number of segments</th>\n",
       "    </tr>\n",
       "  </thead>\n",
       "  <tbody>\n",
       "    <tr>\n",
       "      <th>0</th>\n",
       "      <td>cycleway</td>\n",
       "      <td>30173</td>\n",
       "      <td>781</td>\n",
       "    </tr>\n",
       "    <tr>\n",
       "      <th>1</th>\n",
       "      <td>footway</td>\n",
       "      <td>502033</td>\n",
       "      <td>20457</td>\n",
       "    </tr>\n",
       "    <tr>\n",
       "      <th>2</th>\n",
       "      <td>living_street</td>\n",
       "      <td>2058</td>\n",
       "      <td>87</td>\n",
       "    </tr>\n",
       "    <tr>\n",
       "      <th>3</th>\n",
       "      <td>path</td>\n",
       "      <td>10495</td>\n",
       "      <td>206</td>\n",
       "    </tr>\n",
       "    <tr>\n",
       "      <th>4</th>\n",
       "      <td>pedestrian</td>\n",
       "      <td>67048</td>\n",
       "      <td>3761</td>\n",
       "    </tr>\n",
       "    <tr>\n",
       "      <th>5</th>\n",
       "      <td>residential</td>\n",
       "      <td>175763</td>\n",
       "      <td>7926</td>\n",
       "    </tr>\n",
       "    <tr>\n",
       "      <th>6</th>\n",
       "      <td>secondary</td>\n",
       "      <td>52127</td>\n",
       "      <td>2074</td>\n",
       "    </tr>\n",
       "    <tr>\n",
       "      <th>7</th>\n",
       "      <td>secondary_link</td>\n",
       "      <td>1673</td>\n",
       "      <td>114</td>\n",
       "    </tr>\n",
       "    <tr>\n",
       "      <th>8</th>\n",
       "      <td>service</td>\n",
       "      <td>305331</td>\n",
       "      <td>13214</td>\n",
       "    </tr>\n",
       "    <tr>\n",
       "      <th>9</th>\n",
       "      <td>steps</td>\n",
       "      <td>8882</td>\n",
       "      <td>702</td>\n",
       "    </tr>\n",
       "    <tr>\n",
       "      <th>10</th>\n",
       "      <td>tertiary</td>\n",
       "      <td>41199</td>\n",
       "      <td>1800</td>\n",
       "    </tr>\n",
       "    <tr>\n",
       "      <th>11</th>\n",
       "      <td>tertiary_link</td>\n",
       "      <td>1362</td>\n",
       "      <td>86</td>\n",
       "    </tr>\n",
       "    <tr>\n",
       "      <th>12</th>\n",
       "      <td>track</td>\n",
       "      <td>118</td>\n",
       "      <td>2</td>\n",
       "    </tr>\n",
       "    <tr>\n",
       "      <th>13</th>\n",
       "      <td>track_grade2</td>\n",
       "      <td>979</td>\n",
       "      <td>19</td>\n",
       "    </tr>\n",
       "    <tr>\n",
       "      <th>14</th>\n",
       "      <td>unclassified</td>\n",
       "      <td>4623</td>\n",
       "      <td>192</td>\n",
       "    </tr>\n",
       "  </tbody>\n",
       "</table>\n",
       "</div>"
      ],
      "text/plain": [
       "           network  length (m)  number of segments\n",
       "0         cycleway       30173                 781\n",
       "1          footway      502033               20457\n",
       "2    living_street        2058                  87\n",
       "3             path       10495                 206\n",
       "4       pedestrian       67048                3761\n",
       "5      residential      175763                7926\n",
       "6        secondary       52127                2074\n",
       "7   secondary_link        1673                 114\n",
       "8          service      305331               13214\n",
       "9            steps        8882                 702\n",
       "10        tertiary       41199                1800\n",
       "11   tertiary_link        1362                  86\n",
       "12           track         118                   2\n",
       "13    track_grade2         979                  19\n",
       "14    unclassified        4623                 192"
      ]
     },
     "execution_count": 8,
     "metadata": {},
     "output_type": "execute_result"
    }
   ],
   "source": [
    "stats = SLC.groupby('fclass')['Length'].agg(['sum','count']).astype(int).reset_index()\n",
    "stats.columns = [\"network\",\"length (m)\",\"number of segments\"]\n",
    "stats"
   ]
  },
  {
   "cell_type": "markdown",
   "id": "017dc9aa",
   "metadata": {},
   "source": [
    "# Starting the streamlit"
   ]
  },
  {
   "cell_type": "code",
   "execution_count": 10,
   "id": "bbed94ea",
   "metadata": {},
   "outputs": [],
   "source": [
    "def loadShp(path):\n",
    "    # Reading the overall network\n",
    "    G= nx.readwrite.nx_shp.read_shp(path)\n",
    "    # Support to network identification\n",
    "    df_nodes = pd.read_csv(\"data/SG_nodes.txt\", index_col=0)\n",
    "    # Some cleaning necessary for csv loadup\n",
    "    dfNodes = pd.read_csv(\"data/dfNodes.csv.zip\")\n",
    "    dfNodes.Pos = dfNodes.Pos.apply(lambda x: eval(x))\n",
    "    dfEdges = pd.read_csv(\"data/dfEdges.csv.zip\") \n",
    "    dfEdges.geometry = dfEdges.geometry.apply(lambda x: loads(x.replace('\\'', '')))\n",
    "    # Additional layers  \n",
    "    gTrees = gpd.read_file('data/sTrees.zip') \n",
    "    gLamps = gpd.read_file('data/sLamps.zip') \n",
    "    gPark = gpd.read_file('data/sParks.zip') \n",
    "    gCCTV = gpd.read_file('data/sCCTV.zip') \n",
    "    return G, df_nodes, dfNodes, dfEdges, gTrees, gLamps, gPark, gCCTV\n",
    "\n",
    "# This call should be cached\n",
    "G, df_nodes, dfNodes, dfEdges, gTrees, gLamps, gPark, gCCTV = loadShp(\"data/s4/SingaporeLampsCCTVTrees.shp\")"
   ]
  },
  {
   "cell_type": "code",
   "execution_count": 11,
   "id": "42ea8c9a",
   "metadata": {},
   "outputs": [],
   "source": [
    "security   = 1 \n",
    "cctv_perf  = 5.0\n",
    "lamps_perf = 5.0\n",
    "trees_perf = 5.0\n",
    "#Different values for different types for paths\n",
    "footway     = 2.0\n",
    "residential = 1.5 \n",
    "steps       = 2.0\n",
    "\n",
    "UseDummyPoints = True\n",
    "\n",
    "if UseDummyPoints:\n",
    "    start,end = dt.getStartEnd(\"nop\", \"end\", df_nodes, dummy= UseDummyPoints)\n",
    "else:\n",
    "    start,end = dt.getStartEnd(start_point, end_point, df_nodes, dummy= UseDummyPoints)"
   ]
  },
  {
   "cell_type": "code",
   "execution_count": 22,
   "id": "34ed8aa7",
   "metadata": {},
   "outputs": [],
   "source": [
    "def get_weighted_graphTrees(G,security=1,cctv_perf=1000.0,lamps_perf=1000.0,trees_perf=1000.0):\n",
    "    \"\"\"\n",
    "    Takes a graph G as input and adds the weights\n",
    "    \"\"\"\n",
    "    weighted_G = nx.Graph()\n",
    "    for data in G.edges(data=True):\n",
    "        data=data\n",
    "        coord1 = data[0]\n",
    "        coord2 = data[1]\n",
    "\n",
    "        # ZE formula to tweak\n",
    "        data[2]['weight'] = data[2]['Length']\n",
    "        data[2]['weight'] = data[2]['weight'] * (1.0 + 0.1*data[2]['CCTV20mRE'] * cctv_perf )\n",
    "        data[2]['weight'] = data[2]['weight'] * (1.0 + 0.1*data[2]['Lamps20m']  * lamps_perf) \n",
    "        data[2]['weight'] = data[2]['weight'] * (1.0 + 0.1*data[2]['Trees20m']  * trees_perf) \n",
    "\n",
    "        # It is adapted for pedestrians ?\n",
    "        relativeEase = 1.0\n",
    "        if data[2]['fclass'] == \"pedestrian\":\n",
    "            relativeEase = 0.3\n",
    "        elif data[2]['fclass'] == \"footway\":\n",
    "            relativeEase = 0.3\n",
    "        elif data[2]['fclass'] == \"steps\":\n",
    "            relativeEase = 0.6 \n",
    "        \n",
    "        #data[2]['weight'] = data[2]['weight'] * relativeEase\n",
    "\n",
    "        weighted_G.add_edge(coord1,coord2,weight=data[2]['weight'])\n",
    "\n",
    "    return weighted_G\n",
    "\n",
    "security   = 1.0\n",
    "cctv_perf  = 1.0\n",
    "lamps_perf = 1.0\n",
    "trees_perf = 1.0\n",
    "\n",
    "weighted_G = get_weighted_graphTrees(G,security=1,cctv_perf=cctv_perf,lamps_perf=lamps_perf,trees_perf=trees_perf)"
   ]
  },
  {
   "cell_type": "code",
   "execution_count": 23,
   "id": "deedc9c2",
   "metadata": {},
   "outputs": [
    {
     "data": {
      "application/vnd.plotly.v1+json": {
       "config": {
        "plotlyServerURL": "https://plot.ly"
       },
       "data": [
        {
         "lat": [
          1.2759796,
          1.2761567,
          1.276506957597754,
          1.2772648,
          1.2777680330452503,
          1.2780798,
          1.278198,
          1.2782502,
          1.2784131,
          1.2785231168407138,
          1.279014681622356,
          1.2790892,
          1.2791332,
          1.2791585,
          1.2794987434051803,
          1.2795704,
          1.2795958,
          1.2797078,
          1.2799602,
          1.2800436249449458,
          1.2805698,
          1.2807357,
          1.2808014,
          1.2809492,
          1.2813928086126574,
          1.2814948,
          1.281688,
          1.2818389,
          1.2812093,
          1.2812897,
          1.2813004,
          1.2813516183730627,
          1.2817092,
          1.2817103010358217,
          1.2818043488900717,
          1.2819718,
          1.2822571,
          1.2822732087988549,
          1.2822737,
          1.2822944,
          1.2825595,
          1.2828686,
          1.2833709,
          1.2833849,
          1.283826,
          1.2842709320044214,
          1.2845729,
          1.285011293171393,
          1.28503,
          1.2854539,
          1.2857971,
          1.2864192,
          1.2860483,
          1.2858218,
          1.2856171,
          1.2854324,
          1.2856241,
          1.2856392,
          1.2858658
         ],
         "line": {
          "color": "blue",
          "width": 4.5
         },
         "lon": [
          103.8550309,
          103.8551911,
          103.85541726051068,
          103.8559019,
          103.85515626770231,
          103.8547056,
          103.8545445,
          103.8544702,
          103.854205,
          103.85403638670263,
          103.85328300787297,
          103.8531688,
          103.8531086,
          103.8530682,
          103.85252500004067,
          103.8524106,
          103.8523694,
          103.8523494,
          103.8519647,
          103.85184942645382,
          103.8511198,
          103.8512271,
          103.8512668,
          103.8510538,
          103.85136683027103,
          103.8514388,
          103.8511204,
          103.850876,
          103.8504132,
          103.8502682,
          103.8502498,
          103.85016185925623,
          103.8495479,
          103.84954600945525,
          103.84938452363087,
          103.849097,
          103.8486072,
          103.84857866995866,
          103.8485778,
          103.8485417,
          103.8480804,
          103.8482623,
          103.8476425,
          103.8476181,
          103.847882,
          103.84713744984012,
          103.846642,
          103.84690056661344,
          103.8469116,
          103.8471684,
          103.8473776,
          103.8477564,
          103.8484409,
          103.8488909,
          103.8492581,
          103.8496014,
          103.8496767,
          103.8497862,
          103.850192
         ],
         "marker": {
          "size": 10
         },
         "mode": "lines",
         "name": "Optimal path - nodes",
         "type": "scattermapbox"
        },
        {
         "lat": [
          103.8550309
         ],
         "lon": [
          1.2759796
         ],
         "marker": {
          "color": "red",
          "size": 12
         },
         "mode": "markers",
         "name": "Source",
         "type": "scattermapbox"
        },
        {
         "lat": [
          103.850192
         ],
         "lon": [
          1.2858658
         ],
         "marker": {
          "color": "green",
          "size": 12
         },
         "mode": "markers",
         "name": "Destination",
         "type": "scattermapbox"
        }
       ],
       "layout": {
        "mapbox": {
         "center": {
          "lat": 1.2815837638702117,
          "lon": 103.85071907047983
         },
         "style": "open-street-map",
         "zoom": 13
        },
        "margin": {
         "b": 0,
         "l": 0,
         "r": 0,
         "t": 0
        },
        "template": {
         "data": {
          "bar": [
           {
            "error_x": {
             "color": "#2a3f5f"
            },
            "error_y": {
             "color": "#2a3f5f"
            },
            "marker": {
             "line": {
              "color": "#E5ECF6",
              "width": 0.5
             }
            },
            "type": "bar"
           }
          ],
          "barpolar": [
           {
            "marker": {
             "line": {
              "color": "#E5ECF6",
              "width": 0.5
             }
            },
            "type": "barpolar"
           }
          ],
          "carpet": [
           {
            "aaxis": {
             "endlinecolor": "#2a3f5f",
             "gridcolor": "white",
             "linecolor": "white",
             "minorgridcolor": "white",
             "startlinecolor": "#2a3f5f"
            },
            "baxis": {
             "endlinecolor": "#2a3f5f",
             "gridcolor": "white",
             "linecolor": "white",
             "minorgridcolor": "white",
             "startlinecolor": "#2a3f5f"
            },
            "type": "carpet"
           }
          ],
          "choropleth": [
           {
            "colorbar": {
             "outlinewidth": 0,
             "ticks": ""
            },
            "type": "choropleth"
           }
          ],
          "contour": [
           {
            "colorbar": {
             "outlinewidth": 0,
             "ticks": ""
            },
            "colorscale": [
             [
              0,
              "#0d0887"
             ],
             [
              0.1111111111111111,
              "#46039f"
             ],
             [
              0.2222222222222222,
              "#7201a8"
             ],
             [
              0.3333333333333333,
              "#9c179e"
             ],
             [
              0.4444444444444444,
              "#bd3786"
             ],
             [
              0.5555555555555556,
              "#d8576b"
             ],
             [
              0.6666666666666666,
              "#ed7953"
             ],
             [
              0.7777777777777778,
              "#fb9f3a"
             ],
             [
              0.8888888888888888,
              "#fdca26"
             ],
             [
              1,
              "#f0f921"
             ]
            ],
            "type": "contour"
           }
          ],
          "contourcarpet": [
           {
            "colorbar": {
             "outlinewidth": 0,
             "ticks": ""
            },
            "type": "contourcarpet"
           }
          ],
          "heatmap": [
           {
            "colorbar": {
             "outlinewidth": 0,
             "ticks": ""
            },
            "colorscale": [
             [
              0,
              "#0d0887"
             ],
             [
              0.1111111111111111,
              "#46039f"
             ],
             [
              0.2222222222222222,
              "#7201a8"
             ],
             [
              0.3333333333333333,
              "#9c179e"
             ],
             [
              0.4444444444444444,
              "#bd3786"
             ],
             [
              0.5555555555555556,
              "#d8576b"
             ],
             [
              0.6666666666666666,
              "#ed7953"
             ],
             [
              0.7777777777777778,
              "#fb9f3a"
             ],
             [
              0.8888888888888888,
              "#fdca26"
             ],
             [
              1,
              "#f0f921"
             ]
            ],
            "type": "heatmap"
           }
          ],
          "heatmapgl": [
           {
            "colorbar": {
             "outlinewidth": 0,
             "ticks": ""
            },
            "colorscale": [
             [
              0,
              "#0d0887"
             ],
             [
              0.1111111111111111,
              "#46039f"
             ],
             [
              0.2222222222222222,
              "#7201a8"
             ],
             [
              0.3333333333333333,
              "#9c179e"
             ],
             [
              0.4444444444444444,
              "#bd3786"
             ],
             [
              0.5555555555555556,
              "#d8576b"
             ],
             [
              0.6666666666666666,
              "#ed7953"
             ],
             [
              0.7777777777777778,
              "#fb9f3a"
             ],
             [
              0.8888888888888888,
              "#fdca26"
             ],
             [
              1,
              "#f0f921"
             ]
            ],
            "type": "heatmapgl"
           }
          ],
          "histogram": [
           {
            "marker": {
             "colorbar": {
              "outlinewidth": 0,
              "ticks": ""
             }
            },
            "type": "histogram"
           }
          ],
          "histogram2d": [
           {
            "colorbar": {
             "outlinewidth": 0,
             "ticks": ""
            },
            "colorscale": [
             [
              0,
              "#0d0887"
             ],
             [
              0.1111111111111111,
              "#46039f"
             ],
             [
              0.2222222222222222,
              "#7201a8"
             ],
             [
              0.3333333333333333,
              "#9c179e"
             ],
             [
              0.4444444444444444,
              "#bd3786"
             ],
             [
              0.5555555555555556,
              "#d8576b"
             ],
             [
              0.6666666666666666,
              "#ed7953"
             ],
             [
              0.7777777777777778,
              "#fb9f3a"
             ],
             [
              0.8888888888888888,
              "#fdca26"
             ],
             [
              1,
              "#f0f921"
             ]
            ],
            "type": "histogram2d"
           }
          ],
          "histogram2dcontour": [
           {
            "colorbar": {
             "outlinewidth": 0,
             "ticks": ""
            },
            "colorscale": [
             [
              0,
              "#0d0887"
             ],
             [
              0.1111111111111111,
              "#46039f"
             ],
             [
              0.2222222222222222,
              "#7201a8"
             ],
             [
              0.3333333333333333,
              "#9c179e"
             ],
             [
              0.4444444444444444,
              "#bd3786"
             ],
             [
              0.5555555555555556,
              "#d8576b"
             ],
             [
              0.6666666666666666,
              "#ed7953"
             ],
             [
              0.7777777777777778,
              "#fb9f3a"
             ],
             [
              0.8888888888888888,
              "#fdca26"
             ],
             [
              1,
              "#f0f921"
             ]
            ],
            "type": "histogram2dcontour"
           }
          ],
          "mesh3d": [
           {
            "colorbar": {
             "outlinewidth": 0,
             "ticks": ""
            },
            "type": "mesh3d"
           }
          ],
          "parcoords": [
           {
            "line": {
             "colorbar": {
              "outlinewidth": 0,
              "ticks": ""
             }
            },
            "type": "parcoords"
           }
          ],
          "pie": [
           {
            "automargin": true,
            "type": "pie"
           }
          ],
          "scatter": [
           {
            "marker": {
             "colorbar": {
              "outlinewidth": 0,
              "ticks": ""
             }
            },
            "type": "scatter"
           }
          ],
          "scatter3d": [
           {
            "line": {
             "colorbar": {
              "outlinewidth": 0,
              "ticks": ""
             }
            },
            "marker": {
             "colorbar": {
              "outlinewidth": 0,
              "ticks": ""
             }
            },
            "type": "scatter3d"
           }
          ],
          "scattercarpet": [
           {
            "marker": {
             "colorbar": {
              "outlinewidth": 0,
              "ticks": ""
             }
            },
            "type": "scattercarpet"
           }
          ],
          "scattergeo": [
           {
            "marker": {
             "colorbar": {
              "outlinewidth": 0,
              "ticks": ""
             }
            },
            "type": "scattergeo"
           }
          ],
          "scattergl": [
           {
            "marker": {
             "colorbar": {
              "outlinewidth": 0,
              "ticks": ""
             }
            },
            "type": "scattergl"
           }
          ],
          "scattermapbox": [
           {
            "marker": {
             "colorbar": {
              "outlinewidth": 0,
              "ticks": ""
             }
            },
            "type": "scattermapbox"
           }
          ],
          "scatterpolar": [
           {
            "marker": {
             "colorbar": {
              "outlinewidth": 0,
              "ticks": ""
             }
            },
            "type": "scatterpolar"
           }
          ],
          "scatterpolargl": [
           {
            "marker": {
             "colorbar": {
              "outlinewidth": 0,
              "ticks": ""
             }
            },
            "type": "scatterpolargl"
           }
          ],
          "scatterternary": [
           {
            "marker": {
             "colorbar": {
              "outlinewidth": 0,
              "ticks": ""
             }
            },
            "type": "scatterternary"
           }
          ],
          "surface": [
           {
            "colorbar": {
             "outlinewidth": 0,
             "ticks": ""
            },
            "colorscale": [
             [
              0,
              "#0d0887"
             ],
             [
              0.1111111111111111,
              "#46039f"
             ],
             [
              0.2222222222222222,
              "#7201a8"
             ],
             [
              0.3333333333333333,
              "#9c179e"
             ],
             [
              0.4444444444444444,
              "#bd3786"
             ],
             [
              0.5555555555555556,
              "#d8576b"
             ],
             [
              0.6666666666666666,
              "#ed7953"
             ],
             [
              0.7777777777777778,
              "#fb9f3a"
             ],
             [
              0.8888888888888888,
              "#fdca26"
             ],
             [
              1,
              "#f0f921"
             ]
            ],
            "type": "surface"
           }
          ],
          "table": [
           {
            "cells": {
             "fill": {
              "color": "#EBF0F8"
             },
             "line": {
              "color": "white"
             }
            },
            "header": {
             "fill": {
              "color": "#C8D4E3"
             },
             "line": {
              "color": "white"
             }
            },
            "type": "table"
           }
          ]
         },
         "layout": {
          "annotationdefaults": {
           "arrowcolor": "#2a3f5f",
           "arrowhead": 0,
           "arrowwidth": 1
          },
          "autotypenumbers": "strict",
          "coloraxis": {
           "colorbar": {
            "outlinewidth": 0,
            "ticks": ""
           }
          },
          "colorscale": {
           "diverging": [
            [
             0,
             "#8e0152"
            ],
            [
             0.1,
             "#c51b7d"
            ],
            [
             0.2,
             "#de77ae"
            ],
            [
             0.3,
             "#f1b6da"
            ],
            [
             0.4,
             "#fde0ef"
            ],
            [
             0.5,
             "#f7f7f7"
            ],
            [
             0.6,
             "#e6f5d0"
            ],
            [
             0.7,
             "#b8e186"
            ],
            [
             0.8,
             "#7fbc41"
            ],
            [
             0.9,
             "#4d9221"
            ],
            [
             1,
             "#276419"
            ]
           ],
           "sequential": [
            [
             0,
             "#0d0887"
            ],
            [
             0.1111111111111111,
             "#46039f"
            ],
            [
             0.2222222222222222,
             "#7201a8"
            ],
            [
             0.3333333333333333,
             "#9c179e"
            ],
            [
             0.4444444444444444,
             "#bd3786"
            ],
            [
             0.5555555555555556,
             "#d8576b"
            ],
            [
             0.6666666666666666,
             "#ed7953"
            ],
            [
             0.7777777777777778,
             "#fb9f3a"
            ],
            [
             0.8888888888888888,
             "#fdca26"
            ],
            [
             1,
             "#f0f921"
            ]
           ],
           "sequentialminus": [
            [
             0,
             "#0d0887"
            ],
            [
             0.1111111111111111,
             "#46039f"
            ],
            [
             0.2222222222222222,
             "#7201a8"
            ],
            [
             0.3333333333333333,
             "#9c179e"
            ],
            [
             0.4444444444444444,
             "#bd3786"
            ],
            [
             0.5555555555555556,
             "#d8576b"
            ],
            [
             0.6666666666666666,
             "#ed7953"
            ],
            [
             0.7777777777777778,
             "#fb9f3a"
            ],
            [
             0.8888888888888888,
             "#fdca26"
            ],
            [
             1,
             "#f0f921"
            ]
           ]
          },
          "colorway": [
           "#636efa",
           "#EF553B",
           "#00cc96",
           "#ab63fa",
           "#FFA15A",
           "#19d3f3",
           "#FF6692",
           "#B6E880",
           "#FF97FF",
           "#FECB52"
          ],
          "font": {
           "color": "#2a3f5f"
          },
          "geo": {
           "bgcolor": "white",
           "lakecolor": "white",
           "landcolor": "#E5ECF6",
           "showlakes": true,
           "showland": true,
           "subunitcolor": "white"
          },
          "hoverlabel": {
           "align": "left"
          },
          "hovermode": "closest",
          "mapbox": {
           "style": "light"
          },
          "paper_bgcolor": "white",
          "plot_bgcolor": "#E5ECF6",
          "polar": {
           "angularaxis": {
            "gridcolor": "white",
            "linecolor": "white",
            "ticks": ""
           },
           "bgcolor": "#E5ECF6",
           "radialaxis": {
            "gridcolor": "white",
            "linecolor": "white",
            "ticks": ""
           }
          },
          "scene": {
           "xaxis": {
            "backgroundcolor": "#E5ECF6",
            "gridcolor": "white",
            "gridwidth": 2,
            "linecolor": "white",
            "showbackground": true,
            "ticks": "",
            "zerolinecolor": "white"
           },
           "yaxis": {
            "backgroundcolor": "#E5ECF6",
            "gridcolor": "white",
            "gridwidth": 2,
            "linecolor": "white",
            "showbackground": true,
            "ticks": "",
            "zerolinecolor": "white"
           },
           "zaxis": {
            "backgroundcolor": "#E5ECF6",
            "gridcolor": "white",
            "gridwidth": 2,
            "linecolor": "white",
            "showbackground": true,
            "ticks": "",
            "zerolinecolor": "white"
           }
          },
          "shapedefaults": {
           "line": {
            "color": "#2a3f5f"
           }
          },
          "ternary": {
           "aaxis": {
            "gridcolor": "white",
            "linecolor": "white",
            "ticks": ""
           },
           "baxis": {
            "gridcolor": "white",
            "linecolor": "white",
            "ticks": ""
           },
           "bgcolor": "#E5ECF6",
           "caxis": {
            "gridcolor": "white",
            "linecolor": "white",
            "ticks": ""
           }
          },
          "title": {
           "x": 0.05
          },
          "xaxis": {
           "automargin": true,
           "gridcolor": "white",
           "linecolor": "white",
           "ticks": "",
           "title": {
            "standoff": 15
           },
           "zerolinecolor": "white",
           "zerolinewidth": 2
          },
          "yaxis": {
           "automargin": true,
           "gridcolor": "white",
           "linecolor": "white",
           "ticks": "",
           "title": {
            "standoff": 15
           },
           "zerolinecolor": "white",
           "zerolinewidth": 2
          }
         }
        }
       }
      },
      "text/html": [
       "<div>                            <div id=\"869f6217-937b-4fcc-9ae3-0a08f7fd2834\" class=\"plotly-graph-div\" style=\"height:525px; width:100%;\"></div>            <script type=\"text/javascript\">                require([\"plotly\"], function(Plotly) {                    window.PLOTLYENV=window.PLOTLYENV || {};                                    if (document.getElementById(\"869f6217-937b-4fcc-9ae3-0a08f7fd2834\")) {                    Plotly.newPlot(                        \"869f6217-937b-4fcc-9ae3-0a08f7fd2834\",                        [{\"lat\": [1.2759796, 1.2761567, 1.276506957597754, 1.2772648, 1.2777680330452503, 1.2780798, 1.278198, 1.2782502, 1.2784131, 1.2785231168407138, 1.279014681622356, 1.2790892, 1.2791332, 1.2791585, 1.2794987434051803, 1.2795704, 1.2795958, 1.2797078, 1.2799602, 1.2800436249449458, 1.2805698, 1.2807357, 1.2808014, 1.2809492, 1.2813928086126574, 1.2814948, 1.281688, 1.2818389, 1.2812093, 1.2812897, 1.2813004, 1.2813516183730627, 1.2817092, 1.2817103010358217, 1.2818043488900717, 1.2819718, 1.2822571, 1.2822732087988549, 1.2822737, 1.2822944, 1.2825595, 1.2828686, 1.2833709, 1.2833849, 1.283826, 1.2842709320044214, 1.2845729, 1.285011293171393, 1.28503, 1.2854539, 1.2857971, 1.2864192, 1.2860483, 1.2858218, 1.2856171, 1.2854324, 1.2856241, 1.2856392, 1.2858658], \"line\": {\"color\": \"blue\", \"width\": 4.5}, \"lon\": [103.8550309, 103.8551911, 103.85541726051068, 103.8559019, 103.85515626770231, 103.8547056, 103.8545445, 103.8544702, 103.854205, 103.85403638670263, 103.85328300787297, 103.8531688, 103.8531086, 103.8530682, 103.85252500004067, 103.8524106, 103.8523694, 103.8523494, 103.8519647, 103.85184942645382, 103.8511198, 103.8512271, 103.8512668, 103.8510538, 103.85136683027103, 103.8514388, 103.8511204, 103.850876, 103.8504132, 103.8502682, 103.8502498, 103.85016185925623, 103.8495479, 103.84954600945525, 103.84938452363087, 103.849097, 103.8486072, 103.84857866995866, 103.8485778, 103.8485417, 103.8480804, 103.8482623, 103.8476425, 103.8476181, 103.847882, 103.84713744984012, 103.846642, 103.84690056661344, 103.8469116, 103.8471684, 103.8473776, 103.8477564, 103.8484409, 103.8488909, 103.8492581, 103.8496014, 103.8496767, 103.8497862, 103.850192], \"marker\": {\"size\": 10}, \"mode\": \"lines\", \"name\": \"Optimal path - nodes\", \"type\": \"scattermapbox\"}, {\"lat\": [103.8550309], \"lon\": [1.2759796], \"marker\": {\"color\": \"red\", \"size\": 12}, \"mode\": \"markers\", \"name\": \"Source\", \"type\": \"scattermapbox\"}, {\"lat\": [103.850192], \"lon\": [1.2858658], \"marker\": {\"color\": \"green\", \"size\": 12}, \"mode\": \"markers\", \"name\": \"Destination\", \"type\": \"scattermapbox\"}],                        {\"mapbox\": {\"center\": {\"lat\": 1.2815837638702117, \"lon\": 103.85071907047983}, \"style\": \"open-street-map\", \"zoom\": 13}, \"margin\": {\"b\": 0, \"l\": 0, \"r\": 0, \"t\": 0}, \"template\": {\"data\": {\"bar\": [{\"error_x\": {\"color\": \"#2a3f5f\"}, \"error_y\": {\"color\": \"#2a3f5f\"}, \"marker\": {\"line\": {\"color\": \"#E5ECF6\", \"width\": 0.5}}, \"type\": \"bar\"}], \"barpolar\": [{\"marker\": {\"line\": {\"color\": \"#E5ECF6\", \"width\": 0.5}}, \"type\": \"barpolar\"}], \"carpet\": [{\"aaxis\": {\"endlinecolor\": \"#2a3f5f\", \"gridcolor\": \"white\", \"linecolor\": \"white\", \"minorgridcolor\": \"white\", \"startlinecolor\": \"#2a3f5f\"}, \"baxis\": {\"endlinecolor\": \"#2a3f5f\", \"gridcolor\": \"white\", \"linecolor\": \"white\", \"minorgridcolor\": \"white\", \"startlinecolor\": \"#2a3f5f\"}, \"type\": \"carpet\"}], \"choropleth\": [{\"colorbar\": {\"outlinewidth\": 0, \"ticks\": \"\"}, \"type\": \"choropleth\"}], \"contour\": [{\"colorbar\": {\"outlinewidth\": 0, \"ticks\": \"\"}, \"colorscale\": [[0.0, \"#0d0887\"], [0.1111111111111111, \"#46039f\"], [0.2222222222222222, \"#7201a8\"], [0.3333333333333333, \"#9c179e\"], [0.4444444444444444, \"#bd3786\"], [0.5555555555555556, \"#d8576b\"], [0.6666666666666666, \"#ed7953\"], [0.7777777777777778, \"#fb9f3a\"], [0.8888888888888888, \"#fdca26\"], [1.0, \"#f0f921\"]], \"type\": \"contour\"}], \"contourcarpet\": [{\"colorbar\": {\"outlinewidth\": 0, \"ticks\": \"\"}, \"type\": \"contourcarpet\"}], \"heatmap\": [{\"colorbar\": {\"outlinewidth\": 0, \"ticks\": \"\"}, \"colorscale\": [[0.0, \"#0d0887\"], [0.1111111111111111, \"#46039f\"], [0.2222222222222222, \"#7201a8\"], [0.3333333333333333, \"#9c179e\"], [0.4444444444444444, \"#bd3786\"], [0.5555555555555556, \"#d8576b\"], [0.6666666666666666, \"#ed7953\"], [0.7777777777777778, \"#fb9f3a\"], [0.8888888888888888, \"#fdca26\"], [1.0, \"#f0f921\"]], \"type\": \"heatmap\"}], \"heatmapgl\": [{\"colorbar\": {\"outlinewidth\": 0, \"ticks\": \"\"}, \"colorscale\": [[0.0, \"#0d0887\"], [0.1111111111111111, \"#46039f\"], [0.2222222222222222, \"#7201a8\"], [0.3333333333333333, \"#9c179e\"], [0.4444444444444444, \"#bd3786\"], [0.5555555555555556, \"#d8576b\"], [0.6666666666666666, \"#ed7953\"], [0.7777777777777778, \"#fb9f3a\"], [0.8888888888888888, \"#fdca26\"], [1.0, \"#f0f921\"]], \"type\": \"heatmapgl\"}], \"histogram\": [{\"marker\": {\"colorbar\": {\"outlinewidth\": 0, \"ticks\": \"\"}}, \"type\": \"histogram\"}], \"histogram2d\": [{\"colorbar\": {\"outlinewidth\": 0, \"ticks\": \"\"}, \"colorscale\": [[0.0, \"#0d0887\"], [0.1111111111111111, \"#46039f\"], [0.2222222222222222, \"#7201a8\"], [0.3333333333333333, \"#9c179e\"], [0.4444444444444444, \"#bd3786\"], [0.5555555555555556, \"#d8576b\"], [0.6666666666666666, \"#ed7953\"], [0.7777777777777778, \"#fb9f3a\"], [0.8888888888888888, \"#fdca26\"], [1.0, \"#f0f921\"]], \"type\": \"histogram2d\"}], \"histogram2dcontour\": [{\"colorbar\": {\"outlinewidth\": 0, \"ticks\": \"\"}, \"colorscale\": [[0.0, \"#0d0887\"], [0.1111111111111111, \"#46039f\"], [0.2222222222222222, \"#7201a8\"], [0.3333333333333333, \"#9c179e\"], [0.4444444444444444, \"#bd3786\"], [0.5555555555555556, \"#d8576b\"], [0.6666666666666666, \"#ed7953\"], [0.7777777777777778, \"#fb9f3a\"], [0.8888888888888888, \"#fdca26\"], [1.0, \"#f0f921\"]], \"type\": \"histogram2dcontour\"}], \"mesh3d\": [{\"colorbar\": {\"outlinewidth\": 0, \"ticks\": \"\"}, \"type\": \"mesh3d\"}], \"parcoords\": [{\"line\": {\"colorbar\": {\"outlinewidth\": 0, \"ticks\": \"\"}}, \"type\": \"parcoords\"}], \"pie\": [{\"automargin\": true, \"type\": \"pie\"}], \"scatter\": [{\"marker\": {\"colorbar\": {\"outlinewidth\": 0, \"ticks\": \"\"}}, \"type\": \"scatter\"}], \"scatter3d\": [{\"line\": {\"colorbar\": {\"outlinewidth\": 0, \"ticks\": \"\"}}, \"marker\": {\"colorbar\": {\"outlinewidth\": 0, \"ticks\": \"\"}}, \"type\": \"scatter3d\"}], \"scattercarpet\": [{\"marker\": {\"colorbar\": {\"outlinewidth\": 0, \"ticks\": \"\"}}, \"type\": \"scattercarpet\"}], \"scattergeo\": [{\"marker\": {\"colorbar\": {\"outlinewidth\": 0, \"ticks\": \"\"}}, \"type\": \"scattergeo\"}], \"scattergl\": [{\"marker\": {\"colorbar\": {\"outlinewidth\": 0, \"ticks\": \"\"}}, \"type\": \"scattergl\"}], \"scattermapbox\": [{\"marker\": {\"colorbar\": {\"outlinewidth\": 0, \"ticks\": \"\"}}, \"type\": \"scattermapbox\"}], \"scatterpolar\": [{\"marker\": {\"colorbar\": {\"outlinewidth\": 0, \"ticks\": \"\"}}, \"type\": \"scatterpolar\"}], \"scatterpolargl\": [{\"marker\": {\"colorbar\": {\"outlinewidth\": 0, \"ticks\": \"\"}}, \"type\": \"scatterpolargl\"}], \"scatterternary\": [{\"marker\": {\"colorbar\": {\"outlinewidth\": 0, \"ticks\": \"\"}}, \"type\": \"scatterternary\"}], \"surface\": [{\"colorbar\": {\"outlinewidth\": 0, \"ticks\": \"\"}, \"colorscale\": [[0.0, \"#0d0887\"], [0.1111111111111111, \"#46039f\"], [0.2222222222222222, \"#7201a8\"], [0.3333333333333333, \"#9c179e\"], [0.4444444444444444, \"#bd3786\"], [0.5555555555555556, \"#d8576b\"], [0.6666666666666666, \"#ed7953\"], [0.7777777777777778, \"#fb9f3a\"], [0.8888888888888888, \"#fdca26\"], [1.0, \"#f0f921\"]], \"type\": \"surface\"}], \"table\": [{\"cells\": {\"fill\": {\"color\": \"#EBF0F8\"}, \"line\": {\"color\": \"white\"}}, \"header\": {\"fill\": {\"color\": \"#C8D4E3\"}, \"line\": {\"color\": \"white\"}}, \"type\": \"table\"}]}, \"layout\": {\"annotationdefaults\": {\"arrowcolor\": \"#2a3f5f\", \"arrowhead\": 0, \"arrowwidth\": 1}, \"autotypenumbers\": \"strict\", \"coloraxis\": {\"colorbar\": {\"outlinewidth\": 0, \"ticks\": \"\"}}, \"colorscale\": {\"diverging\": [[0, \"#8e0152\"], [0.1, \"#c51b7d\"], [0.2, \"#de77ae\"], [0.3, \"#f1b6da\"], [0.4, \"#fde0ef\"], [0.5, \"#f7f7f7\"], [0.6, \"#e6f5d0\"], [0.7, \"#b8e186\"], [0.8, \"#7fbc41\"], [0.9, \"#4d9221\"], [1, \"#276419\"]], \"sequential\": [[0.0, \"#0d0887\"], [0.1111111111111111, \"#46039f\"], [0.2222222222222222, \"#7201a8\"], [0.3333333333333333, \"#9c179e\"], [0.4444444444444444, \"#bd3786\"], [0.5555555555555556, \"#d8576b\"], [0.6666666666666666, \"#ed7953\"], [0.7777777777777778, \"#fb9f3a\"], [0.8888888888888888, \"#fdca26\"], [1.0, \"#f0f921\"]], \"sequentialminus\": [[0.0, \"#0d0887\"], [0.1111111111111111, \"#46039f\"], [0.2222222222222222, \"#7201a8\"], [0.3333333333333333, \"#9c179e\"], [0.4444444444444444, \"#bd3786\"], [0.5555555555555556, \"#d8576b\"], [0.6666666666666666, \"#ed7953\"], [0.7777777777777778, \"#fb9f3a\"], [0.8888888888888888, \"#fdca26\"], [1.0, \"#f0f921\"]]}, \"colorway\": [\"#636efa\", \"#EF553B\", \"#00cc96\", \"#ab63fa\", \"#FFA15A\", \"#19d3f3\", \"#FF6692\", \"#B6E880\", \"#FF97FF\", \"#FECB52\"], \"font\": {\"color\": \"#2a3f5f\"}, \"geo\": {\"bgcolor\": \"white\", \"lakecolor\": \"white\", \"landcolor\": \"#E5ECF6\", \"showlakes\": true, \"showland\": true, \"subunitcolor\": \"white\"}, \"hoverlabel\": {\"align\": \"left\"}, \"hovermode\": \"closest\", \"mapbox\": {\"style\": \"light\"}, \"paper_bgcolor\": \"white\", \"plot_bgcolor\": \"#E5ECF6\", \"polar\": {\"angularaxis\": {\"gridcolor\": \"white\", \"linecolor\": \"white\", \"ticks\": \"\"}, \"bgcolor\": \"#E5ECF6\", \"radialaxis\": {\"gridcolor\": \"white\", \"linecolor\": \"white\", \"ticks\": \"\"}}, \"scene\": {\"xaxis\": {\"backgroundcolor\": \"#E5ECF6\", \"gridcolor\": \"white\", \"gridwidth\": 2, \"linecolor\": \"white\", \"showbackground\": true, \"ticks\": \"\", \"zerolinecolor\": \"white\"}, \"yaxis\": {\"backgroundcolor\": \"#E5ECF6\", \"gridcolor\": \"white\", \"gridwidth\": 2, \"linecolor\": \"white\", \"showbackground\": true, \"ticks\": \"\", \"zerolinecolor\": \"white\"}, \"zaxis\": {\"backgroundcolor\": \"#E5ECF6\", \"gridcolor\": \"white\", \"gridwidth\": 2, \"linecolor\": \"white\", \"showbackground\": true, \"ticks\": \"\", \"zerolinecolor\": \"white\"}}, \"shapedefaults\": {\"line\": {\"color\": \"#2a3f5f\"}}, \"ternary\": {\"aaxis\": {\"gridcolor\": \"white\", \"linecolor\": \"white\", \"ticks\": \"\"}, \"baxis\": {\"gridcolor\": \"white\", \"linecolor\": \"white\", \"ticks\": \"\"}, \"bgcolor\": \"#E5ECF6\", \"caxis\": {\"gridcolor\": \"white\", \"linecolor\": \"white\", \"ticks\": \"\"}}, \"title\": {\"x\": 0.05}, \"xaxis\": {\"automargin\": true, \"gridcolor\": \"white\", \"linecolor\": \"white\", \"ticks\": \"\", \"title\": {\"standoff\": 15}, \"zerolinecolor\": \"white\", \"zerolinewidth\": 2}, \"yaxis\": {\"automargin\": true, \"gridcolor\": \"white\", \"linecolor\": \"white\", \"ticks\": \"\", \"title\": {\"standoff\": 15}, \"zerolinecolor\": \"white\", \"zerolinewidth\": 2}}}},                        {\"responsive\": true}                    ).then(function(){\n",
       "                            \n",
       "var gd = document.getElementById('869f6217-937b-4fcc-9ae3-0a08f7fd2834');\n",
       "var x = new MutationObserver(function (mutations, observer) {{\n",
       "        var display = window.getComputedStyle(gd).display;\n",
       "        if (!display || display === 'none') {{\n",
       "            console.log([gd, 'removed!']);\n",
       "            Plotly.purge(gd);\n",
       "            observer.disconnect();\n",
       "        }}\n",
       "}});\n",
       "\n",
       "// Listen for the removal of the full notebook cells\n",
       "var notebookContainer = gd.closest('#notebook-container');\n",
       "if (notebookContainer) {{\n",
       "    x.observe(notebookContainer, {childList: true});\n",
       "}}\n",
       "\n",
       "// Listen for the clearing of the current output cell\n",
       "var outputEl = gd.closest('.output');\n",
       "if (outputEl) {{\n",
       "    x.observe(outputEl, {childList: true});\n",
       "}}\n",
       "\n",
       "                        })                };                });            </script>        </div>"
      ]
     },
     "metadata": {},
     "output_type": "display_data"
    }
   ],
   "source": [
    "dt.mapIt(start,end,weighted_G,dfNodes,dfEdges)"
   ]
  },
  {
   "cell_type": "code",
   "execution_count": null,
   "id": "9728c1b6",
   "metadata": {},
   "outputs": [],
   "source": []
  },
  {
   "cell_type": "code",
   "execution_count": null,
   "id": "3a502766",
   "metadata": {},
   "outputs": [],
   "source": []
  }
 ],
 "metadata": {
  "kernelspec": {
   "display_name": "Python 3",
   "language": "python",
   "name": "python3"
  },
  "language_info": {
   "codemirror_mode": {
    "name": "ipython",
    "version": 3
   },
   "file_extension": ".py",
   "mimetype": "text/x-python",
   "name": "python",
   "nbconvert_exporter": "python",
   "pygments_lexer": "ipython3",
   "version": "3.8.8"
  }
 },
 "nbformat": 4,
 "nbformat_minor": 5
}
