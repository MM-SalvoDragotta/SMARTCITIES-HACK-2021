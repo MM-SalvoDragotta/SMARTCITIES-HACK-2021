{
 "cells": [
  {
   "cell_type": "code",
   "execution_count": 1,
   "id": "a50cf956",
   "metadata": {},
   "outputs": [],
   "source": [
    "import networkx as nx\n",
    "import matplotlib.pyplot as plt \n",
    "import pandas as pd\n",
    "import seaborn as sns\n",
    "import logging\n",
    "import numpy as np\n",
    "import geopandas as gpd\n",
    "from geopy.geocoders import Nominatim\n",
    "from shapely.wkt import loads\n",
    "from scipy.spatial.distance import cdist\n",
    "\n",
    "import plotly.graph_objects as go\n",
    "\n",
    "# Let's brag about digital twins ;)\n",
    "import sgp_dt as dt\n",
    "\n",
    "%load_ext autoreload # to play with the lib in real time\n",
    "%autoreload 2"
   ]
  },
  {
   "cell_type": "markdown",
   "id": "bf97bfc8",
   "metadata": {},
   "source": [
    "# Checking what we have in the network"
   ]
  },
  {
   "cell_type": "code",
   "execution_count": 21,
   "id": "ca7e7333",
   "metadata": {},
   "outputs": [
    {
     "data": {
      "text/html": [
       "<div>\n",
       "<style scoped>\n",
       "    .dataframe tbody tr th:only-of-type {\n",
       "        vertical-align: middle;\n",
       "    }\n",
       "\n",
       "    .dataframe tbody tr th {\n",
       "        vertical-align: top;\n",
       "    }\n",
       "\n",
       "    .dataframe thead th {\n",
       "        text-align: right;\n",
       "    }\n",
       "</style>\n",
       "<table border=\"1\" class=\"dataframe\">\n",
       "  <thead>\n",
       "    <tr style=\"text-align: right;\">\n",
       "      <th></th>\n",
       "      <th>osm_id</th>\n",
       "      <th>code</th>\n",
       "      <th>fclass</th>\n",
       "      <th>name</th>\n",
       "      <th>ref</th>\n",
       "      <th>oneway</th>\n",
       "      <th>maxspeed</th>\n",
       "      <th>layer</th>\n",
       "      <th>bridge</th>\n",
       "      <th>tunnel</th>\n",
       "      <th>...</th>\n",
       "      <th>Lamps25m</th>\n",
       "      <th>Lamps10m</th>\n",
       "      <th>CCTV100mRE</th>\n",
       "      <th>CCTV50mRE</th>\n",
       "      <th>CCTV25mRE</th>\n",
       "      <th>Length</th>\n",
       "      <th>Trees50m</th>\n",
       "      <th>Trees25m</th>\n",
       "      <th>Trees10m</th>\n",
       "      <th>geometry</th>\n",
       "    </tr>\n",
       "  </thead>\n",
       "  <tbody>\n",
       "    <tr>\n",
       "      <th>0</th>\n",
       "      <td>1</td>\n",
       "      <td>5115</td>\n",
       "      <td>tertiary</td>\n",
       "      <td>Keng Lee Road</td>\n",
       "      <td>None</td>\n",
       "      <td>F</td>\n",
       "      <td>50</td>\n",
       "      <td>0</td>\n",
       "      <td>F</td>\n",
       "      <td>F</td>\n",
       "      <td>...</td>\n",
       "      <td>6</td>\n",
       "      <td>4</td>\n",
       "      <td>0</td>\n",
       "      <td>0</td>\n",
       "      <td>0</td>\n",
       "      <td>100.099656</td>\n",
       "      <td>120</td>\n",
       "      <td>89</td>\n",
       "      <td>50</td>\n",
       "      <td>LINESTRING (103.84379 1.31370, 103.84468 1.31383)</td>\n",
       "    </tr>\n",
       "    <tr>\n",
       "      <th>1</th>\n",
       "      <td>2</td>\n",
       "      <td>5115</td>\n",
       "      <td>tertiary</td>\n",
       "      <td>Keng Lee Road</td>\n",
       "      <td>None</td>\n",
       "      <td>F</td>\n",
       "      <td>50</td>\n",
       "      <td>0</td>\n",
       "      <td>F</td>\n",
       "      <td>F</td>\n",
       "      <td>...</td>\n",
       "      <td>4</td>\n",
       "      <td>2</td>\n",
       "      <td>0</td>\n",
       "      <td>0</td>\n",
       "      <td>0</td>\n",
       "      <td>38.075346</td>\n",
       "      <td>51</td>\n",
       "      <td>29</td>\n",
       "      <td>18</td>\n",
       "      <td>LINESTRING (103.84468 1.31383, 103.84495 1.313...</td>\n",
       "    </tr>\n",
       "    <tr>\n",
       "      <th>2</th>\n",
       "      <td>3</td>\n",
       "      <td>5153</td>\n",
       "      <td>footway</td>\n",
       "      <td>None</td>\n",
       "      <td>None</td>\n",
       "      <td>B</td>\n",
       "      <td>0</td>\n",
       "      <td>0</td>\n",
       "      <td>F</td>\n",
       "      <td>F</td>\n",
       "      <td>...</td>\n",
       "      <td>1</td>\n",
       "      <td>0</td>\n",
       "      <td>0</td>\n",
       "      <td>0</td>\n",
       "      <td>0</td>\n",
       "      <td>99.549892</td>\n",
       "      <td>36</td>\n",
       "      <td>12</td>\n",
       "      <td>6</td>\n",
       "      <td>LINESTRING (103.84083 1.31463, 103.84115 1.31379)</td>\n",
       "    </tr>\n",
       "    <tr>\n",
       "      <th>3</th>\n",
       "      <td>4</td>\n",
       "      <td>5153</td>\n",
       "      <td>footway</td>\n",
       "      <td>None</td>\n",
       "      <td>None</td>\n",
       "      <td>B</td>\n",
       "      <td>0</td>\n",
       "      <td>0</td>\n",
       "      <td>F</td>\n",
       "      <td>F</td>\n",
       "      <td>...</td>\n",
       "      <td>2</td>\n",
       "      <td>0</td>\n",
       "      <td>0</td>\n",
       "      <td>0</td>\n",
       "      <td>0</td>\n",
       "      <td>47.704451</td>\n",
       "      <td>57</td>\n",
       "      <td>19</td>\n",
       "      <td>7</td>\n",
       "      <td>LINESTRING (103.84115 1.31379, 103.84126 1.313...</td>\n",
       "    </tr>\n",
       "    <tr>\n",
       "      <th>4</th>\n",
       "      <td>5</td>\n",
       "      <td>5122</td>\n",
       "      <td>residential</td>\n",
       "      <td>Sarkies Road</td>\n",
       "      <td>None</td>\n",
       "      <td>B</td>\n",
       "      <td>50</td>\n",
       "      <td>0</td>\n",
       "      <td>F</td>\n",
       "      <td>F</td>\n",
       "      <td>...</td>\n",
       "      <td>4</td>\n",
       "      <td>1</td>\n",
       "      <td>0</td>\n",
       "      <td>0</td>\n",
       "      <td>0</td>\n",
       "      <td>21.937559</td>\n",
       "      <td>46</td>\n",
       "      <td>17</td>\n",
       "      <td>1</td>\n",
       "      <td>LINESTRING (103.83721 1.31461, 103.83727 1.314...</td>\n",
       "    </tr>\n",
       "    <tr>\n",
       "      <th>...</th>\n",
       "      <td>...</td>\n",
       "      <td>...</td>\n",
       "      <td>...</td>\n",
       "      <td>...</td>\n",
       "      <td>...</td>\n",
       "      <td>...</td>\n",
       "      <td>...</td>\n",
       "      <td>...</td>\n",
       "      <td>...</td>\n",
       "      <td>...</td>\n",
       "      <td>...</td>\n",
       "      <td>...</td>\n",
       "      <td>...</td>\n",
       "      <td>...</td>\n",
       "      <td>...</td>\n",
       "      <td>...</td>\n",
       "      <td>...</td>\n",
       "      <td>...</td>\n",
       "      <td>...</td>\n",
       "      <td>...</td>\n",
       "      <td>...</td>\n",
       "    </tr>\n",
       "    <tr>\n",
       "      <th>50343</th>\n",
       "      <td>50344</td>\n",
       "      <td>5153</td>\n",
       "      <td>footway</td>\n",
       "      <td>None</td>\n",
       "      <td>None</td>\n",
       "      <td>B</td>\n",
       "      <td>0</td>\n",
       "      <td>0</td>\n",
       "      <td>F</td>\n",
       "      <td>F</td>\n",
       "      <td>...</td>\n",
       "      <td>2</td>\n",
       "      <td>1</td>\n",
       "      <td>0</td>\n",
       "      <td>0</td>\n",
       "      <td>0</td>\n",
       "      <td>100.068655</td>\n",
       "      <td>42</td>\n",
       "      <td>24</td>\n",
       "      <td>10</td>\n",
       "      <td>LINESTRING (103.84753 1.29756, 103.84767 1.297...</td>\n",
       "    </tr>\n",
       "    <tr>\n",
       "      <th>50344</th>\n",
       "      <td>50345</td>\n",
       "      <td>5153</td>\n",
       "      <td>footway</td>\n",
       "      <td>None</td>\n",
       "      <td>None</td>\n",
       "      <td>B</td>\n",
       "      <td>0</td>\n",
       "      <td>0</td>\n",
       "      <td>F</td>\n",
       "      <td>F</td>\n",
       "      <td>...</td>\n",
       "      <td>0</td>\n",
       "      <td>0</td>\n",
       "      <td>0</td>\n",
       "      <td>0</td>\n",
       "      <td>0</td>\n",
       "      <td>36.577630</td>\n",
       "      <td>109</td>\n",
       "      <td>5</td>\n",
       "      <td>1</td>\n",
       "      <td>LINESTRING (103.84720 1.29759, 103.84721 1.297...</td>\n",
       "    </tr>\n",
       "    <tr>\n",
       "      <th>50345</th>\n",
       "      <td>50346</td>\n",
       "      <td>5153</td>\n",
       "      <td>footway</td>\n",
       "      <td>None</td>\n",
       "      <td>None</td>\n",
       "      <td>B</td>\n",
       "      <td>0</td>\n",
       "      <td>0</td>\n",
       "      <td>F</td>\n",
       "      <td>F</td>\n",
       "      <td>...</td>\n",
       "      <td>0</td>\n",
       "      <td>0</td>\n",
       "      <td>0</td>\n",
       "      <td>0</td>\n",
       "      <td>0</td>\n",
       "      <td>6.727414</td>\n",
       "      <td>104</td>\n",
       "      <td>4</td>\n",
       "      <td>2</td>\n",
       "      <td>LINESTRING (103.84721 1.29759, 103.84721 1.297...</td>\n",
       "    </tr>\n",
       "    <tr>\n",
       "      <th>50346</th>\n",
       "      <td>50347</td>\n",
       "      <td>5153</td>\n",
       "      <td>footway</td>\n",
       "      <td>None</td>\n",
       "      <td>None</td>\n",
       "      <td>B</td>\n",
       "      <td>0</td>\n",
       "      <td>0</td>\n",
       "      <td>F</td>\n",
       "      <td>F</td>\n",
       "      <td>...</td>\n",
       "      <td>0</td>\n",
       "      <td>0</td>\n",
       "      <td>0</td>\n",
       "      <td>0</td>\n",
       "      <td>0</td>\n",
       "      <td>3.673968</td>\n",
       "      <td>92</td>\n",
       "      <td>5</td>\n",
       "      <td>1</td>\n",
       "      <td>LINESTRING (103.84721 1.29753, 103.84720 1.29750)</td>\n",
       "    </tr>\n",
       "    <tr>\n",
       "      <th>50347</th>\n",
       "      <td>50348</td>\n",
       "      <td>5155</td>\n",
       "      <td>steps</td>\n",
       "      <td>None</td>\n",
       "      <td>None</td>\n",
       "      <td>B</td>\n",
       "      <td>0</td>\n",
       "      <td>0</td>\n",
       "      <td>F</td>\n",
       "      <td>F</td>\n",
       "      <td>...</td>\n",
       "      <td>2</td>\n",
       "      <td>1</td>\n",
       "      <td>0</td>\n",
       "      <td>0</td>\n",
       "      <td>0</td>\n",
       "      <td>25.307608</td>\n",
       "      <td>57</td>\n",
       "      <td>18</td>\n",
       "      <td>2</td>\n",
       "      <td>LINESTRING (103.84689 1.29119, 103.84686 1.291...</td>\n",
       "    </tr>\n",
       "  </tbody>\n",
       "</table>\n",
       "<p>50348 rows × 21 columns</p>\n",
       "</div>"
      ],
      "text/plain": [
       "      osm_id  code       fclass           name   ref oneway  maxspeed  layer  \\\n",
       "0          1  5115     tertiary  Keng Lee Road  None      F        50      0   \n",
       "1          2  5115     tertiary  Keng Lee Road  None      F        50      0   \n",
       "2          3  5153      footway           None  None      B         0      0   \n",
       "3          4  5153      footway           None  None      B         0      0   \n",
       "4          5  5122  residential   Sarkies Road  None      B        50      0   \n",
       "...      ...   ...          ...            ...   ...    ...       ...    ...   \n",
       "50343  50344  5153      footway           None  None      B         0      0   \n",
       "50344  50345  5153      footway           None  None      B         0      0   \n",
       "50345  50346  5153      footway           None  None      B         0      0   \n",
       "50346  50347  5153      footway           None  None      B         0      0   \n",
       "50347  50348  5155        steps           None  None      B         0      0   \n",
       "\n",
       "      bridge tunnel  ...  Lamps25m  Lamps10m  CCTV100mRE  CCTV50mRE  \\\n",
       "0          F      F  ...         6         4           0          0   \n",
       "1          F      F  ...         4         2           0          0   \n",
       "2          F      F  ...         1         0           0          0   \n",
       "3          F      F  ...         2         0           0          0   \n",
       "4          F      F  ...         4         1           0          0   \n",
       "...      ...    ...  ...       ...       ...         ...        ...   \n",
       "50343      F      F  ...         2         1           0          0   \n",
       "50344      F      F  ...         0         0           0          0   \n",
       "50345      F      F  ...         0         0           0          0   \n",
       "50346      F      F  ...         0         0           0          0   \n",
       "50347      F      F  ...         2         1           0          0   \n",
       "\n",
       "       CCTV25mRE      Length  Trees50m  Trees25m  Trees10m  \\\n",
       "0              0  100.099656       120        89        50   \n",
       "1              0   38.075346        51        29        18   \n",
       "2              0   99.549892        36        12         6   \n",
       "3              0   47.704451        57        19         7   \n",
       "4              0   21.937559        46        17         1   \n",
       "...          ...         ...       ...       ...       ...   \n",
       "50343          0  100.068655        42        24        10   \n",
       "50344          0   36.577630       109         5         1   \n",
       "50345          0    6.727414       104         4         2   \n",
       "50346          0    3.673968        92         5         1   \n",
       "50347          0   25.307608        57        18         2   \n",
       "\n",
       "                                                geometry  \n",
       "0      LINESTRING (103.84379 1.31370, 103.84468 1.31383)  \n",
       "1      LINESTRING (103.84468 1.31383, 103.84495 1.313...  \n",
       "2      LINESTRING (103.84083 1.31463, 103.84115 1.31379)  \n",
       "3      LINESTRING (103.84115 1.31379, 103.84126 1.313...  \n",
       "4      LINESTRING (103.83721 1.31461, 103.83727 1.314...  \n",
       "...                                                  ...  \n",
       "50343  LINESTRING (103.84753 1.29756, 103.84767 1.297...  \n",
       "50344  LINESTRING (103.84720 1.29759, 103.84721 1.297...  \n",
       "50345  LINESTRING (103.84721 1.29759, 103.84721 1.297...  \n",
       "50346  LINESTRING (103.84721 1.29753, 103.84720 1.29750)  \n",
       "50347  LINESTRING (103.84689 1.29119, 103.84686 1.291...  \n",
       "\n",
       "[50348 rows x 21 columns]"
      ]
     },
     "execution_count": 21,
     "metadata": {},
     "output_type": "execute_result"
    }
   ],
   "source": [
    "# For reference only, the geodataframe with all path\n",
    "fname = '../data/s3.zip'\n",
    "SLC = gpd.read_file(fname)\n",
    "SLC"
   ]
  },
  {
   "cell_type": "markdown",
   "id": "9d15ea00",
   "metadata": {},
   "source": [
    "#### With some stats"
   ]
  },
  {
   "cell_type": "code",
   "execution_count": 24,
   "id": "0d6eca06",
   "metadata": {},
   "outputs": [
    {
     "data": {
      "text/html": [
       "<div>\n",
       "<style scoped>\n",
       "    .dataframe tbody tr th:only-of-type {\n",
       "        vertical-align: middle;\n",
       "    }\n",
       "\n",
       "    .dataframe tbody tr th {\n",
       "        vertical-align: top;\n",
       "    }\n",
       "\n",
       "    .dataframe thead th {\n",
       "        text-align: right;\n",
       "    }\n",
       "</style>\n",
       "<table border=\"1\" class=\"dataframe\">\n",
       "  <thead>\n",
       "    <tr style=\"text-align: right;\">\n",
       "      <th></th>\n",
       "      <th>network</th>\n",
       "      <th>length (m)</th>\n",
       "      <th>number of segments</th>\n",
       "    </tr>\n",
       "  </thead>\n",
       "  <tbody>\n",
       "    <tr>\n",
       "      <th>0</th>\n",
       "      <td>bridleway</td>\n",
       "      <td>880</td>\n",
       "      <td>11</td>\n",
       "    </tr>\n",
       "    <tr>\n",
       "      <th>1</th>\n",
       "      <td>cycleway</td>\n",
       "      <td>46307</td>\n",
       "      <td>698</td>\n",
       "    </tr>\n",
       "    <tr>\n",
       "      <th>2</th>\n",
       "      <td>footway</td>\n",
       "      <td>800191</td>\n",
       "      <td>16713</td>\n",
       "    </tr>\n",
       "    <tr>\n",
       "      <th>3</th>\n",
       "      <td>living_street</td>\n",
       "      <td>2090</td>\n",
       "      <td>65</td>\n",
       "    </tr>\n",
       "    <tr>\n",
       "      <th>4</th>\n",
       "      <td>path</td>\n",
       "      <td>16906</td>\n",
       "      <td>284</td>\n",
       "    </tr>\n",
       "    <tr>\n",
       "      <th>5</th>\n",
       "      <td>pedestrian</td>\n",
       "      <td>70678</td>\n",
       "      <td>1469</td>\n",
       "    </tr>\n",
       "    <tr>\n",
       "      <th>6</th>\n",
       "      <td>residential</td>\n",
       "      <td>312628</td>\n",
       "      <td>10205</td>\n",
       "    </tr>\n",
       "    <tr>\n",
       "      <th>7</th>\n",
       "      <td>secondary</td>\n",
       "      <td>74031</td>\n",
       "      <td>1973</td>\n",
       "    </tr>\n",
       "    <tr>\n",
       "      <th>8</th>\n",
       "      <td>secondary_link</td>\n",
       "      <td>2608</td>\n",
       "      <td>73</td>\n",
       "    </tr>\n",
       "    <tr>\n",
       "      <th>9</th>\n",
       "      <td>service</td>\n",
       "      <td>545996</td>\n",
       "      <td>15409</td>\n",
       "    </tr>\n",
       "    <tr>\n",
       "      <th>10</th>\n",
       "      <td>steps</td>\n",
       "      <td>17049</td>\n",
       "      <td>1097</td>\n",
       "    </tr>\n",
       "    <tr>\n",
       "      <th>11</th>\n",
       "      <td>tertiary</td>\n",
       "      <td>58249</td>\n",
       "      <td>1864</td>\n",
       "    </tr>\n",
       "    <tr>\n",
       "      <th>12</th>\n",
       "      <td>tertiary_link</td>\n",
       "      <td>1632</td>\n",
       "      <td>50</td>\n",
       "    </tr>\n",
       "    <tr>\n",
       "      <th>13</th>\n",
       "      <td>track</td>\n",
       "      <td>2107</td>\n",
       "      <td>26</td>\n",
       "    </tr>\n",
       "    <tr>\n",
       "      <th>14</th>\n",
       "      <td>track_grade1</td>\n",
       "      <td>681</td>\n",
       "      <td>7</td>\n",
       "    </tr>\n",
       "    <tr>\n",
       "      <th>15</th>\n",
       "      <td>track_grade2</td>\n",
       "      <td>1159</td>\n",
       "      <td>17</td>\n",
       "    </tr>\n",
       "    <tr>\n",
       "      <th>16</th>\n",
       "      <td>track_grade3</td>\n",
       "      <td>214</td>\n",
       "      <td>3</td>\n",
       "    </tr>\n",
       "    <tr>\n",
       "      <th>17</th>\n",
       "      <td>track_grade4</td>\n",
       "      <td>1552</td>\n",
       "      <td>18</td>\n",
       "    </tr>\n",
       "    <tr>\n",
       "      <th>18</th>\n",
       "      <td>track_grade5</td>\n",
       "      <td>439</td>\n",
       "      <td>7</td>\n",
       "    </tr>\n",
       "    <tr>\n",
       "      <th>19</th>\n",
       "      <td>unclassified</td>\n",
       "      <td>13775</td>\n",
       "      <td>359</td>\n",
       "    </tr>\n",
       "  </tbody>\n",
       "</table>\n",
       "</div>"
      ],
      "text/plain": [
       "           network  length (m)  number of segments\n",
       "0        bridleway         880                  11\n",
       "1         cycleway       46307                 698\n",
       "2          footway      800191               16713\n",
       "3    living_street        2090                  65\n",
       "4             path       16906                 284\n",
       "5       pedestrian       70678                1469\n",
       "6      residential      312628               10205\n",
       "7        secondary       74031                1973\n",
       "8   secondary_link        2608                  73\n",
       "9          service      545996               15409\n",
       "10           steps       17049                1097\n",
       "11        tertiary       58249                1864\n",
       "12   tertiary_link        1632                  50\n",
       "13           track        2107                  26\n",
       "14    track_grade1         681                   7\n",
       "15    track_grade2        1159                  17\n",
       "16    track_grade3         214                   3\n",
       "17    track_grade4        1552                  18\n",
       "18    track_grade5         439                   7\n",
       "19    unclassified       13775                 359"
      ]
     },
     "execution_count": 24,
     "metadata": {},
     "output_type": "execute_result"
    }
   ],
   "source": [
    "stats = SLC.groupby('fclass')['Length'].agg(['sum','count']).astype(int).reset_index()\n",
    "stats.columns = [\"network\",\"length (m)\",\"number of segments\"]\n",
    "stats"
   ]
  },
  {
   "cell_type": "markdown",
   "id": "017dc9aa",
   "metadata": {},
   "source": [
    "# Starting the streamlit"
   ]
  },
  {
   "cell_type": "code",
   "execution_count": 2,
   "id": "bbed94ea",
   "metadata": {},
   "outputs": [],
   "source": [
    "def loadShp(path):\n",
    "    # Reading the overall network\n",
    "    G= nx.readwrite.nx_shp.read_shp(path)\n",
    "    # Support to network identification\n",
    "    df_nodes = pd.read_csv(\"data/SG_nodes.txt\", index_col=0)\n",
    "    # Some cleaning necessary for csv loadup\n",
    "    dfNodes = pd.read_csv(\"data/dfNodes.csv.zip\")\n",
    "    dfNodes.Pos = dfNodes.Pos.apply(lambda x: eval(x))\n",
    "    dfEdges = pd.read_csv(\"data/dfEdges.csv.zip\") \n",
    "    dfEdges.geometry = dfEdges.geometry.apply(lambda x: loads(x.replace('\\'', '')))\n",
    "    # Additional layers  \n",
    "    gTrees = gpd.read_file('data/sTrees.zip') \n",
    "    gLamps = gpd.read_file('data/sLamps.zip') \n",
    "    gPark = gpd.read_file('data/sParks.zip') \n",
    "    gCCTV = gpd.read_file('data/sCCTV.zip') \n",
    "    return G, df_nodes, dfNodes, dfEdges, gTrees, gLamps, gPark, gCCTV\n",
    "\n",
    "# This call should be cached\n",
    "G, df_nodes, dfNodes, dfEdges, gTrees, gLamps, gPark, gCCTV = loadShp(\"data/s3/StreetsLampsCCTVTrees.shp\")"
   ]
  },
  {
   "cell_type": "code",
   "execution_count": 3,
   "id": "42ea8c9a",
   "metadata": {},
   "outputs": [],
   "source": [
    "security   = 1 \n",
    "cctv_perf  = 5.0\n",
    "lamps_perf = 5.0\n",
    "trees_perf = 5.0\n",
    "#Different values for different types for paths\n",
    "footway     = 2.0\n",
    "residential = 1.5 \n",
    "steps       = 2.0\n",
    "\n",
    "UseDummyPoints = True\n",
    "\n",
    "if UseDummyPoints:\n",
    "    start,end = dt.getStartEnd(\"nop\", \"end\", df_nodes, dummy= UseDummyPoints)\n",
    "else:\n",
    "    start,end = dt.getStartEnd(start_point, end_point, df_nodes, dummy= UseDummyPoints)"
   ]
  },
  {
   "cell_type": "code",
   "execution_count": 13,
   "id": "c77f189e",
   "metadata": {},
   "outputs": [],
   "source": [
    "weighted_G, pos, labels = dt.get_weighted_graph(G,security=1,cctv_perf=cctv_perf,lamps_perf=lamps_perf)"
   ]
  },
  {
   "cell_type": "code",
   "execution_count": 14,
   "id": "76e37150",
   "metadata": {},
   "outputs": [
    {
     "data": {
      "application/vnd.plotly.v1+json": {
       "config": {
        "plotlyServerURL": "https://plot.ly"
       },
       "data": [
        {
         "lat": [
          1.2759796,
          1.2761567,
          1.276506957597754,
          1.2772648,
          1.2775118,
          1.2780022195203244,
          1.278409,
          1.2788459248581938,
          1.2793305,
          1.2793306189352318,
          1.279342550598996,
          1.2798029600835055,
          1.2803363,
          1.2804337,
          1.2807357,
          1.2799839759686575,
          1.2792196357775454,
          1.2790702,
          1.27865,
          1.2787145,
          1.2783968,
          1.2776516474326636,
          1.2768911951332396,
          1.2761931,
          1.2758382765907024,
          1.2750996,
          1.275297851881621,
          1.2754359,
          1.2757975,
          1.2757037,
          1.2757919,
          1.2756633714859404,
          1.2749756,
          1.2750715003092419,
          1.2750797,
          1.2752041,
          1.2753912,
          1.2754564942403002,
          1.2754587,
          1.2754711340959823,
          1.2754808,
          1.2755112,
          1.2757289,
          1.2759267,
          1.2761339,
          1.2767689,
          1.276859,
          1.2769309,
          1.2769951,
          1.2770377,
          1.2770798,
          1.2779533336358857,
          1.2785304,
          1.2785121,
          1.2788438,
          1.2794032,
          1.2794109,
          1.2798496,
          1.2803541,
          1.2804985,
          1.2805406,
          1.280690706263291,
          1.2813515352807066,
          1.2813785,
          1.2817124,
          1.2817996,
          1.282474,
          1.2827394,
          1.2828912,
          1.283202,
          1.2836322,
          1.2841313,
          1.284238049057289,
          1.2845093,
          1.285011293171393,
          1.28503,
          1.2854539,
          1.2857971,
          1.2864192,
          1.2860483,
          1.2858218,
          1.2856171,
          1.2854324,
          1.2856241,
          1.2856392,
          1.2858658
         ],
         "line": {
          "color": "blue",
          "width": 4.5
         },
         "lon": [
          103.8550309,
          103.8551911,
          103.85541726051068,
          103.8559019,
          103.8560528,
          103.85529867514984,
          103.8546732,
          103.85399199340333,
          103.8532341,
          103.85323391225926,
          103.8532150779801,
          103.85244250605257,
          103.8517181,
          103.8516105,
          103.8512271,
          103.85073309079938,
          103.85025896343426,
          103.8501664,
          103.849919,
          103.8498119,
          103.8495155,
          103.84904461872156,
          103.84856406914469,
          103.8480366,
          103.84787979311436,
          103.8473664,
          103.84697259112207,
          103.8466982,
          103.8465449,
          103.8464835,
          103.8463764,
          103.84626111885136,
          103.8456816,
          103.84555510956858,
          103.8455443,
          103.8453796,
          103.8451342,
          103.84489690583268,
          103.8448853,
          103.84480478782194,
          103.8447422,
          103.844541,
          103.8445729,
          103.8446009,
          103.8446323,
          103.8447586,
          103.8447809,
          103.8444571,
          103.8441683,
          103.8441728,
          103.8439317,
          103.84399166844288,
          103.8441597,
          103.8438774,
          103.8439235,
          103.8439262,
          103.8438469,
          103.8439071,
          103.8440177,
          103.8440417,
          103.8440762,
          103.84420577131485,
          103.84476056830627,
          103.8447803,
          103.8450121,
          103.8450622,
          103.8454382,
          103.8455868,
          103.8456761,
          103.8458432,
          103.8461028,
          103.8463759,
          103.84644020359879,
          103.8466036,
          103.84690056661344,
          103.8469116,
          103.8471684,
          103.8473776,
          103.8477564,
          103.8484409,
          103.8488909,
          103.8492581,
          103.8496014,
          103.8496767,
          103.8497862,
          103.850192
         ],
         "marker": {
          "size": 10
         },
         "mode": "lines",
         "name": "Optimal path - nodes",
         "type": "scattermapbox"
        },
        {
         "lat": [
          1.2761567,
          1.2759568,
          1.2759796,
          null,
          1.27650695759775,
          1.2761567,
          null,
          1.2772648,
          1.2768784,
          1.27650695759775,
          null,
          1.2775118,
          1.2774142,
          1.2772648,
          null,
          1.2775118,
          1.27800221952032,
          null,
          1.27800221952032,
          1.2780673,
          1.2783506,
          1.278409,
          null,
          1.27884592485819,
          1.2784447,
          1.2784217,
          1.278409,
          null,
          1.2793305,
          1.2793058,
          1.2792878,
          1.278965,
          1.27884592485819,
          null,
          1.27933061893523,
          1.2793305,
          null,
          1.279342550599,
          1.27933061893523,
          null,
          1.27980296008351,
          1.2797917,
          1.2797905,
          1.2797417,
          1.2797294,
          1.2797009,
          1.2793745,
          1.2793547,
          1.279342550599,
          null,
          1.2803363,
          1.27980296008351,
          null,
          1.2804337,
          1.2803363,
          null,
          1.2807357,
          1.2804337,
          null,
          1.2807357,
          1.2806575,
          1.2805698,
          1.27998397596866,
          null,
          1.27998397596866,
          1.2798884,
          1.2798385,
          1.27921963577755,
          null,
          1.27921963577755,
          1.2790702,
          null,
          1.27865,
          1.2788053,
          1.2790702,
          null,
          1.27865,
          1.2787145,
          null,
          1.2787145,
          1.2787607,
          1.2785785,
          1.2783968,
          null,
          1.27765164743266,
          1.2783968,
          null,
          1.27689119513324,
          1.27765164743266,
          null,
          1.2761931,
          1.2762506,
          1.2762522,
          1.2762888,
          1.27689119513324,
          null,
          1.2758382765907,
          1.2759485,
          1.2759966,
          1.2760565,
          1.2761931,
          null,
          1.2750996,
          1.2756757,
          1.2758382765907,
          null,
          1.27529785188162,
          1.2751893,
          1.2751545,
          1.2751263,
          1.2750996,
          null,
          1.2754359,
          1.2752982,
          1.27529785188162,
          null,
          1.2757975,
          1.2754359,
          null,
          1.2757037,
          1.2757532,
          1.2757975,
          null,
          1.2757037,
          1.2757452,
          1.2757919,
          null,
          1.27566337148594,
          1.2757919,
          null,
          1.2749756,
          1.2750044,
          1.2754824,
          1.27566337148594,
          null,
          1.27507150030924,
          1.2749955,
          1.2749756,
          null,
          1.2750797,
          1.27507150030924,
          null,
          1.2752041,
          1.2750797,
          null,
          1.2753912,
          1.2753287,
          1.2752041,
          null,
          1.2754564942403,
          1.275435,
          1.2753912,
          null,
          1.2754587,
          1.2754564942403,
          null,
          1.27547113409598,
          1.2754587,
          null,
          1.2754808,
          1.27547113409598,
          null,
          1.2755112,
          1.2754956,
          1.2754808,
          null,
          1.2757289,
          1.2755112,
          null,
          1.2759267,
          1.2757289,
          null,
          1.2761339,
          1.2759267,
          null,
          1.2767689,
          1.2766897,
          1.2761681,
          1.2761339,
          null,
          1.276859,
          1.2767689,
          null,
          1.2769309,
          1.2768769,
          1.276859,
          null,
          1.2769951,
          1.2769309,
          null,
          1.2769951,
          1.2770377,
          null,
          1.2770377,
          1.2770798,
          null,
          1.2770798,
          1.2772596,
          1.2774719,
          1.2776515,
          1.2778158,
          1.27795333363589,
          null,
          1.27795333363589,
          1.278224,
          1.2784386,
          1.2785304,
          null,
          1.2785121,
          1.2785153,
          1.2785304,
          null,
          1.2788438,
          1.2787352,
          1.278623,
          1.2785121,
          null,
          1.2794032,
          1.2791673,
          1.2788438,
          null,
          1.2794109,
          1.2794032,
          null,
          1.2794109,
          1.2796604,
          1.2798496,
          null,
          1.2798496,
          1.2803203,
          1.2803541,
          null,
          1.2803541,
          1.2804985,
          null,
          1.2805406,
          1.2805137,
          1.2804985,
          null,
          1.28069070626329,
          1.2805406,
          null,
          1.28135153528071,
          1.2813319,
          1.2811929,
          1.281079,
          1.281049,
          1.2808615,
          1.28069070626329,
          null,
          1.2813785,
          1.28135153528071,
          null,
          1.2817124,
          1.281414,
          1.2813785,
          null,
          1.2817996,
          1.2817124,
          null,
          1.282474,
          1.2822174,
          1.281927,
          1.2817996,
          null,
          1.2827394,
          1.2827013,
          1.282474,
          null,
          1.2828912,
          1.2827394,
          null,
          1.283202,
          1.2828912,
          null,
          1.2836322,
          1.2835289,
          1.283202,
          null,
          1.2841313,
          1.2837333,
          1.2836322,
          null,
          1.28423804905729,
          1.2841313,
          null,
          1.2845093,
          1.28423804905729,
          null,
          1.28501129317139,
          1.2845729,
          1.2845093,
          null,
          1.28503,
          1.28501129317139,
          null,
          1.2854539,
          1.28503,
          null,
          1.2857971,
          1.2855339,
          1.2854539,
          null,
          1.2864192,
          1.2857971,
          null,
          1.2860483,
          1.2861077,
          1.2864192,
          null,
          1.2858218,
          1.2860483,
          null,
          1.2856171,
          1.2858218,
          null,
          1.2854324,
          1.2854246,
          1.2854166,
          1.2854153,
          1.2854169,
          1.2854226,
          1.2854525,
          1.2854739,
          1.285489,
          1.2855158,
          1.2855513,
          1.2855772,
          1.2856171,
          null,
          1.2854324,
          1.2854638,
          1.2854925,
          1.2855223,
          1.2855511,
          1.2855773,
          1.285599,
          1.285615,
          1.2856241,
          null,
          1.2856241,
          1.2856392,
          null,
          1.2856392,
          1.2856667,
          1.2857202,
          1.2857687,
          1.2858151,
          1.2858658,
          null
         ],
         "line": {
          "color": "red",
          "width": 4.5
         },
         "lon": [
          103.8551911,
          103.855062,
          103.8550309,
          null,
          103.855417260511,
          103.8551911,
          null,
          103.8559019,
          103.8556571,
          103.855417260511,
          null,
          103.8560528,
          103.8559907,
          103.8559019,
          null,
          103.8560528,
          103.85529867515,
          null,
          103.85529867515,
          103.8551986,
          103.8547629,
          103.8546732,
          null,
          103.853991993403,
          103.8546187,
          103.8546545,
          103.8546732,
          null,
          103.8532341,
          103.8532727,
          103.8533009,
          103.853806,
          103.853991993403,
          null,
          103.853233912259,
          103.8532341,
          null,
          103.85321507798,
          103.853233912259,
          null,
          103.852442506053,
          103.8524578,
          103.8524597,
          103.8525407,
          103.852561,
          103.852604,
          103.8531646,
          103.8531959,
          103.85321507798,
          null,
          103.8517181,
          103.852442506053,
          null,
          103.8516105,
          103.8517181,
          null,
          103.8512271,
          103.8516105,
          null,
          103.8512271,
          103.8511742,
          103.8511198,
          103.850733090799,
          null,
          103.850733090799,
          103.85067,
          103.8506423,
          103.850258963434,
          null,
          103.850258963434,
          103.8501664,
          null,
          103.849919,
          103.8500104,
          103.8501664,
          null,
          103.849919,
          103.8498119,
          null,
          103.8498119,
          103.8497352,
          103.8496275,
          103.8495155,
          null,
          103.849044618722,
          103.8495155,
          null,
          103.848564069145,
          103.849044618722,
          null,
          103.8480366,
          103.8480827,
          103.8481363,
          103.8481834,
          103.848564069145,
          null,
          103.847879793114,
          103.8479564,
          103.8479394,
          103.8479447,
          103.8480366,
          null,
          103.8473664,
          103.8477668,
          103.847879793114,
          null,
          103.846972591122,
          103.8471881,
          103.847258,
          103.8473134,
          103.8473664,
          null,
          103.8466982,
          103.8469719,
          103.846972591122,
          null,
          103.8465449,
          103.8466982,
          null,
          103.8464835,
          103.8465159,
          103.8465449,
          null,
          103.8464835,
          103.8464331,
          103.8463764,
          null,
          103.846261118851,
          103.8463764,
          null,
          103.8456816,
          103.8457034,
          103.8460988,
          103.846261118851,
          null,
          103.845555109569,
          103.8456553,
          103.8456816,
          null,
          103.8455443,
          103.845555109569,
          null,
          103.8453796,
          103.8455443,
          null,
          103.8451342,
          103.8452172,
          103.8453796,
          null,
          103.844896905833,
          103.84501,
          103.8451342,
          null,
          103.8448853,
          103.844896905833,
          null,
          103.844804787822,
          103.8448853,
          null,
          103.8447422,
          103.844804787822,
          null,
          103.844541,
          103.8446255,
          103.8447422,
          null,
          103.8445729,
          103.844541,
          null,
          103.8446009,
          103.8445729,
          null,
          103.8446323,
          103.8446009,
          null,
          103.8447586,
          103.8447428,
          103.8446391,
          103.8446323,
          null,
          103.8447809,
          103.8447586,
          null,
          103.8444571,
          103.8447004,
          103.8447809,
          null,
          103.8441683,
          103.8444571,
          null,
          103.8441683,
          103.8441728,
          null,
          103.8441728,
          103.8439317,
          null,
          103.8439317,
          103.8439344,
          103.8438704,
          103.8438986,
          103.8439415,
          103.843991668443,
          null,
          103.843991668443,
          103.8440904,
          103.8441387,
          103.8441597,
          null,
          103.8438774,
          103.844072,
          103.8441597,
          null,
          103.8439235,
          103.8439174,
          103.8439014,
          103.8438774,
          null,
          103.8439262,
          103.8439254,
          103.8439235,
          null,
          103.8438469,
          103.8439262,
          null,
          103.8438469,
          103.8438777,
          103.8439071,
          null,
          103.8439071,
          103.8440129,
          103.8440177,
          null,
          103.8440177,
          103.8440417,
          null,
          103.8440762,
          103.8440522,
          103.8440417,
          null,
          103.844205771315,
          103.8440762,
          null,
          103.844760568306,
          103.8447462,
          103.8446546,
          103.8445666,
          103.8445486,
          103.8443532,
          103.844205771315,
          null,
          103.8447803,
          103.844760568306,
          null,
          103.8450121,
          103.8448068,
          103.8447803,
          null,
          103.8450622,
          103.8450121,
          null,
          103.8454382,
          103.8452956,
          103.8451331,
          103.8450622,
          null,
          103.8455868,
          103.8455644,
          103.8454382,
          null,
          103.8456761,
          103.8455868,
          null,
          103.8458432,
          103.8456761,
          null,
          103.8461028,
          103.8460404,
          103.8458432,
          null,
          103.8463759,
          103.8461584,
          103.8461028,
          null,
          103.846440203599,
          103.8463759,
          null,
          103.8466036,
          103.846440203599,
          null,
          103.846900566613,
          103.846642,
          103.8466036,
          null,
          103.8469116,
          103.846900566613,
          null,
          103.8471684,
          103.8469116,
          null,
          103.8473776,
          103.8472182,
          103.8471684,
          null,
          103.8477564,
          103.8473776,
          null,
          103.8484409,
          103.8483394,
          103.8477564,
          null,
          103.8488909,
          103.8484409,
          null,
          103.8492581,
          103.8488909,
          null,
          103.8496014,
          103.8495527,
          103.8495175,
          103.849492,
          103.8494723,
          103.8494488,
          103.8493834,
          103.8493479,
          103.8493318,
          103.84931,
          103.8492838,
          103.8492708,
          103.8492581,
          null,
          103.8496014,
          103.8495896,
          103.8495818,
          103.8495815,
          103.8495887,
          103.8496029,
          103.8496232,
          103.8496483,
          103.8496767,
          null,
          103.8496767,
          103.8497862,
          null,
          103.8497862,
          103.8498437,
          103.8499626,
          103.8500467,
          103.8501184,
          103.850192,
          null
         ],
         "marker": {
          "size": 10
         },
         "mode": "lines",
         "name": "Optimal path - polylines",
         "type": "scattermapbox"
        },
        {
         "lat": [
          103.8550309
         ],
         "lon": [
          1.2759796
         ],
         "marker": {
          "color": "red",
          "size": 12
         },
         "mode": "markers",
         "name": "Source",
         "type": "scattermapbox"
        },
        {
         "lat": [
          103.850192
         ],
         "lon": [
          1.2858658
         ],
         "marker": {
          "color": "green",
          "size": 12
         },
         "mode": "markers",
         "name": "Destination",
         "type": "scattermapbox"
        }
       ],
       "layout": {
        "mapbox": {
         "center": {
          "lat": 1.2793762410688194,
          "lon": 103.84760150293073
         },
         "style": "open-street-map",
         "zoom": 13
        },
        "margin": {
         "b": 0,
         "l": 0,
         "r": 0,
         "t": 0
        },
        "template": {
         "data": {
          "bar": [
           {
            "error_x": {
             "color": "#2a3f5f"
            },
            "error_y": {
             "color": "#2a3f5f"
            },
            "marker": {
             "line": {
              "color": "#E5ECF6",
              "width": 0.5
             }
            },
            "type": "bar"
           }
          ],
          "barpolar": [
           {
            "marker": {
             "line": {
              "color": "#E5ECF6",
              "width": 0.5
             }
            },
            "type": "barpolar"
           }
          ],
          "carpet": [
           {
            "aaxis": {
             "endlinecolor": "#2a3f5f",
             "gridcolor": "white",
             "linecolor": "white",
             "minorgridcolor": "white",
             "startlinecolor": "#2a3f5f"
            },
            "baxis": {
             "endlinecolor": "#2a3f5f",
             "gridcolor": "white",
             "linecolor": "white",
             "minorgridcolor": "white",
             "startlinecolor": "#2a3f5f"
            },
            "type": "carpet"
           }
          ],
          "choropleth": [
           {
            "colorbar": {
             "outlinewidth": 0,
             "ticks": ""
            },
            "type": "choropleth"
           }
          ],
          "contour": [
           {
            "colorbar": {
             "outlinewidth": 0,
             "ticks": ""
            },
            "colorscale": [
             [
              0,
              "#0d0887"
             ],
             [
              0.1111111111111111,
              "#46039f"
             ],
             [
              0.2222222222222222,
              "#7201a8"
             ],
             [
              0.3333333333333333,
              "#9c179e"
             ],
             [
              0.4444444444444444,
              "#bd3786"
             ],
             [
              0.5555555555555556,
              "#d8576b"
             ],
             [
              0.6666666666666666,
              "#ed7953"
             ],
             [
              0.7777777777777778,
              "#fb9f3a"
             ],
             [
              0.8888888888888888,
              "#fdca26"
             ],
             [
              1,
              "#f0f921"
             ]
            ],
            "type": "contour"
           }
          ],
          "contourcarpet": [
           {
            "colorbar": {
             "outlinewidth": 0,
             "ticks": ""
            },
            "type": "contourcarpet"
           }
          ],
          "heatmap": [
           {
            "colorbar": {
             "outlinewidth": 0,
             "ticks": ""
            },
            "colorscale": [
             [
              0,
              "#0d0887"
             ],
             [
              0.1111111111111111,
              "#46039f"
             ],
             [
              0.2222222222222222,
              "#7201a8"
             ],
             [
              0.3333333333333333,
              "#9c179e"
             ],
             [
              0.4444444444444444,
              "#bd3786"
             ],
             [
              0.5555555555555556,
              "#d8576b"
             ],
             [
              0.6666666666666666,
              "#ed7953"
             ],
             [
              0.7777777777777778,
              "#fb9f3a"
             ],
             [
              0.8888888888888888,
              "#fdca26"
             ],
             [
              1,
              "#f0f921"
             ]
            ],
            "type": "heatmap"
           }
          ],
          "heatmapgl": [
           {
            "colorbar": {
             "outlinewidth": 0,
             "ticks": ""
            },
            "colorscale": [
             [
              0,
              "#0d0887"
             ],
             [
              0.1111111111111111,
              "#46039f"
             ],
             [
              0.2222222222222222,
              "#7201a8"
             ],
             [
              0.3333333333333333,
              "#9c179e"
             ],
             [
              0.4444444444444444,
              "#bd3786"
             ],
             [
              0.5555555555555556,
              "#d8576b"
             ],
             [
              0.6666666666666666,
              "#ed7953"
             ],
             [
              0.7777777777777778,
              "#fb9f3a"
             ],
             [
              0.8888888888888888,
              "#fdca26"
             ],
             [
              1,
              "#f0f921"
             ]
            ],
            "type": "heatmapgl"
           }
          ],
          "histogram": [
           {
            "marker": {
             "colorbar": {
              "outlinewidth": 0,
              "ticks": ""
             }
            },
            "type": "histogram"
           }
          ],
          "histogram2d": [
           {
            "colorbar": {
             "outlinewidth": 0,
             "ticks": ""
            },
            "colorscale": [
             [
              0,
              "#0d0887"
             ],
             [
              0.1111111111111111,
              "#46039f"
             ],
             [
              0.2222222222222222,
              "#7201a8"
             ],
             [
              0.3333333333333333,
              "#9c179e"
             ],
             [
              0.4444444444444444,
              "#bd3786"
             ],
             [
              0.5555555555555556,
              "#d8576b"
             ],
             [
              0.6666666666666666,
              "#ed7953"
             ],
             [
              0.7777777777777778,
              "#fb9f3a"
             ],
             [
              0.8888888888888888,
              "#fdca26"
             ],
             [
              1,
              "#f0f921"
             ]
            ],
            "type": "histogram2d"
           }
          ],
          "histogram2dcontour": [
           {
            "colorbar": {
             "outlinewidth": 0,
             "ticks": ""
            },
            "colorscale": [
             [
              0,
              "#0d0887"
             ],
             [
              0.1111111111111111,
              "#46039f"
             ],
             [
              0.2222222222222222,
              "#7201a8"
             ],
             [
              0.3333333333333333,
              "#9c179e"
             ],
             [
              0.4444444444444444,
              "#bd3786"
             ],
             [
              0.5555555555555556,
              "#d8576b"
             ],
             [
              0.6666666666666666,
              "#ed7953"
             ],
             [
              0.7777777777777778,
              "#fb9f3a"
             ],
             [
              0.8888888888888888,
              "#fdca26"
             ],
             [
              1,
              "#f0f921"
             ]
            ],
            "type": "histogram2dcontour"
           }
          ],
          "mesh3d": [
           {
            "colorbar": {
             "outlinewidth": 0,
             "ticks": ""
            },
            "type": "mesh3d"
           }
          ],
          "parcoords": [
           {
            "line": {
             "colorbar": {
              "outlinewidth": 0,
              "ticks": ""
             }
            },
            "type": "parcoords"
           }
          ],
          "pie": [
           {
            "automargin": true,
            "type": "pie"
           }
          ],
          "scatter": [
           {
            "marker": {
             "colorbar": {
              "outlinewidth": 0,
              "ticks": ""
             }
            },
            "type": "scatter"
           }
          ],
          "scatter3d": [
           {
            "line": {
             "colorbar": {
              "outlinewidth": 0,
              "ticks": ""
             }
            },
            "marker": {
             "colorbar": {
              "outlinewidth": 0,
              "ticks": ""
             }
            },
            "type": "scatter3d"
           }
          ],
          "scattercarpet": [
           {
            "marker": {
             "colorbar": {
              "outlinewidth": 0,
              "ticks": ""
             }
            },
            "type": "scattercarpet"
           }
          ],
          "scattergeo": [
           {
            "marker": {
             "colorbar": {
              "outlinewidth": 0,
              "ticks": ""
             }
            },
            "type": "scattergeo"
           }
          ],
          "scattergl": [
           {
            "marker": {
             "colorbar": {
              "outlinewidth": 0,
              "ticks": ""
             }
            },
            "type": "scattergl"
           }
          ],
          "scattermapbox": [
           {
            "marker": {
             "colorbar": {
              "outlinewidth": 0,
              "ticks": ""
             }
            },
            "type": "scattermapbox"
           }
          ],
          "scatterpolar": [
           {
            "marker": {
             "colorbar": {
              "outlinewidth": 0,
              "ticks": ""
             }
            },
            "type": "scatterpolar"
           }
          ],
          "scatterpolargl": [
           {
            "marker": {
             "colorbar": {
              "outlinewidth": 0,
              "ticks": ""
             }
            },
            "type": "scatterpolargl"
           }
          ],
          "scatterternary": [
           {
            "marker": {
             "colorbar": {
              "outlinewidth": 0,
              "ticks": ""
             }
            },
            "type": "scatterternary"
           }
          ],
          "surface": [
           {
            "colorbar": {
             "outlinewidth": 0,
             "ticks": ""
            },
            "colorscale": [
             [
              0,
              "#0d0887"
             ],
             [
              0.1111111111111111,
              "#46039f"
             ],
             [
              0.2222222222222222,
              "#7201a8"
             ],
             [
              0.3333333333333333,
              "#9c179e"
             ],
             [
              0.4444444444444444,
              "#bd3786"
             ],
             [
              0.5555555555555556,
              "#d8576b"
             ],
             [
              0.6666666666666666,
              "#ed7953"
             ],
             [
              0.7777777777777778,
              "#fb9f3a"
             ],
             [
              0.8888888888888888,
              "#fdca26"
             ],
             [
              1,
              "#f0f921"
             ]
            ],
            "type": "surface"
           }
          ],
          "table": [
           {
            "cells": {
             "fill": {
              "color": "#EBF0F8"
             },
             "line": {
              "color": "white"
             }
            },
            "header": {
             "fill": {
              "color": "#C8D4E3"
             },
             "line": {
              "color": "white"
             }
            },
            "type": "table"
           }
          ]
         },
         "layout": {
          "annotationdefaults": {
           "arrowcolor": "#2a3f5f",
           "arrowhead": 0,
           "arrowwidth": 1
          },
          "autotypenumbers": "strict",
          "coloraxis": {
           "colorbar": {
            "outlinewidth": 0,
            "ticks": ""
           }
          },
          "colorscale": {
           "diverging": [
            [
             0,
             "#8e0152"
            ],
            [
             0.1,
             "#c51b7d"
            ],
            [
             0.2,
             "#de77ae"
            ],
            [
             0.3,
             "#f1b6da"
            ],
            [
             0.4,
             "#fde0ef"
            ],
            [
             0.5,
             "#f7f7f7"
            ],
            [
             0.6,
             "#e6f5d0"
            ],
            [
             0.7,
             "#b8e186"
            ],
            [
             0.8,
             "#7fbc41"
            ],
            [
             0.9,
             "#4d9221"
            ],
            [
             1,
             "#276419"
            ]
           ],
           "sequential": [
            [
             0,
             "#0d0887"
            ],
            [
             0.1111111111111111,
             "#46039f"
            ],
            [
             0.2222222222222222,
             "#7201a8"
            ],
            [
             0.3333333333333333,
             "#9c179e"
            ],
            [
             0.4444444444444444,
             "#bd3786"
            ],
            [
             0.5555555555555556,
             "#d8576b"
            ],
            [
             0.6666666666666666,
             "#ed7953"
            ],
            [
             0.7777777777777778,
             "#fb9f3a"
            ],
            [
             0.8888888888888888,
             "#fdca26"
            ],
            [
             1,
             "#f0f921"
            ]
           ],
           "sequentialminus": [
            [
             0,
             "#0d0887"
            ],
            [
             0.1111111111111111,
             "#46039f"
            ],
            [
             0.2222222222222222,
             "#7201a8"
            ],
            [
             0.3333333333333333,
             "#9c179e"
            ],
            [
             0.4444444444444444,
             "#bd3786"
            ],
            [
             0.5555555555555556,
             "#d8576b"
            ],
            [
             0.6666666666666666,
             "#ed7953"
            ],
            [
             0.7777777777777778,
             "#fb9f3a"
            ],
            [
             0.8888888888888888,
             "#fdca26"
            ],
            [
             1,
             "#f0f921"
            ]
           ]
          },
          "colorway": [
           "#636efa",
           "#EF553B",
           "#00cc96",
           "#ab63fa",
           "#FFA15A",
           "#19d3f3",
           "#FF6692",
           "#B6E880",
           "#FF97FF",
           "#FECB52"
          ],
          "font": {
           "color": "#2a3f5f"
          },
          "geo": {
           "bgcolor": "white",
           "lakecolor": "white",
           "landcolor": "#E5ECF6",
           "showlakes": true,
           "showland": true,
           "subunitcolor": "white"
          },
          "hoverlabel": {
           "align": "left"
          },
          "hovermode": "closest",
          "mapbox": {
           "style": "light"
          },
          "paper_bgcolor": "white",
          "plot_bgcolor": "#E5ECF6",
          "polar": {
           "angularaxis": {
            "gridcolor": "white",
            "linecolor": "white",
            "ticks": ""
           },
           "bgcolor": "#E5ECF6",
           "radialaxis": {
            "gridcolor": "white",
            "linecolor": "white",
            "ticks": ""
           }
          },
          "scene": {
           "xaxis": {
            "backgroundcolor": "#E5ECF6",
            "gridcolor": "white",
            "gridwidth": 2,
            "linecolor": "white",
            "showbackground": true,
            "ticks": "",
            "zerolinecolor": "white"
           },
           "yaxis": {
            "backgroundcolor": "#E5ECF6",
            "gridcolor": "white",
            "gridwidth": 2,
            "linecolor": "white",
            "showbackground": true,
            "ticks": "",
            "zerolinecolor": "white"
           },
           "zaxis": {
            "backgroundcolor": "#E5ECF6",
            "gridcolor": "white",
            "gridwidth": 2,
            "linecolor": "white",
            "showbackground": true,
            "ticks": "",
            "zerolinecolor": "white"
           }
          },
          "shapedefaults": {
           "line": {
            "color": "#2a3f5f"
           }
          },
          "ternary": {
           "aaxis": {
            "gridcolor": "white",
            "linecolor": "white",
            "ticks": ""
           },
           "baxis": {
            "gridcolor": "white",
            "linecolor": "white",
            "ticks": ""
           },
           "bgcolor": "#E5ECF6",
           "caxis": {
            "gridcolor": "white",
            "linecolor": "white",
            "ticks": ""
           }
          },
          "title": {
           "x": 0.05
          },
          "xaxis": {
           "automargin": true,
           "gridcolor": "white",
           "linecolor": "white",
           "ticks": "",
           "title": {
            "standoff": 15
           },
           "zerolinecolor": "white",
           "zerolinewidth": 2
          },
          "yaxis": {
           "automargin": true,
           "gridcolor": "white",
           "linecolor": "white",
           "ticks": "",
           "title": {
            "standoff": 15
           },
           "zerolinecolor": "white",
           "zerolinewidth": 2
          }
         }
        }
       }
      },
      "text/html": [
       "<div>                            <div id=\"8d7c594d-f36c-4226-b2ec-d7a1ec9ac48e\" class=\"plotly-graph-div\" style=\"height:525px; width:100%;\"></div>            <script type=\"text/javascript\">                require([\"plotly\"], function(Plotly) {                    window.PLOTLYENV=window.PLOTLYENV || {};                                    if (document.getElementById(\"8d7c594d-f36c-4226-b2ec-d7a1ec9ac48e\")) {                    Plotly.newPlot(                        \"8d7c594d-f36c-4226-b2ec-d7a1ec9ac48e\",                        [{\"lat\": [1.2759796, 1.2761567, 1.276506957597754, 1.2772648, 1.2775118, 1.2780022195203244, 1.278409, 1.2788459248581938, 1.2793305, 1.2793306189352318, 1.279342550598996, 1.2798029600835055, 1.2803363, 1.2804337, 1.2807357, 1.2799839759686575, 1.2792196357775454, 1.2790702, 1.27865, 1.2787145, 1.2783968, 1.2776516474326636, 1.2768911951332396, 1.2761931, 1.2758382765907024, 1.2750996, 1.275297851881621, 1.2754359, 1.2757975, 1.2757037, 1.2757919, 1.2756633714859404, 1.2749756, 1.2750715003092419, 1.2750797, 1.2752041, 1.2753912, 1.2754564942403002, 1.2754587, 1.2754711340959823, 1.2754808, 1.2755112, 1.2757289, 1.2759267, 1.2761339, 1.2767689, 1.276859, 1.2769309, 1.2769951, 1.2770377, 1.2770798, 1.2779533336358857, 1.2785304, 1.2785121, 1.2788438, 1.2794032, 1.2794109, 1.2798496, 1.2803541, 1.2804985, 1.2805406, 1.280690706263291, 1.2813515352807066, 1.2813785, 1.2817124, 1.2817996, 1.282474, 1.2827394, 1.2828912, 1.283202, 1.2836322, 1.2841313, 1.284238049057289, 1.2845093, 1.285011293171393, 1.28503, 1.2854539, 1.2857971, 1.2864192, 1.2860483, 1.2858218, 1.2856171, 1.2854324, 1.2856241, 1.2856392, 1.2858658], \"line\": {\"color\": \"blue\", \"width\": 4.5}, \"lon\": [103.8550309, 103.8551911, 103.85541726051068, 103.8559019, 103.8560528, 103.85529867514984, 103.8546732, 103.85399199340333, 103.8532341, 103.85323391225926, 103.8532150779801, 103.85244250605257, 103.8517181, 103.8516105, 103.8512271, 103.85073309079938, 103.85025896343426, 103.8501664, 103.849919, 103.8498119, 103.8495155, 103.84904461872156, 103.84856406914469, 103.8480366, 103.84787979311436, 103.8473664, 103.84697259112207, 103.8466982, 103.8465449, 103.8464835, 103.8463764, 103.84626111885136, 103.8456816, 103.84555510956858, 103.8455443, 103.8453796, 103.8451342, 103.84489690583268, 103.8448853, 103.84480478782194, 103.8447422, 103.844541, 103.8445729, 103.8446009, 103.8446323, 103.8447586, 103.8447809, 103.8444571, 103.8441683, 103.8441728, 103.8439317, 103.84399166844288, 103.8441597, 103.8438774, 103.8439235, 103.8439262, 103.8438469, 103.8439071, 103.8440177, 103.8440417, 103.8440762, 103.84420577131485, 103.84476056830627, 103.8447803, 103.8450121, 103.8450622, 103.8454382, 103.8455868, 103.8456761, 103.8458432, 103.8461028, 103.8463759, 103.84644020359879, 103.8466036, 103.84690056661344, 103.8469116, 103.8471684, 103.8473776, 103.8477564, 103.8484409, 103.8488909, 103.8492581, 103.8496014, 103.8496767, 103.8497862, 103.850192], \"marker\": {\"size\": 10}, \"mode\": \"lines\", \"name\": \"Optimal path - nodes\", \"type\": \"scattermapbox\"}, {\"lat\": [1.2761567, 1.2759568, 1.2759796, null, 1.27650695759775, 1.2761567, null, 1.2772648, 1.2768784, 1.27650695759775, null, 1.2775118, 1.2774142, 1.2772648, null, 1.2775118, 1.27800221952032, null, 1.27800221952032, 1.2780673, 1.2783506, 1.278409, null, 1.27884592485819, 1.2784447, 1.2784217, 1.278409, null, 1.2793305, 1.2793058, 1.2792878, 1.278965, 1.27884592485819, null, 1.27933061893523, 1.2793305, null, 1.279342550599, 1.27933061893523, null, 1.27980296008351, 1.2797917, 1.2797905, 1.2797417, 1.2797294, 1.2797009, 1.2793745, 1.2793547, 1.279342550599, null, 1.2803363, 1.27980296008351, null, 1.2804337, 1.2803363, null, 1.2807357, 1.2804337, null, 1.2807357, 1.2806575, 1.2805698, 1.27998397596866, null, 1.27998397596866, 1.2798884, 1.2798385, 1.27921963577755, null, 1.27921963577755, 1.2790702, null, 1.27865, 1.2788053, 1.2790702, null, 1.27865, 1.2787145, null, 1.2787145, 1.2787607, 1.2785785, 1.2783968, null, 1.27765164743266, 1.2783968, null, 1.27689119513324, 1.27765164743266, null, 1.2761931, 1.2762506, 1.2762522, 1.2762888, 1.27689119513324, null, 1.2758382765907, 1.2759485, 1.2759966, 1.2760565, 1.2761931, null, 1.2750996, 1.2756757, 1.2758382765907, null, 1.27529785188162, 1.2751893, 1.2751545, 1.2751263, 1.2750996, null, 1.2754359, 1.2752982, 1.27529785188162, null, 1.2757975, 1.2754359, null, 1.2757037, 1.2757532, 1.2757975, null, 1.2757037, 1.2757452, 1.2757919, null, 1.27566337148594, 1.2757919, null, 1.2749756, 1.2750044, 1.2754824, 1.27566337148594, null, 1.27507150030924, 1.2749955, 1.2749756, null, 1.2750797, 1.27507150030924, null, 1.2752041, 1.2750797, null, 1.2753912, 1.2753287, 1.2752041, null, 1.2754564942403, 1.275435, 1.2753912, null, 1.2754587, 1.2754564942403, null, 1.27547113409598, 1.2754587, null, 1.2754808, 1.27547113409598, null, 1.2755112, 1.2754956, 1.2754808, null, 1.2757289, 1.2755112, null, 1.2759267, 1.2757289, null, 1.2761339, 1.2759267, null, 1.2767689, 1.2766897, 1.2761681, 1.2761339, null, 1.276859, 1.2767689, null, 1.2769309, 1.2768769, 1.276859, null, 1.2769951, 1.2769309, null, 1.2769951, 1.2770377, null, 1.2770377, 1.2770798, null, 1.2770798, 1.2772596, 1.2774719, 1.2776515, 1.2778158, 1.27795333363589, null, 1.27795333363589, 1.278224, 1.2784386, 1.2785304, null, 1.2785121, 1.2785153, 1.2785304, null, 1.2788438, 1.2787352, 1.278623, 1.2785121, null, 1.2794032, 1.2791673, 1.2788438, null, 1.2794109, 1.2794032, null, 1.2794109, 1.2796604, 1.2798496, null, 1.2798496, 1.2803203, 1.2803541, null, 1.2803541, 1.2804985, null, 1.2805406, 1.2805137, 1.2804985, null, 1.28069070626329, 1.2805406, null, 1.28135153528071, 1.2813319, 1.2811929, 1.281079, 1.281049, 1.2808615, 1.28069070626329, null, 1.2813785, 1.28135153528071, null, 1.2817124, 1.281414, 1.2813785, null, 1.2817996, 1.2817124, null, 1.282474, 1.2822174, 1.281927, 1.2817996, null, 1.2827394, 1.2827013, 1.282474, null, 1.2828912, 1.2827394, null, 1.283202, 1.2828912, null, 1.2836322, 1.2835289, 1.283202, null, 1.2841313, 1.2837333, 1.2836322, null, 1.28423804905729, 1.2841313, null, 1.2845093, 1.28423804905729, null, 1.28501129317139, 1.2845729, 1.2845093, null, 1.28503, 1.28501129317139, null, 1.2854539, 1.28503, null, 1.2857971, 1.2855339, 1.2854539, null, 1.2864192, 1.2857971, null, 1.2860483, 1.2861077, 1.2864192, null, 1.2858218, 1.2860483, null, 1.2856171, 1.2858218, null, 1.2854324, 1.2854246, 1.2854166, 1.2854153, 1.2854169, 1.2854226, 1.2854525, 1.2854739, 1.285489, 1.2855158, 1.2855513, 1.2855772, 1.2856171, null, 1.2854324, 1.2854638, 1.2854925, 1.2855223, 1.2855511, 1.2855773, 1.285599, 1.285615, 1.2856241, null, 1.2856241, 1.2856392, null, 1.2856392, 1.2856667, 1.2857202, 1.2857687, 1.2858151, 1.2858658, null], \"line\": {\"color\": \"red\", \"width\": 4.5}, \"lon\": [103.8551911, 103.855062, 103.8550309, null, 103.855417260511, 103.8551911, null, 103.8559019, 103.8556571, 103.855417260511, null, 103.8560528, 103.8559907, 103.8559019, null, 103.8560528, 103.85529867515, null, 103.85529867515, 103.8551986, 103.8547629, 103.8546732, null, 103.853991993403, 103.8546187, 103.8546545, 103.8546732, null, 103.8532341, 103.8532727, 103.8533009, 103.853806, 103.853991993403, null, 103.853233912259, 103.8532341, null, 103.85321507798, 103.853233912259, null, 103.852442506053, 103.8524578, 103.8524597, 103.8525407, 103.852561, 103.852604, 103.8531646, 103.8531959, 103.85321507798, null, 103.8517181, 103.852442506053, null, 103.8516105, 103.8517181, null, 103.8512271, 103.8516105, null, 103.8512271, 103.8511742, 103.8511198, 103.850733090799, null, 103.850733090799, 103.85067, 103.8506423, 103.850258963434, null, 103.850258963434, 103.8501664, null, 103.849919, 103.8500104, 103.8501664, null, 103.849919, 103.8498119, null, 103.8498119, 103.8497352, 103.8496275, 103.8495155, null, 103.849044618722, 103.8495155, null, 103.848564069145, 103.849044618722, null, 103.8480366, 103.8480827, 103.8481363, 103.8481834, 103.848564069145, null, 103.847879793114, 103.8479564, 103.8479394, 103.8479447, 103.8480366, null, 103.8473664, 103.8477668, 103.847879793114, null, 103.846972591122, 103.8471881, 103.847258, 103.8473134, 103.8473664, null, 103.8466982, 103.8469719, 103.846972591122, null, 103.8465449, 103.8466982, null, 103.8464835, 103.8465159, 103.8465449, null, 103.8464835, 103.8464331, 103.8463764, null, 103.846261118851, 103.8463764, null, 103.8456816, 103.8457034, 103.8460988, 103.846261118851, null, 103.845555109569, 103.8456553, 103.8456816, null, 103.8455443, 103.845555109569, null, 103.8453796, 103.8455443, null, 103.8451342, 103.8452172, 103.8453796, null, 103.844896905833, 103.84501, 103.8451342, null, 103.8448853, 103.844896905833, null, 103.844804787822, 103.8448853, null, 103.8447422, 103.844804787822, null, 103.844541, 103.8446255, 103.8447422, null, 103.8445729, 103.844541, null, 103.8446009, 103.8445729, null, 103.8446323, 103.8446009, null, 103.8447586, 103.8447428, 103.8446391, 103.8446323, null, 103.8447809, 103.8447586, null, 103.8444571, 103.8447004, 103.8447809, null, 103.8441683, 103.8444571, null, 103.8441683, 103.8441728, null, 103.8441728, 103.8439317, null, 103.8439317, 103.8439344, 103.8438704, 103.8438986, 103.8439415, 103.843991668443, null, 103.843991668443, 103.8440904, 103.8441387, 103.8441597, null, 103.8438774, 103.844072, 103.8441597, null, 103.8439235, 103.8439174, 103.8439014, 103.8438774, null, 103.8439262, 103.8439254, 103.8439235, null, 103.8438469, 103.8439262, null, 103.8438469, 103.8438777, 103.8439071, null, 103.8439071, 103.8440129, 103.8440177, null, 103.8440177, 103.8440417, null, 103.8440762, 103.8440522, 103.8440417, null, 103.844205771315, 103.8440762, null, 103.844760568306, 103.8447462, 103.8446546, 103.8445666, 103.8445486, 103.8443532, 103.844205771315, null, 103.8447803, 103.844760568306, null, 103.8450121, 103.8448068, 103.8447803, null, 103.8450622, 103.8450121, null, 103.8454382, 103.8452956, 103.8451331, 103.8450622, null, 103.8455868, 103.8455644, 103.8454382, null, 103.8456761, 103.8455868, null, 103.8458432, 103.8456761, null, 103.8461028, 103.8460404, 103.8458432, null, 103.8463759, 103.8461584, 103.8461028, null, 103.846440203599, 103.8463759, null, 103.8466036, 103.846440203599, null, 103.846900566613, 103.846642, 103.8466036, null, 103.8469116, 103.846900566613, null, 103.8471684, 103.8469116, null, 103.8473776, 103.8472182, 103.8471684, null, 103.8477564, 103.8473776, null, 103.8484409, 103.8483394, 103.8477564, null, 103.8488909, 103.8484409, null, 103.8492581, 103.8488909, null, 103.8496014, 103.8495527, 103.8495175, 103.849492, 103.8494723, 103.8494488, 103.8493834, 103.8493479, 103.8493318, 103.84931, 103.8492838, 103.8492708, 103.8492581, null, 103.8496014, 103.8495896, 103.8495818, 103.8495815, 103.8495887, 103.8496029, 103.8496232, 103.8496483, 103.8496767, null, 103.8496767, 103.8497862, null, 103.8497862, 103.8498437, 103.8499626, 103.8500467, 103.8501184, 103.850192, null], \"marker\": {\"size\": 10}, \"mode\": \"lines\", \"name\": \"Optimal path - polylines\", \"type\": \"scattermapbox\"}, {\"lat\": [103.8550309], \"lon\": [1.2759796], \"marker\": {\"color\": \"red\", \"size\": 12}, \"mode\": \"markers\", \"name\": \"Source\", \"type\": \"scattermapbox\"}, {\"lat\": [103.850192], \"lon\": [1.2858658], \"marker\": {\"color\": \"green\", \"size\": 12}, \"mode\": \"markers\", \"name\": \"Destination\", \"type\": \"scattermapbox\"}],                        {\"mapbox\": {\"center\": {\"lat\": 1.2793762410688194, \"lon\": 103.84760150293073}, \"style\": \"open-street-map\", \"zoom\": 13}, \"margin\": {\"b\": 0, \"l\": 0, \"r\": 0, \"t\": 0}, \"template\": {\"data\": {\"bar\": [{\"error_x\": {\"color\": \"#2a3f5f\"}, \"error_y\": {\"color\": \"#2a3f5f\"}, \"marker\": {\"line\": {\"color\": \"#E5ECF6\", \"width\": 0.5}}, \"type\": \"bar\"}], \"barpolar\": [{\"marker\": {\"line\": {\"color\": \"#E5ECF6\", \"width\": 0.5}}, \"type\": \"barpolar\"}], \"carpet\": [{\"aaxis\": {\"endlinecolor\": \"#2a3f5f\", \"gridcolor\": \"white\", \"linecolor\": \"white\", \"minorgridcolor\": \"white\", \"startlinecolor\": \"#2a3f5f\"}, \"baxis\": {\"endlinecolor\": \"#2a3f5f\", \"gridcolor\": \"white\", \"linecolor\": \"white\", \"minorgridcolor\": \"white\", \"startlinecolor\": \"#2a3f5f\"}, \"type\": \"carpet\"}], \"choropleth\": [{\"colorbar\": {\"outlinewidth\": 0, \"ticks\": \"\"}, \"type\": \"choropleth\"}], \"contour\": [{\"colorbar\": {\"outlinewidth\": 0, \"ticks\": \"\"}, \"colorscale\": [[0.0, \"#0d0887\"], [0.1111111111111111, \"#46039f\"], [0.2222222222222222, \"#7201a8\"], [0.3333333333333333, \"#9c179e\"], [0.4444444444444444, \"#bd3786\"], [0.5555555555555556, \"#d8576b\"], [0.6666666666666666, \"#ed7953\"], [0.7777777777777778, \"#fb9f3a\"], [0.8888888888888888, \"#fdca26\"], [1.0, \"#f0f921\"]], \"type\": \"contour\"}], \"contourcarpet\": [{\"colorbar\": {\"outlinewidth\": 0, \"ticks\": \"\"}, \"type\": \"contourcarpet\"}], \"heatmap\": [{\"colorbar\": {\"outlinewidth\": 0, \"ticks\": \"\"}, \"colorscale\": [[0.0, \"#0d0887\"], [0.1111111111111111, \"#46039f\"], [0.2222222222222222, \"#7201a8\"], [0.3333333333333333, \"#9c179e\"], [0.4444444444444444, \"#bd3786\"], [0.5555555555555556, \"#d8576b\"], [0.6666666666666666, \"#ed7953\"], [0.7777777777777778, \"#fb9f3a\"], [0.8888888888888888, \"#fdca26\"], [1.0, \"#f0f921\"]], \"type\": \"heatmap\"}], \"heatmapgl\": [{\"colorbar\": {\"outlinewidth\": 0, \"ticks\": \"\"}, \"colorscale\": [[0.0, \"#0d0887\"], [0.1111111111111111, \"#46039f\"], [0.2222222222222222, \"#7201a8\"], [0.3333333333333333, \"#9c179e\"], [0.4444444444444444, \"#bd3786\"], [0.5555555555555556, \"#d8576b\"], [0.6666666666666666, \"#ed7953\"], [0.7777777777777778, \"#fb9f3a\"], [0.8888888888888888, \"#fdca26\"], [1.0, \"#f0f921\"]], \"type\": \"heatmapgl\"}], \"histogram\": [{\"marker\": {\"colorbar\": {\"outlinewidth\": 0, \"ticks\": \"\"}}, \"type\": \"histogram\"}], \"histogram2d\": [{\"colorbar\": {\"outlinewidth\": 0, \"ticks\": \"\"}, \"colorscale\": [[0.0, \"#0d0887\"], [0.1111111111111111, \"#46039f\"], [0.2222222222222222, \"#7201a8\"], [0.3333333333333333, \"#9c179e\"], [0.4444444444444444, \"#bd3786\"], [0.5555555555555556, \"#d8576b\"], [0.6666666666666666, \"#ed7953\"], [0.7777777777777778, \"#fb9f3a\"], [0.8888888888888888, \"#fdca26\"], [1.0, \"#f0f921\"]], \"type\": \"histogram2d\"}], \"histogram2dcontour\": [{\"colorbar\": {\"outlinewidth\": 0, \"ticks\": \"\"}, \"colorscale\": [[0.0, \"#0d0887\"], [0.1111111111111111, \"#46039f\"], [0.2222222222222222, \"#7201a8\"], [0.3333333333333333, \"#9c179e\"], [0.4444444444444444, \"#bd3786\"], [0.5555555555555556, \"#d8576b\"], [0.6666666666666666, \"#ed7953\"], [0.7777777777777778, \"#fb9f3a\"], [0.8888888888888888, \"#fdca26\"], [1.0, \"#f0f921\"]], \"type\": \"histogram2dcontour\"}], \"mesh3d\": [{\"colorbar\": {\"outlinewidth\": 0, \"ticks\": \"\"}, \"type\": \"mesh3d\"}], \"parcoords\": [{\"line\": {\"colorbar\": {\"outlinewidth\": 0, \"ticks\": \"\"}}, \"type\": \"parcoords\"}], \"pie\": [{\"automargin\": true, \"type\": \"pie\"}], \"scatter\": [{\"marker\": {\"colorbar\": {\"outlinewidth\": 0, \"ticks\": \"\"}}, \"type\": \"scatter\"}], \"scatter3d\": [{\"line\": {\"colorbar\": {\"outlinewidth\": 0, \"ticks\": \"\"}}, \"marker\": {\"colorbar\": {\"outlinewidth\": 0, \"ticks\": \"\"}}, \"type\": \"scatter3d\"}], \"scattercarpet\": [{\"marker\": {\"colorbar\": {\"outlinewidth\": 0, \"ticks\": \"\"}}, \"type\": \"scattercarpet\"}], \"scattergeo\": [{\"marker\": {\"colorbar\": {\"outlinewidth\": 0, \"ticks\": \"\"}}, \"type\": \"scattergeo\"}], \"scattergl\": [{\"marker\": {\"colorbar\": {\"outlinewidth\": 0, \"ticks\": \"\"}}, \"type\": \"scattergl\"}], \"scattermapbox\": [{\"marker\": {\"colorbar\": {\"outlinewidth\": 0, \"ticks\": \"\"}}, \"type\": \"scattermapbox\"}], \"scatterpolar\": [{\"marker\": {\"colorbar\": {\"outlinewidth\": 0, \"ticks\": \"\"}}, \"type\": \"scatterpolar\"}], \"scatterpolargl\": [{\"marker\": {\"colorbar\": {\"outlinewidth\": 0, \"ticks\": \"\"}}, \"type\": \"scatterpolargl\"}], \"scatterternary\": [{\"marker\": {\"colorbar\": {\"outlinewidth\": 0, \"ticks\": \"\"}}, \"type\": \"scatterternary\"}], \"surface\": [{\"colorbar\": {\"outlinewidth\": 0, \"ticks\": \"\"}, \"colorscale\": [[0.0, \"#0d0887\"], [0.1111111111111111, \"#46039f\"], [0.2222222222222222, \"#7201a8\"], [0.3333333333333333, \"#9c179e\"], [0.4444444444444444, \"#bd3786\"], [0.5555555555555556, \"#d8576b\"], [0.6666666666666666, \"#ed7953\"], [0.7777777777777778, \"#fb9f3a\"], [0.8888888888888888, \"#fdca26\"], [1.0, \"#f0f921\"]], \"type\": \"surface\"}], \"table\": [{\"cells\": {\"fill\": {\"color\": \"#EBF0F8\"}, \"line\": {\"color\": \"white\"}}, \"header\": {\"fill\": {\"color\": \"#C8D4E3\"}, \"line\": {\"color\": \"white\"}}, \"type\": \"table\"}]}, \"layout\": {\"annotationdefaults\": {\"arrowcolor\": \"#2a3f5f\", \"arrowhead\": 0, \"arrowwidth\": 1}, \"autotypenumbers\": \"strict\", \"coloraxis\": {\"colorbar\": {\"outlinewidth\": 0, \"ticks\": \"\"}}, \"colorscale\": {\"diverging\": [[0, \"#8e0152\"], [0.1, \"#c51b7d\"], [0.2, \"#de77ae\"], [0.3, \"#f1b6da\"], [0.4, \"#fde0ef\"], [0.5, \"#f7f7f7\"], [0.6, \"#e6f5d0\"], [0.7, \"#b8e186\"], [0.8, \"#7fbc41\"], [0.9, \"#4d9221\"], [1, \"#276419\"]], \"sequential\": [[0.0, \"#0d0887\"], [0.1111111111111111, \"#46039f\"], [0.2222222222222222, \"#7201a8\"], [0.3333333333333333, \"#9c179e\"], [0.4444444444444444, \"#bd3786\"], [0.5555555555555556, \"#d8576b\"], [0.6666666666666666, \"#ed7953\"], [0.7777777777777778, \"#fb9f3a\"], [0.8888888888888888, \"#fdca26\"], [1.0, \"#f0f921\"]], \"sequentialminus\": [[0.0, \"#0d0887\"], [0.1111111111111111, \"#46039f\"], [0.2222222222222222, \"#7201a8\"], [0.3333333333333333, \"#9c179e\"], [0.4444444444444444, \"#bd3786\"], [0.5555555555555556, \"#d8576b\"], [0.6666666666666666, \"#ed7953\"], [0.7777777777777778, \"#fb9f3a\"], [0.8888888888888888, \"#fdca26\"], [1.0, \"#f0f921\"]]}, \"colorway\": [\"#636efa\", \"#EF553B\", \"#00cc96\", \"#ab63fa\", \"#FFA15A\", \"#19d3f3\", \"#FF6692\", \"#B6E880\", \"#FF97FF\", \"#FECB52\"], \"font\": {\"color\": \"#2a3f5f\"}, \"geo\": {\"bgcolor\": \"white\", \"lakecolor\": \"white\", \"landcolor\": \"#E5ECF6\", \"showlakes\": true, \"showland\": true, \"subunitcolor\": \"white\"}, \"hoverlabel\": {\"align\": \"left\"}, \"hovermode\": \"closest\", \"mapbox\": {\"style\": \"light\"}, \"paper_bgcolor\": \"white\", \"plot_bgcolor\": \"#E5ECF6\", \"polar\": {\"angularaxis\": {\"gridcolor\": \"white\", \"linecolor\": \"white\", \"ticks\": \"\"}, \"bgcolor\": \"#E5ECF6\", \"radialaxis\": {\"gridcolor\": \"white\", \"linecolor\": \"white\", \"ticks\": \"\"}}, \"scene\": {\"xaxis\": {\"backgroundcolor\": \"#E5ECF6\", \"gridcolor\": \"white\", \"gridwidth\": 2, \"linecolor\": \"white\", \"showbackground\": true, \"ticks\": \"\", \"zerolinecolor\": \"white\"}, \"yaxis\": {\"backgroundcolor\": \"#E5ECF6\", \"gridcolor\": \"white\", \"gridwidth\": 2, \"linecolor\": \"white\", \"showbackground\": true, \"ticks\": \"\", \"zerolinecolor\": \"white\"}, \"zaxis\": {\"backgroundcolor\": \"#E5ECF6\", \"gridcolor\": \"white\", \"gridwidth\": 2, \"linecolor\": \"white\", \"showbackground\": true, \"ticks\": \"\", \"zerolinecolor\": \"white\"}}, \"shapedefaults\": {\"line\": {\"color\": \"#2a3f5f\"}}, \"ternary\": {\"aaxis\": {\"gridcolor\": \"white\", \"linecolor\": \"white\", \"ticks\": \"\"}, \"baxis\": {\"gridcolor\": \"white\", \"linecolor\": \"white\", \"ticks\": \"\"}, \"bgcolor\": \"#E5ECF6\", \"caxis\": {\"gridcolor\": \"white\", \"linecolor\": \"white\", \"ticks\": \"\"}}, \"title\": {\"x\": 0.05}, \"xaxis\": {\"automargin\": true, \"gridcolor\": \"white\", \"linecolor\": \"white\", \"ticks\": \"\", \"title\": {\"standoff\": 15}, \"zerolinecolor\": \"white\", \"zerolinewidth\": 2}, \"yaxis\": {\"automargin\": true, \"gridcolor\": \"white\", \"linecolor\": \"white\", \"ticks\": \"\", \"title\": {\"standoff\": 15}, \"zerolinecolor\": \"white\", \"zerolinewidth\": 2}}}},                        {\"responsive\": true}                    ).then(function(){\n",
       "                            \n",
       "var gd = document.getElementById('8d7c594d-f36c-4226-b2ec-d7a1ec9ac48e');\n",
       "var x = new MutationObserver(function (mutations, observer) {{\n",
       "        var display = window.getComputedStyle(gd).display;\n",
       "        if (!display || display === 'none') {{\n",
       "            console.log([gd, 'removed!']);\n",
       "            Plotly.purge(gd);\n",
       "            observer.disconnect();\n",
       "        }}\n",
       "}});\n",
       "\n",
       "// Listen for the removal of the full notebook cells\n",
       "var notebookContainer = gd.closest('#notebook-container');\n",
       "if (notebookContainer) {{\n",
       "    x.observe(notebookContainer, {childList: true});\n",
       "}}\n",
       "\n",
       "// Listen for the clearing of the current output cell\n",
       "var outputEl = gd.closest('.output');\n",
       "if (outputEl) {{\n",
       "    x.observe(outputEl, {childList: true});\n",
       "}}\n",
       "\n",
       "                        })                };                });            </script>        </div>"
      ]
     },
     "metadata": {},
     "output_type": "display_data"
    }
   ],
   "source": [
    "dt.mapIt(start,end,weighted_G,dfNodes,dfEdges)"
   ]
  },
  {
   "cell_type": "code",
   "execution_count": 30,
   "id": "34ed8aa7",
   "metadata": {},
   "outputs": [],
   "source": [
    "def get_weighted_graphTrees(G,security=1,cctv_perf=1.0,lamps_perf=1.0,trees_perf=1.0):\n",
    "    \"\"\"\n",
    "    Takes a graph G as input and adds the weights\n",
    "    \"\"\"\n",
    "    weighted_G = nx.Graph()\n",
    "    for data in G.edges(data=True):\n",
    "        data=data\n",
    "        coord1 = data[0]\n",
    "        coord2 = data[1]\n",
    "\n",
    "        # ZE formula to tweak\n",
    "        data[2]['weight'] = data[2]['Length']\n",
    "        data[2]['weight'] = data[2]['weight'] / (1.0 + 0.1*data[2]['CCTV50mRE'] * cctv_perf )\n",
    "        data[2]['weight'] = data[2]['weight'] / (1.0 + 0.1*data[2]['Lamps50m']  * lamps_perf) \n",
    "        data[2]['weight'] = data[2]['weight'] / (1.0 + 0.1*data[2]['Trees10m']  * trees_perf) \n",
    "\n",
    "        # It is adapted for pedestrians ?\n",
    "        relativeEase = 1.0\n",
    "        if data[2]['fclass'] == \"pedestrian\":\n",
    "            relativeEase = 0.3\n",
    "        elif data[2]['fclass'] == \"footway\":\n",
    "            relativeEase = 0.3\n",
    "        elif data[2]['fclass'] == \"steps\":\n",
    "            relativeEase = 0.6            \n",
    "        data[2]['weight'] = data[2]['weight'] * relativeEase\n",
    "\n",
    "        weighted_G.add_edge(coord1,coord2,weight=data[2]['weight'])\n",
    "\n",
    "    return weighted_G\n",
    "\n",
    "security   = 1.0\n",
    "cctv_perf  = 1.0\n",
    "lamps_perf = 1.0\n",
    "trees_perf = 1.0\n",
    "\n",
    "weighted_G = get_weighted_graphTrees(G,security=1,cctv_perf=cctv_perf,lamps_perf=lamps_perf,trees_perf=trees_perf)"
   ]
  },
  {
   "cell_type": "code",
   "execution_count": 31,
   "id": "deedc9c2",
   "metadata": {},
   "outputs": [
    {
     "data": {
      "application/vnd.plotly.v1+json": {
       "config": {
        "plotlyServerURL": "https://plot.ly"
       },
       "data": [
        {
         "lat": [
          1.2759796,
          1.2761567,
          1.276506957597754,
          1.2772648,
          1.2775118,
          1.2780022195203244,
          1.278409,
          1.2788459248581938,
          1.2793305,
          1.2793306189352318,
          1.279342550598996,
          1.2798029600835055,
          1.2803363,
          1.2804337,
          1.2807357,
          1.2799839759686575,
          1.2792196357775454,
          1.2790702,
          1.27865,
          1.2787145,
          1.2783968,
          1.2776516474326636,
          1.2768911951332396,
          1.2761931,
          1.2758382765907024,
          1.2750996,
          1.275297851881621,
          1.2754359,
          1.2757975,
          1.2757037,
          1.2757919,
          1.2756633714859404,
          1.2749756,
          1.2750715003092419,
          1.2750797,
          1.2752041,
          1.2753912,
          1.2754564942403002,
          1.2754587,
          1.2754711340959823,
          1.2754808,
          1.2755112,
          1.2757289,
          1.2759267,
          1.2761339,
          1.2767689,
          1.276859,
          1.2769309,
          1.2769951,
          1.2770377,
          1.2770798,
          1.2779533336358857,
          1.2785304,
          1.2785121,
          1.2788438,
          1.2794032,
          1.2794109,
          1.2798496,
          1.2803541,
          1.2804985,
          1.2805406,
          1.280690706263291,
          1.2813515352807066,
          1.2813785,
          1.2817124,
          1.2817996,
          1.282474,
          1.2827394,
          1.2828912,
          1.283202,
          1.2836322,
          1.2841313,
          1.284238049057289,
          1.2845093,
          1.285011293171393,
          1.28503,
          1.2854539,
          1.2857971,
          1.2864192,
          1.2860483,
          1.2858218,
          1.2856171,
          1.2854324,
          1.2856241,
          1.2856392,
          1.2858658
         ],
         "line": {
          "color": "blue",
          "width": 4.5
         },
         "lon": [
          103.8550309,
          103.8551911,
          103.85541726051068,
          103.8559019,
          103.8560528,
          103.85529867514984,
          103.8546732,
          103.85399199340333,
          103.8532341,
          103.85323391225926,
          103.8532150779801,
          103.85244250605257,
          103.8517181,
          103.8516105,
          103.8512271,
          103.85073309079938,
          103.85025896343426,
          103.8501664,
          103.849919,
          103.8498119,
          103.8495155,
          103.84904461872156,
          103.84856406914469,
          103.8480366,
          103.84787979311436,
          103.8473664,
          103.84697259112207,
          103.8466982,
          103.8465449,
          103.8464835,
          103.8463764,
          103.84626111885136,
          103.8456816,
          103.84555510956858,
          103.8455443,
          103.8453796,
          103.8451342,
          103.84489690583268,
          103.8448853,
          103.84480478782194,
          103.8447422,
          103.844541,
          103.8445729,
          103.8446009,
          103.8446323,
          103.8447586,
          103.8447809,
          103.8444571,
          103.8441683,
          103.8441728,
          103.8439317,
          103.84399166844288,
          103.8441597,
          103.8438774,
          103.8439235,
          103.8439262,
          103.8438469,
          103.8439071,
          103.8440177,
          103.8440417,
          103.8440762,
          103.84420577131485,
          103.84476056830627,
          103.8447803,
          103.8450121,
          103.8450622,
          103.8454382,
          103.8455868,
          103.8456761,
          103.8458432,
          103.8461028,
          103.8463759,
          103.84644020359879,
          103.8466036,
          103.84690056661344,
          103.8469116,
          103.8471684,
          103.8473776,
          103.8477564,
          103.8484409,
          103.8488909,
          103.8492581,
          103.8496014,
          103.8496767,
          103.8497862,
          103.850192
         ],
         "marker": {
          "size": 10
         },
         "mode": "lines",
         "name": "Optimal path - nodes",
         "type": "scattermapbox"
        },
        {
         "lat": [
          1.2761567,
          1.2759568,
          1.2759796,
          null,
          1.27650695759775,
          1.2761567,
          null,
          1.2772648,
          1.2768784,
          1.27650695759775,
          null,
          1.2775118,
          1.2774142,
          1.2772648,
          null,
          1.2775118,
          1.27800221952032,
          null,
          1.27800221952032,
          1.2780673,
          1.2783506,
          1.278409,
          null,
          1.27884592485819,
          1.2784447,
          1.2784217,
          1.278409,
          null,
          1.2793305,
          1.2793058,
          1.2792878,
          1.278965,
          1.27884592485819,
          null,
          1.27933061893523,
          1.2793305,
          null,
          1.279342550599,
          1.27933061893523,
          null,
          1.27980296008351,
          1.2797917,
          1.2797905,
          1.2797417,
          1.2797294,
          1.2797009,
          1.2793745,
          1.2793547,
          1.279342550599,
          null,
          1.2803363,
          1.27980296008351,
          null,
          1.2804337,
          1.2803363,
          null,
          1.2807357,
          1.2804337,
          null,
          1.2807357,
          1.2806575,
          1.2805698,
          1.27998397596866,
          null,
          1.27998397596866,
          1.2798884,
          1.2798385,
          1.27921963577755,
          null,
          1.27921963577755,
          1.2790702,
          null,
          1.27865,
          1.2788053,
          1.2790702,
          null,
          1.27865,
          1.2787145,
          null,
          1.2787145,
          1.2787607,
          1.2785785,
          1.2783968,
          null,
          1.27765164743266,
          1.2783968,
          null,
          1.27689119513324,
          1.27765164743266,
          null,
          1.2761931,
          1.2762506,
          1.2762522,
          1.2762888,
          1.27689119513324,
          null,
          1.2758382765907,
          1.2759485,
          1.2759966,
          1.2760565,
          1.2761931,
          null,
          1.2750996,
          1.2756757,
          1.2758382765907,
          null,
          1.27529785188162,
          1.2751893,
          1.2751545,
          1.2751263,
          1.2750996,
          null,
          1.2754359,
          1.2752982,
          1.27529785188162,
          null,
          1.2757975,
          1.2754359,
          null,
          1.2757037,
          1.2757532,
          1.2757975,
          null,
          1.2757037,
          1.2757452,
          1.2757919,
          null,
          1.27566337148594,
          1.2757919,
          null,
          1.2749756,
          1.2750044,
          1.2754824,
          1.27566337148594,
          null,
          1.27507150030924,
          1.2749955,
          1.2749756,
          null,
          1.2750797,
          1.27507150030924,
          null,
          1.2752041,
          1.2750797,
          null,
          1.2753912,
          1.2753287,
          1.2752041,
          null,
          1.2754564942403,
          1.275435,
          1.2753912,
          null,
          1.2754587,
          1.2754564942403,
          null,
          1.27547113409598,
          1.2754587,
          null,
          1.2754808,
          1.27547113409598,
          null,
          1.2755112,
          1.2754956,
          1.2754808,
          null,
          1.2757289,
          1.2755112,
          null,
          1.2759267,
          1.2757289,
          null,
          1.2761339,
          1.2759267,
          null,
          1.2767689,
          1.2766897,
          1.2761681,
          1.2761339,
          null,
          1.276859,
          1.2767689,
          null,
          1.2769309,
          1.2768769,
          1.276859,
          null,
          1.2769951,
          1.2769309,
          null,
          1.2769951,
          1.2770377,
          null,
          1.2770377,
          1.2770798,
          null,
          1.2770798,
          1.2772596,
          1.2774719,
          1.2776515,
          1.2778158,
          1.27795333363589,
          null,
          1.27795333363589,
          1.278224,
          1.2784386,
          1.2785304,
          null,
          1.2785121,
          1.2785153,
          1.2785304,
          null,
          1.2788438,
          1.2787352,
          1.278623,
          1.2785121,
          null,
          1.2794032,
          1.2791673,
          1.2788438,
          null,
          1.2794109,
          1.2794032,
          null,
          1.2794109,
          1.2796604,
          1.2798496,
          null,
          1.2798496,
          1.2803203,
          1.2803541,
          null,
          1.2803541,
          1.2804985,
          null,
          1.2805406,
          1.2805137,
          1.2804985,
          null,
          1.28069070626329,
          1.2805406,
          null,
          1.28135153528071,
          1.2813319,
          1.2811929,
          1.281079,
          1.281049,
          1.2808615,
          1.28069070626329,
          null,
          1.2813785,
          1.28135153528071,
          null,
          1.2817124,
          1.281414,
          1.2813785,
          null,
          1.2817996,
          1.2817124,
          null,
          1.282474,
          1.2822174,
          1.281927,
          1.2817996,
          null,
          1.2827394,
          1.2827013,
          1.282474,
          null,
          1.2828912,
          1.2827394,
          null,
          1.283202,
          1.2828912,
          null,
          1.2836322,
          1.2835289,
          1.283202,
          null,
          1.2841313,
          1.2837333,
          1.2836322,
          null,
          1.28423804905729,
          1.2841313,
          null,
          1.2845093,
          1.28423804905729,
          null,
          1.28501129317139,
          1.2845729,
          1.2845093,
          null,
          1.28503,
          1.28501129317139,
          null,
          1.2854539,
          1.28503,
          null,
          1.2857971,
          1.2855339,
          1.2854539,
          null,
          1.2864192,
          1.2857971,
          null,
          1.2860483,
          1.2861077,
          1.2864192,
          null,
          1.2858218,
          1.2860483,
          null,
          1.2856171,
          1.2858218,
          null,
          1.2854324,
          1.2854246,
          1.2854166,
          1.2854153,
          1.2854169,
          1.2854226,
          1.2854525,
          1.2854739,
          1.285489,
          1.2855158,
          1.2855513,
          1.2855772,
          1.2856171,
          null,
          1.2854324,
          1.2854638,
          1.2854925,
          1.2855223,
          1.2855511,
          1.2855773,
          1.285599,
          1.285615,
          1.2856241,
          null,
          1.2856241,
          1.2856392,
          null,
          1.2856392,
          1.2856667,
          1.2857202,
          1.2857687,
          1.2858151,
          1.2858658,
          null
         ],
         "line": {
          "color": "red",
          "width": 4.5
         },
         "lon": [
          103.8551911,
          103.855062,
          103.8550309,
          null,
          103.855417260511,
          103.8551911,
          null,
          103.8559019,
          103.8556571,
          103.855417260511,
          null,
          103.8560528,
          103.8559907,
          103.8559019,
          null,
          103.8560528,
          103.85529867515,
          null,
          103.85529867515,
          103.8551986,
          103.8547629,
          103.8546732,
          null,
          103.853991993403,
          103.8546187,
          103.8546545,
          103.8546732,
          null,
          103.8532341,
          103.8532727,
          103.8533009,
          103.853806,
          103.853991993403,
          null,
          103.853233912259,
          103.8532341,
          null,
          103.85321507798,
          103.853233912259,
          null,
          103.852442506053,
          103.8524578,
          103.8524597,
          103.8525407,
          103.852561,
          103.852604,
          103.8531646,
          103.8531959,
          103.85321507798,
          null,
          103.8517181,
          103.852442506053,
          null,
          103.8516105,
          103.8517181,
          null,
          103.8512271,
          103.8516105,
          null,
          103.8512271,
          103.8511742,
          103.8511198,
          103.850733090799,
          null,
          103.850733090799,
          103.85067,
          103.8506423,
          103.850258963434,
          null,
          103.850258963434,
          103.8501664,
          null,
          103.849919,
          103.8500104,
          103.8501664,
          null,
          103.849919,
          103.8498119,
          null,
          103.8498119,
          103.8497352,
          103.8496275,
          103.8495155,
          null,
          103.849044618722,
          103.8495155,
          null,
          103.848564069145,
          103.849044618722,
          null,
          103.8480366,
          103.8480827,
          103.8481363,
          103.8481834,
          103.848564069145,
          null,
          103.847879793114,
          103.8479564,
          103.8479394,
          103.8479447,
          103.8480366,
          null,
          103.8473664,
          103.8477668,
          103.847879793114,
          null,
          103.846972591122,
          103.8471881,
          103.847258,
          103.8473134,
          103.8473664,
          null,
          103.8466982,
          103.8469719,
          103.846972591122,
          null,
          103.8465449,
          103.8466982,
          null,
          103.8464835,
          103.8465159,
          103.8465449,
          null,
          103.8464835,
          103.8464331,
          103.8463764,
          null,
          103.846261118851,
          103.8463764,
          null,
          103.8456816,
          103.8457034,
          103.8460988,
          103.846261118851,
          null,
          103.845555109569,
          103.8456553,
          103.8456816,
          null,
          103.8455443,
          103.845555109569,
          null,
          103.8453796,
          103.8455443,
          null,
          103.8451342,
          103.8452172,
          103.8453796,
          null,
          103.844896905833,
          103.84501,
          103.8451342,
          null,
          103.8448853,
          103.844896905833,
          null,
          103.844804787822,
          103.8448853,
          null,
          103.8447422,
          103.844804787822,
          null,
          103.844541,
          103.8446255,
          103.8447422,
          null,
          103.8445729,
          103.844541,
          null,
          103.8446009,
          103.8445729,
          null,
          103.8446323,
          103.8446009,
          null,
          103.8447586,
          103.8447428,
          103.8446391,
          103.8446323,
          null,
          103.8447809,
          103.8447586,
          null,
          103.8444571,
          103.8447004,
          103.8447809,
          null,
          103.8441683,
          103.8444571,
          null,
          103.8441683,
          103.8441728,
          null,
          103.8441728,
          103.8439317,
          null,
          103.8439317,
          103.8439344,
          103.8438704,
          103.8438986,
          103.8439415,
          103.843991668443,
          null,
          103.843991668443,
          103.8440904,
          103.8441387,
          103.8441597,
          null,
          103.8438774,
          103.844072,
          103.8441597,
          null,
          103.8439235,
          103.8439174,
          103.8439014,
          103.8438774,
          null,
          103.8439262,
          103.8439254,
          103.8439235,
          null,
          103.8438469,
          103.8439262,
          null,
          103.8438469,
          103.8438777,
          103.8439071,
          null,
          103.8439071,
          103.8440129,
          103.8440177,
          null,
          103.8440177,
          103.8440417,
          null,
          103.8440762,
          103.8440522,
          103.8440417,
          null,
          103.844205771315,
          103.8440762,
          null,
          103.844760568306,
          103.8447462,
          103.8446546,
          103.8445666,
          103.8445486,
          103.8443532,
          103.844205771315,
          null,
          103.8447803,
          103.844760568306,
          null,
          103.8450121,
          103.8448068,
          103.8447803,
          null,
          103.8450622,
          103.8450121,
          null,
          103.8454382,
          103.8452956,
          103.8451331,
          103.8450622,
          null,
          103.8455868,
          103.8455644,
          103.8454382,
          null,
          103.8456761,
          103.8455868,
          null,
          103.8458432,
          103.8456761,
          null,
          103.8461028,
          103.8460404,
          103.8458432,
          null,
          103.8463759,
          103.8461584,
          103.8461028,
          null,
          103.846440203599,
          103.8463759,
          null,
          103.8466036,
          103.846440203599,
          null,
          103.846900566613,
          103.846642,
          103.8466036,
          null,
          103.8469116,
          103.846900566613,
          null,
          103.8471684,
          103.8469116,
          null,
          103.8473776,
          103.8472182,
          103.8471684,
          null,
          103.8477564,
          103.8473776,
          null,
          103.8484409,
          103.8483394,
          103.8477564,
          null,
          103.8488909,
          103.8484409,
          null,
          103.8492581,
          103.8488909,
          null,
          103.8496014,
          103.8495527,
          103.8495175,
          103.849492,
          103.8494723,
          103.8494488,
          103.8493834,
          103.8493479,
          103.8493318,
          103.84931,
          103.8492838,
          103.8492708,
          103.8492581,
          null,
          103.8496014,
          103.8495896,
          103.8495818,
          103.8495815,
          103.8495887,
          103.8496029,
          103.8496232,
          103.8496483,
          103.8496767,
          null,
          103.8496767,
          103.8497862,
          null,
          103.8497862,
          103.8498437,
          103.8499626,
          103.8500467,
          103.8501184,
          103.850192,
          null
         ],
         "marker": {
          "size": 10
         },
         "mode": "lines",
         "name": "Optimal path - polylines",
         "type": "scattermapbox"
        },
        {
         "lat": [
          103.8550309
         ],
         "lon": [
          1.2759796
         ],
         "marker": {
          "color": "red",
          "size": 12
         },
         "mode": "markers",
         "name": "Source",
         "type": "scattermapbox"
        },
        {
         "lat": [
          103.850192
         ],
         "lon": [
          1.2858658
         ],
         "marker": {
          "color": "green",
          "size": 12
         },
         "mode": "markers",
         "name": "Destination",
         "type": "scattermapbox"
        }
       ],
       "layout": {
        "mapbox": {
         "center": {
          "lat": 1.2793762410688194,
          "lon": 103.84760150293073
         },
         "style": "open-street-map",
         "zoom": 13
        },
        "margin": {
         "b": 0,
         "l": 0,
         "r": 0,
         "t": 0
        },
        "template": {
         "data": {
          "bar": [
           {
            "error_x": {
             "color": "#2a3f5f"
            },
            "error_y": {
             "color": "#2a3f5f"
            },
            "marker": {
             "line": {
              "color": "#E5ECF6",
              "width": 0.5
             }
            },
            "type": "bar"
           }
          ],
          "barpolar": [
           {
            "marker": {
             "line": {
              "color": "#E5ECF6",
              "width": 0.5
             }
            },
            "type": "barpolar"
           }
          ],
          "carpet": [
           {
            "aaxis": {
             "endlinecolor": "#2a3f5f",
             "gridcolor": "white",
             "linecolor": "white",
             "minorgridcolor": "white",
             "startlinecolor": "#2a3f5f"
            },
            "baxis": {
             "endlinecolor": "#2a3f5f",
             "gridcolor": "white",
             "linecolor": "white",
             "minorgridcolor": "white",
             "startlinecolor": "#2a3f5f"
            },
            "type": "carpet"
           }
          ],
          "choropleth": [
           {
            "colorbar": {
             "outlinewidth": 0,
             "ticks": ""
            },
            "type": "choropleth"
           }
          ],
          "contour": [
           {
            "colorbar": {
             "outlinewidth": 0,
             "ticks": ""
            },
            "colorscale": [
             [
              0,
              "#0d0887"
             ],
             [
              0.1111111111111111,
              "#46039f"
             ],
             [
              0.2222222222222222,
              "#7201a8"
             ],
             [
              0.3333333333333333,
              "#9c179e"
             ],
             [
              0.4444444444444444,
              "#bd3786"
             ],
             [
              0.5555555555555556,
              "#d8576b"
             ],
             [
              0.6666666666666666,
              "#ed7953"
             ],
             [
              0.7777777777777778,
              "#fb9f3a"
             ],
             [
              0.8888888888888888,
              "#fdca26"
             ],
             [
              1,
              "#f0f921"
             ]
            ],
            "type": "contour"
           }
          ],
          "contourcarpet": [
           {
            "colorbar": {
             "outlinewidth": 0,
             "ticks": ""
            },
            "type": "contourcarpet"
           }
          ],
          "heatmap": [
           {
            "colorbar": {
             "outlinewidth": 0,
             "ticks": ""
            },
            "colorscale": [
             [
              0,
              "#0d0887"
             ],
             [
              0.1111111111111111,
              "#46039f"
             ],
             [
              0.2222222222222222,
              "#7201a8"
             ],
             [
              0.3333333333333333,
              "#9c179e"
             ],
             [
              0.4444444444444444,
              "#bd3786"
             ],
             [
              0.5555555555555556,
              "#d8576b"
             ],
             [
              0.6666666666666666,
              "#ed7953"
             ],
             [
              0.7777777777777778,
              "#fb9f3a"
             ],
             [
              0.8888888888888888,
              "#fdca26"
             ],
             [
              1,
              "#f0f921"
             ]
            ],
            "type": "heatmap"
           }
          ],
          "heatmapgl": [
           {
            "colorbar": {
             "outlinewidth": 0,
             "ticks": ""
            },
            "colorscale": [
             [
              0,
              "#0d0887"
             ],
             [
              0.1111111111111111,
              "#46039f"
             ],
             [
              0.2222222222222222,
              "#7201a8"
             ],
             [
              0.3333333333333333,
              "#9c179e"
             ],
             [
              0.4444444444444444,
              "#bd3786"
             ],
             [
              0.5555555555555556,
              "#d8576b"
             ],
             [
              0.6666666666666666,
              "#ed7953"
             ],
             [
              0.7777777777777778,
              "#fb9f3a"
             ],
             [
              0.8888888888888888,
              "#fdca26"
             ],
             [
              1,
              "#f0f921"
             ]
            ],
            "type": "heatmapgl"
           }
          ],
          "histogram": [
           {
            "marker": {
             "colorbar": {
              "outlinewidth": 0,
              "ticks": ""
             }
            },
            "type": "histogram"
           }
          ],
          "histogram2d": [
           {
            "colorbar": {
             "outlinewidth": 0,
             "ticks": ""
            },
            "colorscale": [
             [
              0,
              "#0d0887"
             ],
             [
              0.1111111111111111,
              "#46039f"
             ],
             [
              0.2222222222222222,
              "#7201a8"
             ],
             [
              0.3333333333333333,
              "#9c179e"
             ],
             [
              0.4444444444444444,
              "#bd3786"
             ],
             [
              0.5555555555555556,
              "#d8576b"
             ],
             [
              0.6666666666666666,
              "#ed7953"
             ],
             [
              0.7777777777777778,
              "#fb9f3a"
             ],
             [
              0.8888888888888888,
              "#fdca26"
             ],
             [
              1,
              "#f0f921"
             ]
            ],
            "type": "histogram2d"
           }
          ],
          "histogram2dcontour": [
           {
            "colorbar": {
             "outlinewidth": 0,
             "ticks": ""
            },
            "colorscale": [
             [
              0,
              "#0d0887"
             ],
             [
              0.1111111111111111,
              "#46039f"
             ],
             [
              0.2222222222222222,
              "#7201a8"
             ],
             [
              0.3333333333333333,
              "#9c179e"
             ],
             [
              0.4444444444444444,
              "#bd3786"
             ],
             [
              0.5555555555555556,
              "#d8576b"
             ],
             [
              0.6666666666666666,
              "#ed7953"
             ],
             [
              0.7777777777777778,
              "#fb9f3a"
             ],
             [
              0.8888888888888888,
              "#fdca26"
             ],
             [
              1,
              "#f0f921"
             ]
            ],
            "type": "histogram2dcontour"
           }
          ],
          "mesh3d": [
           {
            "colorbar": {
             "outlinewidth": 0,
             "ticks": ""
            },
            "type": "mesh3d"
           }
          ],
          "parcoords": [
           {
            "line": {
             "colorbar": {
              "outlinewidth": 0,
              "ticks": ""
             }
            },
            "type": "parcoords"
           }
          ],
          "pie": [
           {
            "automargin": true,
            "type": "pie"
           }
          ],
          "scatter": [
           {
            "marker": {
             "colorbar": {
              "outlinewidth": 0,
              "ticks": ""
             }
            },
            "type": "scatter"
           }
          ],
          "scatter3d": [
           {
            "line": {
             "colorbar": {
              "outlinewidth": 0,
              "ticks": ""
             }
            },
            "marker": {
             "colorbar": {
              "outlinewidth": 0,
              "ticks": ""
             }
            },
            "type": "scatter3d"
           }
          ],
          "scattercarpet": [
           {
            "marker": {
             "colorbar": {
              "outlinewidth": 0,
              "ticks": ""
             }
            },
            "type": "scattercarpet"
           }
          ],
          "scattergeo": [
           {
            "marker": {
             "colorbar": {
              "outlinewidth": 0,
              "ticks": ""
             }
            },
            "type": "scattergeo"
           }
          ],
          "scattergl": [
           {
            "marker": {
             "colorbar": {
              "outlinewidth": 0,
              "ticks": ""
             }
            },
            "type": "scattergl"
           }
          ],
          "scattermapbox": [
           {
            "marker": {
             "colorbar": {
              "outlinewidth": 0,
              "ticks": ""
             }
            },
            "type": "scattermapbox"
           }
          ],
          "scatterpolar": [
           {
            "marker": {
             "colorbar": {
              "outlinewidth": 0,
              "ticks": ""
             }
            },
            "type": "scatterpolar"
           }
          ],
          "scatterpolargl": [
           {
            "marker": {
             "colorbar": {
              "outlinewidth": 0,
              "ticks": ""
             }
            },
            "type": "scatterpolargl"
           }
          ],
          "scatterternary": [
           {
            "marker": {
             "colorbar": {
              "outlinewidth": 0,
              "ticks": ""
             }
            },
            "type": "scatterternary"
           }
          ],
          "surface": [
           {
            "colorbar": {
             "outlinewidth": 0,
             "ticks": ""
            },
            "colorscale": [
             [
              0,
              "#0d0887"
             ],
             [
              0.1111111111111111,
              "#46039f"
             ],
             [
              0.2222222222222222,
              "#7201a8"
             ],
             [
              0.3333333333333333,
              "#9c179e"
             ],
             [
              0.4444444444444444,
              "#bd3786"
             ],
             [
              0.5555555555555556,
              "#d8576b"
             ],
             [
              0.6666666666666666,
              "#ed7953"
             ],
             [
              0.7777777777777778,
              "#fb9f3a"
             ],
             [
              0.8888888888888888,
              "#fdca26"
             ],
             [
              1,
              "#f0f921"
             ]
            ],
            "type": "surface"
           }
          ],
          "table": [
           {
            "cells": {
             "fill": {
              "color": "#EBF0F8"
             },
             "line": {
              "color": "white"
             }
            },
            "header": {
             "fill": {
              "color": "#C8D4E3"
             },
             "line": {
              "color": "white"
             }
            },
            "type": "table"
           }
          ]
         },
         "layout": {
          "annotationdefaults": {
           "arrowcolor": "#2a3f5f",
           "arrowhead": 0,
           "arrowwidth": 1
          },
          "autotypenumbers": "strict",
          "coloraxis": {
           "colorbar": {
            "outlinewidth": 0,
            "ticks": ""
           }
          },
          "colorscale": {
           "diverging": [
            [
             0,
             "#8e0152"
            ],
            [
             0.1,
             "#c51b7d"
            ],
            [
             0.2,
             "#de77ae"
            ],
            [
             0.3,
             "#f1b6da"
            ],
            [
             0.4,
             "#fde0ef"
            ],
            [
             0.5,
             "#f7f7f7"
            ],
            [
             0.6,
             "#e6f5d0"
            ],
            [
             0.7,
             "#b8e186"
            ],
            [
             0.8,
             "#7fbc41"
            ],
            [
             0.9,
             "#4d9221"
            ],
            [
             1,
             "#276419"
            ]
           ],
           "sequential": [
            [
             0,
             "#0d0887"
            ],
            [
             0.1111111111111111,
             "#46039f"
            ],
            [
             0.2222222222222222,
             "#7201a8"
            ],
            [
             0.3333333333333333,
             "#9c179e"
            ],
            [
             0.4444444444444444,
             "#bd3786"
            ],
            [
             0.5555555555555556,
             "#d8576b"
            ],
            [
             0.6666666666666666,
             "#ed7953"
            ],
            [
             0.7777777777777778,
             "#fb9f3a"
            ],
            [
             0.8888888888888888,
             "#fdca26"
            ],
            [
             1,
             "#f0f921"
            ]
           ],
           "sequentialminus": [
            [
             0,
             "#0d0887"
            ],
            [
             0.1111111111111111,
             "#46039f"
            ],
            [
             0.2222222222222222,
             "#7201a8"
            ],
            [
             0.3333333333333333,
             "#9c179e"
            ],
            [
             0.4444444444444444,
             "#bd3786"
            ],
            [
             0.5555555555555556,
             "#d8576b"
            ],
            [
             0.6666666666666666,
             "#ed7953"
            ],
            [
             0.7777777777777778,
             "#fb9f3a"
            ],
            [
             0.8888888888888888,
             "#fdca26"
            ],
            [
             1,
             "#f0f921"
            ]
           ]
          },
          "colorway": [
           "#636efa",
           "#EF553B",
           "#00cc96",
           "#ab63fa",
           "#FFA15A",
           "#19d3f3",
           "#FF6692",
           "#B6E880",
           "#FF97FF",
           "#FECB52"
          ],
          "font": {
           "color": "#2a3f5f"
          },
          "geo": {
           "bgcolor": "white",
           "lakecolor": "white",
           "landcolor": "#E5ECF6",
           "showlakes": true,
           "showland": true,
           "subunitcolor": "white"
          },
          "hoverlabel": {
           "align": "left"
          },
          "hovermode": "closest",
          "mapbox": {
           "style": "light"
          },
          "paper_bgcolor": "white",
          "plot_bgcolor": "#E5ECF6",
          "polar": {
           "angularaxis": {
            "gridcolor": "white",
            "linecolor": "white",
            "ticks": ""
           },
           "bgcolor": "#E5ECF6",
           "radialaxis": {
            "gridcolor": "white",
            "linecolor": "white",
            "ticks": ""
           }
          },
          "scene": {
           "xaxis": {
            "backgroundcolor": "#E5ECF6",
            "gridcolor": "white",
            "gridwidth": 2,
            "linecolor": "white",
            "showbackground": true,
            "ticks": "",
            "zerolinecolor": "white"
           },
           "yaxis": {
            "backgroundcolor": "#E5ECF6",
            "gridcolor": "white",
            "gridwidth": 2,
            "linecolor": "white",
            "showbackground": true,
            "ticks": "",
            "zerolinecolor": "white"
           },
           "zaxis": {
            "backgroundcolor": "#E5ECF6",
            "gridcolor": "white",
            "gridwidth": 2,
            "linecolor": "white",
            "showbackground": true,
            "ticks": "",
            "zerolinecolor": "white"
           }
          },
          "shapedefaults": {
           "line": {
            "color": "#2a3f5f"
           }
          },
          "ternary": {
           "aaxis": {
            "gridcolor": "white",
            "linecolor": "white",
            "ticks": ""
           },
           "baxis": {
            "gridcolor": "white",
            "linecolor": "white",
            "ticks": ""
           },
           "bgcolor": "#E5ECF6",
           "caxis": {
            "gridcolor": "white",
            "linecolor": "white",
            "ticks": ""
           }
          },
          "title": {
           "x": 0.05
          },
          "xaxis": {
           "automargin": true,
           "gridcolor": "white",
           "linecolor": "white",
           "ticks": "",
           "title": {
            "standoff": 15
           },
           "zerolinecolor": "white",
           "zerolinewidth": 2
          },
          "yaxis": {
           "automargin": true,
           "gridcolor": "white",
           "linecolor": "white",
           "ticks": "",
           "title": {
            "standoff": 15
           },
           "zerolinecolor": "white",
           "zerolinewidth": 2
          }
         }
        }
       }
      },
      "text/html": [
       "<div>                            <div id=\"dd07ef93-785c-4417-97a4-075932fe9429\" class=\"plotly-graph-div\" style=\"height:525px; width:100%;\"></div>            <script type=\"text/javascript\">                require([\"plotly\"], function(Plotly) {                    window.PLOTLYENV=window.PLOTLYENV || {};                                    if (document.getElementById(\"dd07ef93-785c-4417-97a4-075932fe9429\")) {                    Plotly.newPlot(                        \"dd07ef93-785c-4417-97a4-075932fe9429\",                        [{\"lat\": [1.2759796, 1.2761567, 1.276506957597754, 1.2772648, 1.2775118, 1.2780022195203244, 1.278409, 1.2788459248581938, 1.2793305, 1.2793306189352318, 1.279342550598996, 1.2798029600835055, 1.2803363, 1.2804337, 1.2807357, 1.2799839759686575, 1.2792196357775454, 1.2790702, 1.27865, 1.2787145, 1.2783968, 1.2776516474326636, 1.2768911951332396, 1.2761931, 1.2758382765907024, 1.2750996, 1.275297851881621, 1.2754359, 1.2757975, 1.2757037, 1.2757919, 1.2756633714859404, 1.2749756, 1.2750715003092419, 1.2750797, 1.2752041, 1.2753912, 1.2754564942403002, 1.2754587, 1.2754711340959823, 1.2754808, 1.2755112, 1.2757289, 1.2759267, 1.2761339, 1.2767689, 1.276859, 1.2769309, 1.2769951, 1.2770377, 1.2770798, 1.2779533336358857, 1.2785304, 1.2785121, 1.2788438, 1.2794032, 1.2794109, 1.2798496, 1.2803541, 1.2804985, 1.2805406, 1.280690706263291, 1.2813515352807066, 1.2813785, 1.2817124, 1.2817996, 1.282474, 1.2827394, 1.2828912, 1.283202, 1.2836322, 1.2841313, 1.284238049057289, 1.2845093, 1.285011293171393, 1.28503, 1.2854539, 1.2857971, 1.2864192, 1.2860483, 1.2858218, 1.2856171, 1.2854324, 1.2856241, 1.2856392, 1.2858658], \"line\": {\"color\": \"blue\", \"width\": 4.5}, \"lon\": [103.8550309, 103.8551911, 103.85541726051068, 103.8559019, 103.8560528, 103.85529867514984, 103.8546732, 103.85399199340333, 103.8532341, 103.85323391225926, 103.8532150779801, 103.85244250605257, 103.8517181, 103.8516105, 103.8512271, 103.85073309079938, 103.85025896343426, 103.8501664, 103.849919, 103.8498119, 103.8495155, 103.84904461872156, 103.84856406914469, 103.8480366, 103.84787979311436, 103.8473664, 103.84697259112207, 103.8466982, 103.8465449, 103.8464835, 103.8463764, 103.84626111885136, 103.8456816, 103.84555510956858, 103.8455443, 103.8453796, 103.8451342, 103.84489690583268, 103.8448853, 103.84480478782194, 103.8447422, 103.844541, 103.8445729, 103.8446009, 103.8446323, 103.8447586, 103.8447809, 103.8444571, 103.8441683, 103.8441728, 103.8439317, 103.84399166844288, 103.8441597, 103.8438774, 103.8439235, 103.8439262, 103.8438469, 103.8439071, 103.8440177, 103.8440417, 103.8440762, 103.84420577131485, 103.84476056830627, 103.8447803, 103.8450121, 103.8450622, 103.8454382, 103.8455868, 103.8456761, 103.8458432, 103.8461028, 103.8463759, 103.84644020359879, 103.8466036, 103.84690056661344, 103.8469116, 103.8471684, 103.8473776, 103.8477564, 103.8484409, 103.8488909, 103.8492581, 103.8496014, 103.8496767, 103.8497862, 103.850192], \"marker\": {\"size\": 10}, \"mode\": \"lines\", \"name\": \"Optimal path - nodes\", \"type\": \"scattermapbox\"}, {\"lat\": [1.2761567, 1.2759568, 1.2759796, null, 1.27650695759775, 1.2761567, null, 1.2772648, 1.2768784, 1.27650695759775, null, 1.2775118, 1.2774142, 1.2772648, null, 1.2775118, 1.27800221952032, null, 1.27800221952032, 1.2780673, 1.2783506, 1.278409, null, 1.27884592485819, 1.2784447, 1.2784217, 1.278409, null, 1.2793305, 1.2793058, 1.2792878, 1.278965, 1.27884592485819, null, 1.27933061893523, 1.2793305, null, 1.279342550599, 1.27933061893523, null, 1.27980296008351, 1.2797917, 1.2797905, 1.2797417, 1.2797294, 1.2797009, 1.2793745, 1.2793547, 1.279342550599, null, 1.2803363, 1.27980296008351, null, 1.2804337, 1.2803363, null, 1.2807357, 1.2804337, null, 1.2807357, 1.2806575, 1.2805698, 1.27998397596866, null, 1.27998397596866, 1.2798884, 1.2798385, 1.27921963577755, null, 1.27921963577755, 1.2790702, null, 1.27865, 1.2788053, 1.2790702, null, 1.27865, 1.2787145, null, 1.2787145, 1.2787607, 1.2785785, 1.2783968, null, 1.27765164743266, 1.2783968, null, 1.27689119513324, 1.27765164743266, null, 1.2761931, 1.2762506, 1.2762522, 1.2762888, 1.27689119513324, null, 1.2758382765907, 1.2759485, 1.2759966, 1.2760565, 1.2761931, null, 1.2750996, 1.2756757, 1.2758382765907, null, 1.27529785188162, 1.2751893, 1.2751545, 1.2751263, 1.2750996, null, 1.2754359, 1.2752982, 1.27529785188162, null, 1.2757975, 1.2754359, null, 1.2757037, 1.2757532, 1.2757975, null, 1.2757037, 1.2757452, 1.2757919, null, 1.27566337148594, 1.2757919, null, 1.2749756, 1.2750044, 1.2754824, 1.27566337148594, null, 1.27507150030924, 1.2749955, 1.2749756, null, 1.2750797, 1.27507150030924, null, 1.2752041, 1.2750797, null, 1.2753912, 1.2753287, 1.2752041, null, 1.2754564942403, 1.275435, 1.2753912, null, 1.2754587, 1.2754564942403, null, 1.27547113409598, 1.2754587, null, 1.2754808, 1.27547113409598, null, 1.2755112, 1.2754956, 1.2754808, null, 1.2757289, 1.2755112, null, 1.2759267, 1.2757289, null, 1.2761339, 1.2759267, null, 1.2767689, 1.2766897, 1.2761681, 1.2761339, null, 1.276859, 1.2767689, null, 1.2769309, 1.2768769, 1.276859, null, 1.2769951, 1.2769309, null, 1.2769951, 1.2770377, null, 1.2770377, 1.2770798, null, 1.2770798, 1.2772596, 1.2774719, 1.2776515, 1.2778158, 1.27795333363589, null, 1.27795333363589, 1.278224, 1.2784386, 1.2785304, null, 1.2785121, 1.2785153, 1.2785304, null, 1.2788438, 1.2787352, 1.278623, 1.2785121, null, 1.2794032, 1.2791673, 1.2788438, null, 1.2794109, 1.2794032, null, 1.2794109, 1.2796604, 1.2798496, null, 1.2798496, 1.2803203, 1.2803541, null, 1.2803541, 1.2804985, null, 1.2805406, 1.2805137, 1.2804985, null, 1.28069070626329, 1.2805406, null, 1.28135153528071, 1.2813319, 1.2811929, 1.281079, 1.281049, 1.2808615, 1.28069070626329, null, 1.2813785, 1.28135153528071, null, 1.2817124, 1.281414, 1.2813785, null, 1.2817996, 1.2817124, null, 1.282474, 1.2822174, 1.281927, 1.2817996, null, 1.2827394, 1.2827013, 1.282474, null, 1.2828912, 1.2827394, null, 1.283202, 1.2828912, null, 1.2836322, 1.2835289, 1.283202, null, 1.2841313, 1.2837333, 1.2836322, null, 1.28423804905729, 1.2841313, null, 1.2845093, 1.28423804905729, null, 1.28501129317139, 1.2845729, 1.2845093, null, 1.28503, 1.28501129317139, null, 1.2854539, 1.28503, null, 1.2857971, 1.2855339, 1.2854539, null, 1.2864192, 1.2857971, null, 1.2860483, 1.2861077, 1.2864192, null, 1.2858218, 1.2860483, null, 1.2856171, 1.2858218, null, 1.2854324, 1.2854246, 1.2854166, 1.2854153, 1.2854169, 1.2854226, 1.2854525, 1.2854739, 1.285489, 1.2855158, 1.2855513, 1.2855772, 1.2856171, null, 1.2854324, 1.2854638, 1.2854925, 1.2855223, 1.2855511, 1.2855773, 1.285599, 1.285615, 1.2856241, null, 1.2856241, 1.2856392, null, 1.2856392, 1.2856667, 1.2857202, 1.2857687, 1.2858151, 1.2858658, null], \"line\": {\"color\": \"red\", \"width\": 4.5}, \"lon\": [103.8551911, 103.855062, 103.8550309, null, 103.855417260511, 103.8551911, null, 103.8559019, 103.8556571, 103.855417260511, null, 103.8560528, 103.8559907, 103.8559019, null, 103.8560528, 103.85529867515, null, 103.85529867515, 103.8551986, 103.8547629, 103.8546732, null, 103.853991993403, 103.8546187, 103.8546545, 103.8546732, null, 103.8532341, 103.8532727, 103.8533009, 103.853806, 103.853991993403, null, 103.853233912259, 103.8532341, null, 103.85321507798, 103.853233912259, null, 103.852442506053, 103.8524578, 103.8524597, 103.8525407, 103.852561, 103.852604, 103.8531646, 103.8531959, 103.85321507798, null, 103.8517181, 103.852442506053, null, 103.8516105, 103.8517181, null, 103.8512271, 103.8516105, null, 103.8512271, 103.8511742, 103.8511198, 103.850733090799, null, 103.850733090799, 103.85067, 103.8506423, 103.850258963434, null, 103.850258963434, 103.8501664, null, 103.849919, 103.8500104, 103.8501664, null, 103.849919, 103.8498119, null, 103.8498119, 103.8497352, 103.8496275, 103.8495155, null, 103.849044618722, 103.8495155, null, 103.848564069145, 103.849044618722, null, 103.8480366, 103.8480827, 103.8481363, 103.8481834, 103.848564069145, null, 103.847879793114, 103.8479564, 103.8479394, 103.8479447, 103.8480366, null, 103.8473664, 103.8477668, 103.847879793114, null, 103.846972591122, 103.8471881, 103.847258, 103.8473134, 103.8473664, null, 103.8466982, 103.8469719, 103.846972591122, null, 103.8465449, 103.8466982, null, 103.8464835, 103.8465159, 103.8465449, null, 103.8464835, 103.8464331, 103.8463764, null, 103.846261118851, 103.8463764, null, 103.8456816, 103.8457034, 103.8460988, 103.846261118851, null, 103.845555109569, 103.8456553, 103.8456816, null, 103.8455443, 103.845555109569, null, 103.8453796, 103.8455443, null, 103.8451342, 103.8452172, 103.8453796, null, 103.844896905833, 103.84501, 103.8451342, null, 103.8448853, 103.844896905833, null, 103.844804787822, 103.8448853, null, 103.8447422, 103.844804787822, null, 103.844541, 103.8446255, 103.8447422, null, 103.8445729, 103.844541, null, 103.8446009, 103.8445729, null, 103.8446323, 103.8446009, null, 103.8447586, 103.8447428, 103.8446391, 103.8446323, null, 103.8447809, 103.8447586, null, 103.8444571, 103.8447004, 103.8447809, null, 103.8441683, 103.8444571, null, 103.8441683, 103.8441728, null, 103.8441728, 103.8439317, null, 103.8439317, 103.8439344, 103.8438704, 103.8438986, 103.8439415, 103.843991668443, null, 103.843991668443, 103.8440904, 103.8441387, 103.8441597, null, 103.8438774, 103.844072, 103.8441597, null, 103.8439235, 103.8439174, 103.8439014, 103.8438774, null, 103.8439262, 103.8439254, 103.8439235, null, 103.8438469, 103.8439262, null, 103.8438469, 103.8438777, 103.8439071, null, 103.8439071, 103.8440129, 103.8440177, null, 103.8440177, 103.8440417, null, 103.8440762, 103.8440522, 103.8440417, null, 103.844205771315, 103.8440762, null, 103.844760568306, 103.8447462, 103.8446546, 103.8445666, 103.8445486, 103.8443532, 103.844205771315, null, 103.8447803, 103.844760568306, null, 103.8450121, 103.8448068, 103.8447803, null, 103.8450622, 103.8450121, null, 103.8454382, 103.8452956, 103.8451331, 103.8450622, null, 103.8455868, 103.8455644, 103.8454382, null, 103.8456761, 103.8455868, null, 103.8458432, 103.8456761, null, 103.8461028, 103.8460404, 103.8458432, null, 103.8463759, 103.8461584, 103.8461028, null, 103.846440203599, 103.8463759, null, 103.8466036, 103.846440203599, null, 103.846900566613, 103.846642, 103.8466036, null, 103.8469116, 103.846900566613, null, 103.8471684, 103.8469116, null, 103.8473776, 103.8472182, 103.8471684, null, 103.8477564, 103.8473776, null, 103.8484409, 103.8483394, 103.8477564, null, 103.8488909, 103.8484409, null, 103.8492581, 103.8488909, null, 103.8496014, 103.8495527, 103.8495175, 103.849492, 103.8494723, 103.8494488, 103.8493834, 103.8493479, 103.8493318, 103.84931, 103.8492838, 103.8492708, 103.8492581, null, 103.8496014, 103.8495896, 103.8495818, 103.8495815, 103.8495887, 103.8496029, 103.8496232, 103.8496483, 103.8496767, null, 103.8496767, 103.8497862, null, 103.8497862, 103.8498437, 103.8499626, 103.8500467, 103.8501184, 103.850192, null], \"marker\": {\"size\": 10}, \"mode\": \"lines\", \"name\": \"Optimal path - polylines\", \"type\": \"scattermapbox\"}, {\"lat\": [103.8550309], \"lon\": [1.2759796], \"marker\": {\"color\": \"red\", \"size\": 12}, \"mode\": \"markers\", \"name\": \"Source\", \"type\": \"scattermapbox\"}, {\"lat\": [103.850192], \"lon\": [1.2858658], \"marker\": {\"color\": \"green\", \"size\": 12}, \"mode\": \"markers\", \"name\": \"Destination\", \"type\": \"scattermapbox\"}],                        {\"mapbox\": {\"center\": {\"lat\": 1.2793762410688194, \"lon\": 103.84760150293073}, \"style\": \"open-street-map\", \"zoom\": 13}, \"margin\": {\"b\": 0, \"l\": 0, \"r\": 0, \"t\": 0}, \"template\": {\"data\": {\"bar\": [{\"error_x\": {\"color\": \"#2a3f5f\"}, \"error_y\": {\"color\": \"#2a3f5f\"}, \"marker\": {\"line\": {\"color\": \"#E5ECF6\", \"width\": 0.5}}, \"type\": \"bar\"}], \"barpolar\": [{\"marker\": {\"line\": {\"color\": \"#E5ECF6\", \"width\": 0.5}}, \"type\": \"barpolar\"}], \"carpet\": [{\"aaxis\": {\"endlinecolor\": \"#2a3f5f\", \"gridcolor\": \"white\", \"linecolor\": \"white\", \"minorgridcolor\": \"white\", \"startlinecolor\": \"#2a3f5f\"}, \"baxis\": {\"endlinecolor\": \"#2a3f5f\", \"gridcolor\": \"white\", \"linecolor\": \"white\", \"minorgridcolor\": \"white\", \"startlinecolor\": \"#2a3f5f\"}, \"type\": \"carpet\"}], \"choropleth\": [{\"colorbar\": {\"outlinewidth\": 0, \"ticks\": \"\"}, \"type\": \"choropleth\"}], \"contour\": [{\"colorbar\": {\"outlinewidth\": 0, \"ticks\": \"\"}, \"colorscale\": [[0.0, \"#0d0887\"], [0.1111111111111111, \"#46039f\"], [0.2222222222222222, \"#7201a8\"], [0.3333333333333333, \"#9c179e\"], [0.4444444444444444, \"#bd3786\"], [0.5555555555555556, \"#d8576b\"], [0.6666666666666666, \"#ed7953\"], [0.7777777777777778, \"#fb9f3a\"], [0.8888888888888888, \"#fdca26\"], [1.0, \"#f0f921\"]], \"type\": \"contour\"}], \"contourcarpet\": [{\"colorbar\": {\"outlinewidth\": 0, \"ticks\": \"\"}, \"type\": \"contourcarpet\"}], \"heatmap\": [{\"colorbar\": {\"outlinewidth\": 0, \"ticks\": \"\"}, \"colorscale\": [[0.0, \"#0d0887\"], [0.1111111111111111, \"#46039f\"], [0.2222222222222222, \"#7201a8\"], [0.3333333333333333, \"#9c179e\"], [0.4444444444444444, \"#bd3786\"], [0.5555555555555556, \"#d8576b\"], [0.6666666666666666, \"#ed7953\"], [0.7777777777777778, \"#fb9f3a\"], [0.8888888888888888, \"#fdca26\"], [1.0, \"#f0f921\"]], \"type\": \"heatmap\"}], \"heatmapgl\": [{\"colorbar\": {\"outlinewidth\": 0, \"ticks\": \"\"}, \"colorscale\": [[0.0, \"#0d0887\"], [0.1111111111111111, \"#46039f\"], [0.2222222222222222, \"#7201a8\"], [0.3333333333333333, \"#9c179e\"], [0.4444444444444444, \"#bd3786\"], [0.5555555555555556, \"#d8576b\"], [0.6666666666666666, \"#ed7953\"], [0.7777777777777778, \"#fb9f3a\"], [0.8888888888888888, \"#fdca26\"], [1.0, \"#f0f921\"]], \"type\": \"heatmapgl\"}], \"histogram\": [{\"marker\": {\"colorbar\": {\"outlinewidth\": 0, \"ticks\": \"\"}}, \"type\": \"histogram\"}], \"histogram2d\": [{\"colorbar\": {\"outlinewidth\": 0, \"ticks\": \"\"}, \"colorscale\": [[0.0, \"#0d0887\"], [0.1111111111111111, \"#46039f\"], [0.2222222222222222, \"#7201a8\"], [0.3333333333333333, \"#9c179e\"], [0.4444444444444444, \"#bd3786\"], [0.5555555555555556, \"#d8576b\"], [0.6666666666666666, \"#ed7953\"], [0.7777777777777778, \"#fb9f3a\"], [0.8888888888888888, \"#fdca26\"], [1.0, \"#f0f921\"]], \"type\": \"histogram2d\"}], \"histogram2dcontour\": [{\"colorbar\": {\"outlinewidth\": 0, \"ticks\": \"\"}, \"colorscale\": [[0.0, \"#0d0887\"], [0.1111111111111111, \"#46039f\"], [0.2222222222222222, \"#7201a8\"], [0.3333333333333333, \"#9c179e\"], [0.4444444444444444, \"#bd3786\"], [0.5555555555555556, \"#d8576b\"], [0.6666666666666666, \"#ed7953\"], [0.7777777777777778, \"#fb9f3a\"], [0.8888888888888888, \"#fdca26\"], [1.0, \"#f0f921\"]], \"type\": \"histogram2dcontour\"}], \"mesh3d\": [{\"colorbar\": {\"outlinewidth\": 0, \"ticks\": \"\"}, \"type\": \"mesh3d\"}], \"parcoords\": [{\"line\": {\"colorbar\": {\"outlinewidth\": 0, \"ticks\": \"\"}}, \"type\": \"parcoords\"}], \"pie\": [{\"automargin\": true, \"type\": \"pie\"}], \"scatter\": [{\"marker\": {\"colorbar\": {\"outlinewidth\": 0, \"ticks\": \"\"}}, \"type\": \"scatter\"}], \"scatter3d\": [{\"line\": {\"colorbar\": {\"outlinewidth\": 0, \"ticks\": \"\"}}, \"marker\": {\"colorbar\": {\"outlinewidth\": 0, \"ticks\": \"\"}}, \"type\": \"scatter3d\"}], \"scattercarpet\": [{\"marker\": {\"colorbar\": {\"outlinewidth\": 0, \"ticks\": \"\"}}, \"type\": \"scattercarpet\"}], \"scattergeo\": [{\"marker\": {\"colorbar\": {\"outlinewidth\": 0, \"ticks\": \"\"}}, \"type\": \"scattergeo\"}], \"scattergl\": [{\"marker\": {\"colorbar\": {\"outlinewidth\": 0, \"ticks\": \"\"}}, \"type\": \"scattergl\"}], \"scattermapbox\": [{\"marker\": {\"colorbar\": {\"outlinewidth\": 0, \"ticks\": \"\"}}, \"type\": \"scattermapbox\"}], \"scatterpolar\": [{\"marker\": {\"colorbar\": {\"outlinewidth\": 0, \"ticks\": \"\"}}, \"type\": \"scatterpolar\"}], \"scatterpolargl\": [{\"marker\": {\"colorbar\": {\"outlinewidth\": 0, \"ticks\": \"\"}}, \"type\": \"scatterpolargl\"}], \"scatterternary\": [{\"marker\": {\"colorbar\": {\"outlinewidth\": 0, \"ticks\": \"\"}}, \"type\": \"scatterternary\"}], \"surface\": [{\"colorbar\": {\"outlinewidth\": 0, \"ticks\": \"\"}, \"colorscale\": [[0.0, \"#0d0887\"], [0.1111111111111111, \"#46039f\"], [0.2222222222222222, \"#7201a8\"], [0.3333333333333333, \"#9c179e\"], [0.4444444444444444, \"#bd3786\"], [0.5555555555555556, \"#d8576b\"], [0.6666666666666666, \"#ed7953\"], [0.7777777777777778, \"#fb9f3a\"], [0.8888888888888888, \"#fdca26\"], [1.0, \"#f0f921\"]], \"type\": \"surface\"}], \"table\": [{\"cells\": {\"fill\": {\"color\": \"#EBF0F8\"}, \"line\": {\"color\": \"white\"}}, \"header\": {\"fill\": {\"color\": \"#C8D4E3\"}, \"line\": {\"color\": \"white\"}}, \"type\": \"table\"}]}, \"layout\": {\"annotationdefaults\": {\"arrowcolor\": \"#2a3f5f\", \"arrowhead\": 0, \"arrowwidth\": 1}, \"autotypenumbers\": \"strict\", \"coloraxis\": {\"colorbar\": {\"outlinewidth\": 0, \"ticks\": \"\"}}, \"colorscale\": {\"diverging\": [[0, \"#8e0152\"], [0.1, \"#c51b7d\"], [0.2, \"#de77ae\"], [0.3, \"#f1b6da\"], [0.4, \"#fde0ef\"], [0.5, \"#f7f7f7\"], [0.6, \"#e6f5d0\"], [0.7, \"#b8e186\"], [0.8, \"#7fbc41\"], [0.9, \"#4d9221\"], [1, \"#276419\"]], \"sequential\": [[0.0, \"#0d0887\"], [0.1111111111111111, \"#46039f\"], [0.2222222222222222, \"#7201a8\"], [0.3333333333333333, \"#9c179e\"], [0.4444444444444444, \"#bd3786\"], [0.5555555555555556, \"#d8576b\"], [0.6666666666666666, \"#ed7953\"], [0.7777777777777778, \"#fb9f3a\"], [0.8888888888888888, \"#fdca26\"], [1.0, \"#f0f921\"]], \"sequentialminus\": [[0.0, \"#0d0887\"], [0.1111111111111111, \"#46039f\"], [0.2222222222222222, \"#7201a8\"], [0.3333333333333333, \"#9c179e\"], [0.4444444444444444, \"#bd3786\"], [0.5555555555555556, \"#d8576b\"], [0.6666666666666666, \"#ed7953\"], [0.7777777777777778, \"#fb9f3a\"], [0.8888888888888888, \"#fdca26\"], [1.0, \"#f0f921\"]]}, \"colorway\": [\"#636efa\", \"#EF553B\", \"#00cc96\", \"#ab63fa\", \"#FFA15A\", \"#19d3f3\", \"#FF6692\", \"#B6E880\", \"#FF97FF\", \"#FECB52\"], \"font\": {\"color\": \"#2a3f5f\"}, \"geo\": {\"bgcolor\": \"white\", \"lakecolor\": \"white\", \"landcolor\": \"#E5ECF6\", \"showlakes\": true, \"showland\": true, \"subunitcolor\": \"white\"}, \"hoverlabel\": {\"align\": \"left\"}, \"hovermode\": \"closest\", \"mapbox\": {\"style\": \"light\"}, \"paper_bgcolor\": \"white\", \"plot_bgcolor\": \"#E5ECF6\", \"polar\": {\"angularaxis\": {\"gridcolor\": \"white\", \"linecolor\": \"white\", \"ticks\": \"\"}, \"bgcolor\": \"#E5ECF6\", \"radialaxis\": {\"gridcolor\": \"white\", \"linecolor\": \"white\", \"ticks\": \"\"}}, \"scene\": {\"xaxis\": {\"backgroundcolor\": \"#E5ECF6\", \"gridcolor\": \"white\", \"gridwidth\": 2, \"linecolor\": \"white\", \"showbackground\": true, \"ticks\": \"\", \"zerolinecolor\": \"white\"}, \"yaxis\": {\"backgroundcolor\": \"#E5ECF6\", \"gridcolor\": \"white\", \"gridwidth\": 2, \"linecolor\": \"white\", \"showbackground\": true, \"ticks\": \"\", \"zerolinecolor\": \"white\"}, \"zaxis\": {\"backgroundcolor\": \"#E5ECF6\", \"gridcolor\": \"white\", \"gridwidth\": 2, \"linecolor\": \"white\", \"showbackground\": true, \"ticks\": \"\", \"zerolinecolor\": \"white\"}}, \"shapedefaults\": {\"line\": {\"color\": \"#2a3f5f\"}}, \"ternary\": {\"aaxis\": {\"gridcolor\": \"white\", \"linecolor\": \"white\", \"ticks\": \"\"}, \"baxis\": {\"gridcolor\": \"white\", \"linecolor\": \"white\", \"ticks\": \"\"}, \"bgcolor\": \"#E5ECF6\", \"caxis\": {\"gridcolor\": \"white\", \"linecolor\": \"white\", \"ticks\": \"\"}}, \"title\": {\"x\": 0.05}, \"xaxis\": {\"automargin\": true, \"gridcolor\": \"white\", \"linecolor\": \"white\", \"ticks\": \"\", \"title\": {\"standoff\": 15}, \"zerolinecolor\": \"white\", \"zerolinewidth\": 2}, \"yaxis\": {\"automargin\": true, \"gridcolor\": \"white\", \"linecolor\": \"white\", \"ticks\": \"\", \"title\": {\"standoff\": 15}, \"zerolinecolor\": \"white\", \"zerolinewidth\": 2}}}},                        {\"responsive\": true}                    ).then(function(){\n",
       "                            \n",
       "var gd = document.getElementById('dd07ef93-785c-4417-97a4-075932fe9429');\n",
       "var x = new MutationObserver(function (mutations, observer) {{\n",
       "        var display = window.getComputedStyle(gd).display;\n",
       "        if (!display || display === 'none') {{\n",
       "            console.log([gd, 'removed!']);\n",
       "            Plotly.purge(gd);\n",
       "            observer.disconnect();\n",
       "        }}\n",
       "}});\n",
       "\n",
       "// Listen for the removal of the full notebook cells\n",
       "var notebookContainer = gd.closest('#notebook-container');\n",
       "if (notebookContainer) {{\n",
       "    x.observe(notebookContainer, {childList: true});\n",
       "}}\n",
       "\n",
       "// Listen for the clearing of the current output cell\n",
       "var outputEl = gd.closest('.output');\n",
       "if (outputEl) {{\n",
       "    x.observe(outputEl, {childList: true});\n",
       "}}\n",
       "\n",
       "                        })                };                });            </script>        </div>"
      ]
     },
     "metadata": {},
     "output_type": "display_data"
    }
   ],
   "source": [
    "dt.mapIt(start,end,weighted_G,dfNodes,dfEdges)"
   ]
  },
  {
   "cell_type": "code",
   "execution_count": null,
   "id": "9728c1b6",
   "metadata": {},
   "outputs": [],
   "source": []
  }
 ],
 "metadata": {
  "kernelspec": {
   "display_name": "Python 3",
   "language": "python",
   "name": "python3"
  },
  "language_info": {
   "codemirror_mode": {
    "name": "ipython",
    "version": 3
   },
   "file_extension": ".py",
   "mimetype": "text/x-python",
   "name": "python",
   "nbconvert_exporter": "python",
   "pygments_lexer": "ipython3",
   "version": "3.8.8"
  }
 },
 "nbformat": 4,
 "nbformat_minor": 5
}
